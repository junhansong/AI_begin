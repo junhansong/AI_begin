{
  "nbformat": 4,
  "nbformat_minor": 0,
  "metadata": {
    "colab": {
      "provenance": [],
      "include_colab_link": true
    },
    "kernelspec": {
      "name": "python3",
      "display_name": "Python 3"
    },
    "language_info": {
      "name": "python"
    }
  },
  "cells": [
    {
      "cell_type": "markdown",
      "metadata": {
        "id": "view-in-github",
        "colab_type": "text"
      },
      "source": [
        "<a href=\"https://colab.research.google.com/github/junhansong/AI_begin/blob/master/getting_started_with_colab.ipynb\" target=\"_parent\"><img src=\"https://colab.research.google.com/assets/colab-badge.svg\" alt=\"Open In Colab\"/></a>"
      ]
    },
    {
      "cell_type": "code",
      "execution_count": 1,
      "metadata": {
        "id": "Vd-Pw9H83Xvw"
      },
      "outputs": [],
      "source": [
        "x = 5\n",
        "y = 2"
      ]
    },
    {
      "cell_type": "markdown",
      "source": [
        "# 마크다운 살펴보기\n",
        "\n",
        "- 항목1\n",
        "- 항목2\n",
        "\n",
        "1. 아이템1\n",
        "1. 아이템2\n",
        "1. 아이템3\n",
        "\n",
        "[링크](https://tykimos.github.io)\n",
        "\n",
        "```python\n",
        "if x > 3:\n",
        "    print(x)\n",
        "```"
      ],
      "metadata": {
        "id": "x-ZghzHJOO2F"
      }
    },
    {
      "cell_type": "code",
      "source": [
        "z = x + y"
      ],
      "metadata": {
        "id": "uCyeGfis3zkE"
      },
      "execution_count": 2,
      "outputs": []
    },
    {
      "cell_type": "code",
      "source": [
        "print(z)"
      ],
      "metadata": {
        "colab": {
          "base_uri": "https://localhost:8080/"
        },
        "id": "kkfYhc9B31Ar",
        "outputId": "a6254162-ef95-4c37-e992-86b6000f1c85"
      },
      "execution_count": 3,
      "outputs": [
        {
          "output_type": "stream",
          "name": "stdout",
          "text": [
            "7\n"
          ]
        }
      ]
    },
    {
      "cell_type": "markdown",
      "source": [
        "실행 순서가 매우 중요\n",
        "- 수정된 코드가 있다면, 그 이후에 영향을 미치는 코드도 모두 수행해야 합니다."
      ],
      "metadata": {
        "id": "Fx7vfDT6x5NC"
      }
    },
    {
      "cell_type": "code",
      "source": [
        "for i in range(2, 10):  # 2부터 9까지의 숫자에 대해 반복\n",
        "    print(f\"{i}단\")\n",
        "    for j in range(1, 10):  # 1부터 9까지의 숫자에 대해 반복\n",
        "        result = i * j\n",
        "        print(f\"{i} x {j} = {result}\")\n",
        "    print()  # 한 단의 출력이 끝나면 빈 줄을 출력하여 구분합니다."
      ],
      "metadata": {
        "colab": {
          "base_uri": "https://localhost:8080/"
        },
        "id": "hwbAiqYs32bb",
        "outputId": "8c5ce39c-5cfe-464e-d4f0-3dfde969cbb8"
      },
      "execution_count": 4,
      "outputs": [
        {
          "output_type": "stream",
          "name": "stdout",
          "text": [
            "2단\n",
            "2 x 1 = 2\n",
            "2 x 2 = 4\n",
            "2 x 3 = 6\n",
            "2 x 4 = 8\n",
            "2 x 5 = 10\n",
            "2 x 6 = 12\n",
            "2 x 7 = 14\n",
            "2 x 8 = 16\n",
            "2 x 9 = 18\n",
            "\n",
            "3단\n",
            "3 x 1 = 3\n",
            "3 x 2 = 6\n",
            "3 x 3 = 9\n",
            "3 x 4 = 12\n",
            "3 x 5 = 15\n",
            "3 x 6 = 18\n",
            "3 x 7 = 21\n",
            "3 x 8 = 24\n",
            "3 x 9 = 27\n",
            "\n",
            "4단\n",
            "4 x 1 = 4\n",
            "4 x 2 = 8\n",
            "4 x 3 = 12\n",
            "4 x 4 = 16\n",
            "4 x 5 = 20\n",
            "4 x 6 = 24\n",
            "4 x 7 = 28\n",
            "4 x 8 = 32\n",
            "4 x 9 = 36\n",
            "\n",
            "5단\n",
            "5 x 1 = 5\n",
            "5 x 2 = 10\n",
            "5 x 3 = 15\n",
            "5 x 4 = 20\n",
            "5 x 5 = 25\n",
            "5 x 6 = 30\n",
            "5 x 7 = 35\n",
            "5 x 8 = 40\n",
            "5 x 9 = 45\n",
            "\n",
            "6단\n",
            "6 x 1 = 6\n",
            "6 x 2 = 12\n",
            "6 x 3 = 18\n",
            "6 x 4 = 24\n",
            "6 x 5 = 30\n",
            "6 x 6 = 36\n",
            "6 x 7 = 42\n",
            "6 x 8 = 48\n",
            "6 x 9 = 54\n",
            "\n",
            "7단\n",
            "7 x 1 = 7\n",
            "7 x 2 = 14\n",
            "7 x 3 = 21\n",
            "7 x 4 = 28\n",
            "7 x 5 = 35\n",
            "7 x 6 = 42\n",
            "7 x 7 = 49\n",
            "7 x 8 = 56\n",
            "7 x 9 = 63\n",
            "\n",
            "8단\n",
            "8 x 1 = 8\n",
            "8 x 2 = 16\n",
            "8 x 3 = 24\n",
            "8 x 4 = 32\n",
            "8 x 5 = 40\n",
            "8 x 6 = 48\n",
            "8 x 7 = 56\n",
            "8 x 8 = 64\n",
            "8 x 9 = 72\n",
            "\n",
            "9단\n",
            "9 x 1 = 9\n",
            "9 x 2 = 18\n",
            "9 x 3 = 27\n",
            "9 x 4 = 36\n",
            "9 x 5 = 45\n",
            "9 x 6 = 54\n",
            "9 x 7 = 63\n",
            "9 x 8 = 72\n",
            "9 x 9 = 81\n",
            "\n"
          ]
        }
      ]
    },
    {
      "cell_type": "markdown",
      "source": [
        "# 코랩 사용자 데이터 설정 및 확인\n",
        "\n",
        "소스코드에 Key 할당이 되어 있음\n",
        "- 소스코드를 공유하면 Key 공개\n",
        "- 여러 실습을 할 때 매번 Key 수정해야 함\n",
        "\n",
        "이를 해결하고자 코랩 사용자 데이터 설정을 이용합니다.\n",
        "\n",
        "1. 구글 코랩에 로그인을 수행합니다.\n",
        "1. 왼쪽 사이드바 메뉴에서 \"키\" 모양을 선택합니다.\n",
        "1. \"+ 새 보안 비밀 추가\"를 클릭합니다.\n",
        "1. 이름에 \"OPENAI_API_KEY\"을 입력하고 값에 할당받은 키를 입력합니다.\n",
        "1. 눈 모양을 선택하면 설정된 키를 보실 수 있습니다.\n",
        "1. 아래 코드로 설정된 키를 확인할 수 있습니다."
      ],
      "metadata": {
        "id": "NwRwYuqit9JM"
      }
    },
    {
      "cell_type": "code",
      "source": [
        "from google.colab import userdata\n",
        "\n",
        "openai_api_key = userdata.get('OPENAI_API_KEY')\n",
        "\n",
        "print(openai_api_key)"
      ],
      "metadata": {
        "colab": {
          "base_uri": "https://localhost:8080/"
        },
        "id": "T2XDDq5st_Nd",
        "outputId": "555392ec-7fab-4ca1-faf8-41524ad0e39c"
      },
      "execution_count": 4,
      "outputs": [
        {
          "output_type": "stream",
          "name": "stdout",
          "text": [
            "sk-proj-pwBNs3MO097LE3gNVx4kT3BlbkFJ1rGKvD6AVz4db4XEA4yZ\n"
          ]
        }
      ]
    }
  ]
}