{
  "nbformat": 4,
  "nbformat_minor": 0,
  "metadata": {
    "colab": {
      "provenance": [],
      "gpuType": "T4",
      "include_colab_link": true
    },
    "kernelspec": {
      "name": "python3",
      "display_name": "Python 3"
    },
    "language_info": {
      "name": "python"
    },
    "accelerator": "GPU"
  },
  "cells": [
    {
      "cell_type": "markdown",
      "metadata": {
        "id": "view-in-github",
        "colab_type": "text"
      },
      "source": [
        "<a href=\"https://colab.research.google.com/github/junhansong/AI_begin/blob/master/ChatGPT_LangChain_%EA%B5%AD%EC%84%B8QA.ipynb\" target=\"_parent\"><img src=\"https://colab.research.google.com/assets/colab-badge.svg\" alt=\"Open In Colab\"/></a>"
      ]
    },
    {
      "cell_type": "markdown",
      "source": [
        "Link : https://medium.com/sopmac-ai/chatgpt-langchain-example-for-chatbot-q-a-a8b6ef40bbb6"
      ],
      "metadata": {
        "id": "NelpC00Rk8-U"
      }
    },
    {
      "cell_type": "code",
      "source": [
        "\n",
        "# 연관 라이브러리\n",
        "\n",
        "!pip install python-dotenv\n",
        "# !pip install faiss\n",
        "!pip install langchain\n",
        "!pip install openai\n",
        "!pip install tiktoken\n",
        "# for CPU\n",
        "# !apt install libomp-dev\n",
        "# !pip install faiss\n",
        "\n",
        "# for GPU\n",
        "!pip install faiss-gpu\n"
      ],
      "metadata": {
        "id": "V6CJGxqdlGqG",
        "colab": {
          "base_uri": "https://localhost:8080/"
        },
        "outputId": "d2b2d01b-d1b4-454e-9943-1f7cd53f5c91"
      },
      "execution_count": null,
      "outputs": [
        {
          "output_type": "stream",
          "name": "stdout",
          "text": [
            "Collecting python-dotenv\n",
            "  Downloading python_dotenv-1.0.1-py3-none-any.whl (19 kB)\n",
            "Installing collected packages: python-dotenv\n",
            "Successfully installed python-dotenv-1.0.1\n",
            "Collecting langchain\n",
            "  Downloading langchain-0.1.17-py3-none-any.whl (867 kB)\n",
            "\u001b[2K     \u001b[90m━━━━━━━━━━━━━━━━━━━━━━━━━━━━━━━━━━━━━━━━\u001b[0m \u001b[32m867.6/867.6 kB\u001b[0m \u001b[31m7.0 MB/s\u001b[0m eta \u001b[36m0:00:00\u001b[0m\n",
            "\u001b[?25hRequirement already satisfied: PyYAML>=5.3 in /usr/local/lib/python3.10/dist-packages (from langchain) (6.0.1)\n",
            "Requirement already satisfied: SQLAlchemy<3,>=1.4 in /usr/local/lib/python3.10/dist-packages (from langchain) (2.0.29)\n",
            "Requirement already satisfied: aiohttp<4.0.0,>=3.8.3 in /usr/local/lib/python3.10/dist-packages (from langchain) (3.9.5)\n",
            "Requirement already satisfied: async-timeout<5.0.0,>=4.0.0 in /usr/local/lib/python3.10/dist-packages (from langchain) (4.0.3)\n",
            "Collecting dataclasses-json<0.7,>=0.5.7 (from langchain)\n",
            "  Downloading dataclasses_json-0.6.5-py3-none-any.whl (28 kB)\n",
            "Collecting jsonpatch<2.0,>=1.33 (from langchain)\n",
            "  Downloading jsonpatch-1.33-py2.py3-none-any.whl (12 kB)\n",
            "Collecting langchain-community<0.1,>=0.0.36 (from langchain)\n",
            "  Downloading langchain_community-0.0.36-py3-none-any.whl (2.0 MB)\n",
            "\u001b[2K     \u001b[90m━━━━━━━━━━━━━━━━━━━━━━━━━━━━━━━━━━━━━━━━\u001b[0m \u001b[32m2.0/2.0 MB\u001b[0m \u001b[31m16.0 MB/s\u001b[0m eta \u001b[36m0:00:00\u001b[0m\n",
            "\u001b[?25hCollecting langchain-core<0.2.0,>=0.1.48 (from langchain)\n",
            "  Downloading langchain_core-0.1.50-py3-none-any.whl (302 kB)\n",
            "\u001b[2K     \u001b[90m━━━━━━━━━━━━━━━━━━━━━━━━━━━━━━━━━━━━━━━━\u001b[0m \u001b[32m302.8/302.8 kB\u001b[0m \u001b[31m17.0 MB/s\u001b[0m eta \u001b[36m0:00:00\u001b[0m\n",
            "\u001b[?25hCollecting langchain-text-splitters<0.1,>=0.0.1 (from langchain)\n",
            "  Downloading langchain_text_splitters-0.0.1-py3-none-any.whl (21 kB)\n",
            "Collecting langsmith<0.2.0,>=0.1.17 (from langchain)\n",
            "  Downloading langsmith-0.1.53-py3-none-any.whl (116 kB)\n",
            "\u001b[2K     \u001b[90m━━━━━━━━━━━━━━━━━━━━━━━━━━━━━━━━━━━━━━━━\u001b[0m \u001b[32m116.4/116.4 kB\u001b[0m \u001b[31m11.8 MB/s\u001b[0m eta \u001b[36m0:00:00\u001b[0m\n",
            "\u001b[?25hRequirement already satisfied: numpy<2,>=1 in /usr/local/lib/python3.10/dist-packages (from langchain) (1.25.2)\n",
            "Requirement already satisfied: pydantic<3,>=1 in /usr/local/lib/python3.10/dist-packages (from langchain) (2.7.1)\n",
            "Requirement already satisfied: requests<3,>=2 in /usr/local/lib/python3.10/dist-packages (from langchain) (2.31.0)\n",
            "Requirement already satisfied: tenacity<9.0.0,>=8.1.0 in /usr/local/lib/python3.10/dist-packages (from langchain) (8.2.3)\n",
            "Requirement already satisfied: aiosignal>=1.1.2 in /usr/local/lib/python3.10/dist-packages (from aiohttp<4.0.0,>=3.8.3->langchain) (1.3.1)\n",
            "Requirement already satisfied: attrs>=17.3.0 in /usr/local/lib/python3.10/dist-packages (from aiohttp<4.0.0,>=3.8.3->langchain) (23.2.0)\n",
            "Requirement already satisfied: frozenlist>=1.1.1 in /usr/local/lib/python3.10/dist-packages (from aiohttp<4.0.0,>=3.8.3->langchain) (1.4.1)\n",
            "Requirement already satisfied: multidict<7.0,>=4.5 in /usr/local/lib/python3.10/dist-packages (from aiohttp<4.0.0,>=3.8.3->langchain) (6.0.5)\n",
            "Requirement already satisfied: yarl<2.0,>=1.0 in /usr/local/lib/python3.10/dist-packages (from aiohttp<4.0.0,>=3.8.3->langchain) (1.9.4)\n",
            "Collecting marshmallow<4.0.0,>=3.18.0 (from dataclasses-json<0.7,>=0.5.7->langchain)\n",
            "  Downloading marshmallow-3.21.2-py3-none-any.whl (49 kB)\n",
            "\u001b[2K     \u001b[90m━━━━━━━━━━━━━━━━━━━━━━━━━━━━━━━━━━━━━━━━\u001b[0m \u001b[32m49.3/49.3 kB\u001b[0m \u001b[31m5.0 MB/s\u001b[0m eta \u001b[36m0:00:00\u001b[0m\n",
            "\u001b[?25hCollecting typing-inspect<1,>=0.4.0 (from dataclasses-json<0.7,>=0.5.7->langchain)\n",
            "  Downloading typing_inspect-0.9.0-py3-none-any.whl (8.8 kB)\n",
            "Collecting jsonpointer>=1.9 (from jsonpatch<2.0,>=1.33->langchain)\n",
            "  Downloading jsonpointer-2.4-py2.py3-none-any.whl (7.8 kB)\n",
            "Collecting packaging<24.0,>=23.2 (from langchain-core<0.2.0,>=0.1.48->langchain)\n",
            "  Downloading packaging-23.2-py3-none-any.whl (53 kB)\n",
            "\u001b[2K     \u001b[90m━━━━━━━━━━━━━━━━━━━━━━━━━━━━━━━━━━━━━━━━\u001b[0m \u001b[32m53.0/53.0 kB\u001b[0m \u001b[31m5.6 MB/s\u001b[0m eta \u001b[36m0:00:00\u001b[0m\n",
            "\u001b[?25hCollecting orjson<4.0.0,>=3.9.14 (from langsmith<0.2.0,>=0.1.17->langchain)\n",
            "  Downloading orjson-3.10.2-cp310-cp310-manylinux_2_17_x86_64.manylinux2014_x86_64.whl (142 kB)\n",
            "\u001b[2K     \u001b[90m━━━━━━━━━━━━━━━━━━━━━━━━━━━━━━━━━━━━━━━━\u001b[0m \u001b[32m142.7/142.7 kB\u001b[0m \u001b[31m4.4 MB/s\u001b[0m eta \u001b[36m0:00:00\u001b[0m\n",
            "\u001b[?25hRequirement already satisfied: annotated-types>=0.4.0 in /usr/local/lib/python3.10/dist-packages (from pydantic<3,>=1->langchain) (0.6.0)\n",
            "Requirement already satisfied: pydantic-core==2.18.2 in /usr/local/lib/python3.10/dist-packages (from pydantic<3,>=1->langchain) (2.18.2)\n",
            "Requirement already satisfied: typing-extensions>=4.6.1 in /usr/local/lib/python3.10/dist-packages (from pydantic<3,>=1->langchain) (4.11.0)\n",
            "Requirement already satisfied: charset-normalizer<4,>=2 in /usr/local/lib/python3.10/dist-packages (from requests<3,>=2->langchain) (3.3.2)\n",
            "Requirement already satisfied: idna<4,>=2.5 in /usr/local/lib/python3.10/dist-packages (from requests<3,>=2->langchain) (3.7)\n",
            "Requirement already satisfied: urllib3<3,>=1.21.1 in /usr/local/lib/python3.10/dist-packages (from requests<3,>=2->langchain) (2.0.7)\n",
            "Requirement already satisfied: certifi>=2017.4.17 in /usr/local/lib/python3.10/dist-packages (from requests<3,>=2->langchain) (2024.2.2)\n",
            "Requirement already satisfied: greenlet!=0.4.17 in /usr/local/lib/python3.10/dist-packages (from SQLAlchemy<3,>=1.4->langchain) (3.0.3)\n",
            "Collecting mypy-extensions>=0.3.0 (from typing-inspect<1,>=0.4.0->dataclasses-json<0.7,>=0.5.7->langchain)\n",
            "  Downloading mypy_extensions-1.0.0-py3-none-any.whl (4.7 kB)\n",
            "Installing collected packages: packaging, orjson, mypy-extensions, jsonpointer, typing-inspect, marshmallow, jsonpatch, langsmith, dataclasses-json, langchain-core, langchain-text-splitters, langchain-community, langchain\n",
            "  Attempting uninstall: packaging\n",
            "    Found existing installation: packaging 24.0\n",
            "    Uninstalling packaging-24.0:\n",
            "      Successfully uninstalled packaging-24.0\n",
            "Successfully installed dataclasses-json-0.6.5 jsonpatch-1.33 jsonpointer-2.4 langchain-0.1.17 langchain-community-0.0.36 langchain-core-0.1.50 langchain-text-splitters-0.0.1 langsmith-0.1.53 marshmallow-3.21.2 mypy-extensions-1.0.0 orjson-3.10.2 packaging-23.2 typing-inspect-0.9.0\n",
            "Collecting openai\n",
            "  Downloading openai-1.25.1-py3-none-any.whl (312 kB)\n",
            "\u001b[2K     \u001b[90m━━━━━━━━━━━━━━━━━━━━━━━━━━━━━━━━━━━━━━━━\u001b[0m \u001b[32m312.9/312.9 kB\u001b[0m \u001b[31m6.7 MB/s\u001b[0m eta \u001b[36m0:00:00\u001b[0m\n",
            "\u001b[?25hRequirement already satisfied: anyio<5,>=3.5.0 in /usr/local/lib/python3.10/dist-packages (from openai) (3.7.1)\n",
            "Requirement already satisfied: distro<2,>=1.7.0 in /usr/lib/python3/dist-packages (from openai) (1.7.0)\n",
            "Collecting httpx<1,>=0.23.0 (from openai)\n",
            "  Downloading httpx-0.27.0-py3-none-any.whl (75 kB)\n",
            "\u001b[2K     \u001b[90m━━━━━━━━━━━━━━━━━━━━━━━━━━━━━━━━━━━━━━━━\u001b[0m \u001b[32m75.6/75.6 kB\u001b[0m \u001b[31m10.7 MB/s\u001b[0m eta \u001b[36m0:00:00\u001b[0m\n",
            "\u001b[?25hRequirement already satisfied: pydantic<3,>=1.9.0 in /usr/local/lib/python3.10/dist-packages (from openai) (2.7.1)\n",
            "Requirement already satisfied: sniffio in /usr/local/lib/python3.10/dist-packages (from openai) (1.3.1)\n",
            "Requirement already satisfied: tqdm>4 in /usr/local/lib/python3.10/dist-packages (from openai) (4.66.2)\n",
            "Requirement already satisfied: typing-extensions<5,>=4.7 in /usr/local/lib/python3.10/dist-packages (from openai) (4.11.0)\n",
            "Requirement already satisfied: idna>=2.8 in /usr/local/lib/python3.10/dist-packages (from anyio<5,>=3.5.0->openai) (3.7)\n",
            "Requirement already satisfied: exceptiongroup in /usr/local/lib/python3.10/dist-packages (from anyio<5,>=3.5.0->openai) (1.2.1)\n",
            "Requirement already satisfied: certifi in /usr/local/lib/python3.10/dist-packages (from httpx<1,>=0.23.0->openai) (2024.2.2)\n",
            "Collecting httpcore==1.* (from httpx<1,>=0.23.0->openai)\n",
            "  Downloading httpcore-1.0.5-py3-none-any.whl (77 kB)\n",
            "\u001b[2K     \u001b[90m━━━━━━━━━━━━━━━━━━━━━━━━━━━━━━━━━━━━━━━━\u001b[0m \u001b[32m77.9/77.9 kB\u001b[0m \u001b[31m5.9 MB/s\u001b[0m eta \u001b[36m0:00:00\u001b[0m\n",
            "\u001b[?25hCollecting h11<0.15,>=0.13 (from httpcore==1.*->httpx<1,>=0.23.0->openai)\n",
            "  Downloading h11-0.14.0-py3-none-any.whl (58 kB)\n",
            "\u001b[2K     \u001b[90m━━━━━━━━━━━━━━━━━━━━━━━━━━━━━━━━━━━━━━━━\u001b[0m \u001b[32m58.3/58.3 kB\u001b[0m \u001b[31m8.6 MB/s\u001b[0m eta \u001b[36m0:00:00\u001b[0m\n",
            "\u001b[?25hRequirement already satisfied: annotated-types>=0.4.0 in /usr/local/lib/python3.10/dist-packages (from pydantic<3,>=1.9.0->openai) (0.6.0)\n",
            "Requirement already satisfied: pydantic-core==2.18.2 in /usr/local/lib/python3.10/dist-packages (from pydantic<3,>=1.9.0->openai) (2.18.2)\n",
            "Installing collected packages: h11, httpcore, httpx, openai\n",
            "Successfully installed h11-0.14.0 httpcore-1.0.5 httpx-0.27.0 openai-1.25.1\n",
            "Collecting tiktoken\n",
            "  Downloading tiktoken-0.6.0-cp310-cp310-manylinux_2_17_x86_64.manylinux2014_x86_64.whl (1.8 MB)\n",
            "\u001b[2K     \u001b[90m━━━━━━━━━━━━━━━━━━━━━━━━━━━━━━━━━━━━━━━━\u001b[0m \u001b[32m1.8/1.8 MB\u001b[0m \u001b[31m13.9 MB/s\u001b[0m eta \u001b[36m0:00:00\u001b[0m\n",
            "\u001b[?25hRequirement already satisfied: regex>=2022.1.18 in /usr/local/lib/python3.10/dist-packages (from tiktoken) (2023.12.25)\n",
            "Requirement already satisfied: requests>=2.26.0 in /usr/local/lib/python3.10/dist-packages (from tiktoken) (2.31.0)\n",
            "Requirement already satisfied: charset-normalizer<4,>=2 in /usr/local/lib/python3.10/dist-packages (from requests>=2.26.0->tiktoken) (3.3.2)\n",
            "Requirement already satisfied: idna<4,>=2.5 in /usr/local/lib/python3.10/dist-packages (from requests>=2.26.0->tiktoken) (3.7)\n",
            "Requirement already satisfied: urllib3<3,>=1.21.1 in /usr/local/lib/python3.10/dist-packages (from requests>=2.26.0->tiktoken) (2.0.7)\n",
            "Requirement already satisfied: certifi>=2017.4.17 in /usr/local/lib/python3.10/dist-packages (from requests>=2.26.0->tiktoken) (2024.2.2)\n"
          ]
        }
      ]
    },
    {
      "cell_type": "code",
      "source": [
        "import urllib.request\n",
        "import os\n",
        "\n",
        "\n",
        "# txt 경로\n",
        "txt_url = \"https://github.com/swkang1062/Test/raw/main/Tax_info.txt\"\n",
        "txt_dir = \"./\"\n",
        "txt_file =  'Tax_info.txt'\n",
        "txt_path = os.path.join(txt_dir, txt_file)\n",
        "urllib.request.urlretrieve(txt_url, txt_path)"
      ],
      "metadata": {
        "id": "PiuXrz40lLvF",
        "colab": {
          "base_uri": "https://localhost:8080/"
        },
        "outputId": "f102edcb-cfc0-4948-fa31-a92fc3848c81"
      },
      "execution_count": null,
      "outputs": [
        {
          "output_type": "execute_result",
          "data": {
            "text/plain": [
              "('./Tax_info.txt', <http.client.HTTPMessage at 0x7cb89e3192a0>)"
            ]
          },
          "metadata": {},
          "execution_count": 2
        }
      ]
    },
    {
      "cell_type": "code",
      "source": [
        "!cat Tax_info.txt"
      ],
      "metadata": {
        "id": "wI_m4AXPoLp_",
        "colab": {
          "base_uri": "https://localhost:8080/"
        },
        "outputId": "4310bce8-17eb-4f8e-b118-aee3ec63b4d7"
      },
      "execution_count": null,
      "outputs": [
        {
          "output_type": "stream",
          "name": "stdout",
          "text": [
            "종합소득세 신고·납부\n",
            "당해 과세기간에 종합소득금액이 있는 자는 다음해 5월 1일부터 5월 31일(성실신고확인서 제출자는 6월 30일)까지 종합소득세를 신고·납부하여야 합니다(소득세법 §70, §70조의2).\n",
            "종합소득 : 이자·배당·사업(부동산임대)·근로·연금·기타소득\n",
            "* 신고납부기한이 공휴일, 토요일인 경우 그 다음날까지 신고납부 가능\n",
            "\n",
            "2022년 귀속 종합소득세 확정신고·납부와 관련하여 국세청에서는 적극행정의 일환으로 수출 부진 및 산불 피해로 어려움을 겪는 납세자에게 아래와 같이 납부기한을 8.31.까지 직권연장하는 등 세정지원을 실시하고 있습니다.\n",
            "1성실신고확인서 대상 외 : ’23.5.31.→’23.8.31.(3개월 직권 연장)\n",
            "2성실신고확인서 제출자 : ’23.6.30.→’23.8.31.(2개월 직권 연장)\n",
            "〈 ’22년 귀속 종합소득세 확정신고 시 납부기한 직권 연장 내용〉\n",
            "’22년 귀속 종합소득세 확정신고 시 납부기한 직권 연장 내용 - 구분, 지원대상, 요건, 제외\n",
            "구분\t지원대상\t요건\t제외\n",
            "수출기업\t\n",
            "1’22년 수출액이 매출액의 50% 이상이고 매출과표 5억 원 이상이거나\n",
            "2관세청·KOTRA가 선정한 수출 관련 개입사업자\n",
            "23.5.31.까지\n",
            "소득세 신고\n",
            "(성실신고확인서\n",
            "제출자는 6.30.)\t금융소득 2천만원 초과자\n",
            "산불피해\t전국적 산불(’23년 4월)로 인해 특별재난지역*으로 선포된 지역에 주소지를 두고 있는 납세자\n",
            "* [대전] 서구, [충북] 옥천군, [충남] 홍성군·금산군·당진시·보령시·부여군, [전남] 함평군·순천시,\n",
            " [경북] 영주시, [강원] 강릉시\n",
            "\n",
            "해당 없음\n",
            "납부기한 직권연장된 경우 분납기한도 ’23.10.31.까지 연장됩니다.\n",
            "직권연장 대상이 아닌 납세자도 신고∙납부에 어려움이 있어 연장신청을 하는 경우 적극 지원합니다.\n",
            "* [홈택스] 로그인 > 신청/제출 > 주요세무서류신청바로가기 > 신고분 납부기한 연장신청\n",
            "* [손택스] 로그인 > 신청/제출 > 세무서류신청-공통분야 > 신고분 납부기한 연장신청\n",
            "\n",
            "다음의 경우에 해당되면 종합소득세를 확정신고하지 않아도 됩니다.\n",
            "근로소득만 있는 자로서 연말정산을 한 경우\n",
            "다만, 다음에 해당하는 경우는 확정신고하여야 합니다.\n",
            "2인 이상으로부터 받는 근로소득･공적연금소득･퇴직소득 또는 연말정산대상 사업소득이 있는 경우(주된 근무지에서 종된 근무지 소득을 합산하여 연말정산에 의하여 소득세를 납부함으로써 확정신고 납부할 세액이 없는 경우 제외)\n",
            "원천징수의무가 없는 근로소득 또는 퇴직소득이 있는 경우(납세조합이 연말정산에 의하여 소득세를 납부한 자와 비거주연예인 등의 용역제공과 관련된 원천징수절차특례 규정에 따라 소득세를 납부한 경우 제외)\n",
            "연말정산을 하지 아니한 경우\n",
            "직전 과세기간의 수입금액이 7,500만원 미만이고, 다른 소득이 없는 보험모집인‧방문판매원 계약배달 판매원의 사업소득으로서 소속회사에서 연말정산을 한 경우\n",
            "퇴직소득과 연말정산대상 사업소득만 있는 경우\n",
            "비과세 또는 분리과세되는 소득만 있는 경우\n",
            "연 300만원 이하인 기타소득이 있는 자로서 분리과세를 원하는 경우 등\n",
            "개인지방소득세는 2020.1.1. 이후부터 귀속연도와 무관하게 지방자치단체의 장(시·군·구청장)에게 신고(과세표준확정신고, 수정신고, 경정청구)해야 합니다.\n",
            "홈택스(국세)와 위택스(지방세)를 실시간 연계하는 원클릭 전자신고시스템을 통해 국세와 지방세를 동시에 편리하게 신고할 수 있습니다.\n",
            "※ 홈택스(www.hometax.go.kr) 전자신고 : 종합소득세신고바로가기 → 로그인 → 신고서 선택 → 신고서 작성 및 제출 → 「Step2 신고내역」 또는 「전자신고결과조회」 화면에서 「지방소득세 신고」 버튼 → (위택스 자동전환)지방소득세 신고서 작성 및 제출\n",
            "\n",
            "장부의 비치·기장\n",
            "소득세는 사업자가 스스로 본인의 소득을 계산하여 신고·납부하는 세금이므로, 모든 사업자는 장부를 비치·기록하여야 합니다(소득세법 §160, 소득세법 시행령§208).\n",
            "간편장부대상자(소득세법 시행령 §208)\n",
            "해당 과세기간에 신규로 사업을 시작하였거나\n",
            "직전 과세기간의 수입금액(결정 또는 경정으로 증가된 수입금액을 포함)의 합계액이 아래에 해당하는 사업자를 말합니다.\n",
            "간편장부대상자(소득세법 시행령 §208) - 업종구분, 직전 과세기간 수입금액 포함\n",
            "업 종 구 분\t직전 과세기간 수입금액\n",
            "1농업·임업 및 어업, 광업, 도매 및 소매업(상품중개업 제외), 부동산매매업, 그 밖에 아래 ②, ③에 해당하지 아니하는 사업\n",
            "3억원 미만\n",
            "2제조업, 숙박 및 음식점업, 전기·가스·증기 및 수도사업, 하수‧폐기물처리·원료재생 및 환경복원업, 건설업(비주거용 건물 건설업은 제외), 부동산 개발 및 공급업(주거용 건물 개발 및 공급업에 한함), 운수업, 출판·영상·방송통신 및 정보서비스업, 금융 및 보험업, 상품중개업, 욕탕업\n",
            "1억 5천만원 미만\n",
            "3부동산임대업, 부동산업(부동산매매업은 제외), 전문·과학·기술서비스업, 사업시설관리·사업지원 및 임대서비스업, 교육서비스업,\n",
            "보건업 및 사회복지서비스업, 예술·스포츠 및 여가 관련 서비스업, 협회 및 단체, 수리 및 기타 개인서비스업，가구내 고용활동\n",
            "7천 500만원 미만\n",
            "※ 단, 전문직사업자는 2007.1.1. 이후 발생하는 소득분부터 수입금액에 상관없이 복식부기 의무가 부여됨.\n",
            "\n",
            "복식부기의무자\n",
            "간편장부대상자 이외의 모든 사업자는 재산상태와 손익거래 내용의 변동을 빠짐없이 거래시마다 차변과 대변으로 나누어 기록한 장부를 기록·보관하여야 하며, 이를 기초로 작성된 재무제표를 신고서와 함께 제출하여야 합니다.\n",
            "장부를 기장하지 않는 경우의 불이익\n",
            "복식부기의무자가 장부를 기장하지 않아 추계신고할 경우 무신고가산세 [수입금액의 0.07%와 무신고납부세액의 20%(부정무신고시 40%, 국제거래 수반한 부정무신고시 60%) 중 큰 금액]와 무기장가산세(산출세액의 20%)중 큰 금액을 가산세로 부담하게 됩니다.\n",
            "간편장부대상자는 산출세액의 20%를 무기장가산세로 부담하게 됩니다.(다만, 직전 과세기간의 수입금액이 4,800만원 미만인 소규모 사업자 등은 제외)\n",
            "결손금액이 발생하더라도 이를 인정받지 못합니다.\n",
            "소득금액 계산\n",
            "장부를 비치·기록하고 있는 사업자는 총수입금액에서 필요경비를 공제하여 계산합니다.\n",
            "장부를 비치·기장하지 않은 사업자의 소득금액은 다음과 같이 계산합니다.\n",
            "1)기준경비율적용 대상자(①, ② 중 작은금액)\n",
            "1소득금액 = 수입금액 - 주요경비* - (수입금액 × 기준경비율(1))\n",
            "* 주요경비 = 매입비용 + 임차료 + 인건비\n",
            "\n",
            "2소득금액 = {수입금액 - (수입금액 × 단순경비율)} × 배율(2)\n",
            "(1) 복식부기의무자의 경우 추계과세 시 기준경비율의 1/2을 적용하여 계산\n",
            "\n",
            "(2) 2020년 귀속 배율 : 간편장부대상자 2.8배, 복식부기의무자 3.4배\n",
            "\n",
            "2)단순경비율적용 대상자\n",
            "소득금액 = 수입금액 - (수입금액 × 단순경비율)\n",
            "* 단순경비율 대상자의 소득금액 계산시 ‘일자리 안정자금’은 수입금액에서 제외(’20.2.11. 이후 결정·경정하는 분부터)\n",
            "\n",
            "신고를 하지 않을 경우의 불이익\n",
            "각종 세액공제 및 감면을 받을 수 없습니다.\n",
            "무거운 가산세를 부담하게 됩니다.\n",
            "가산세 부과 - 종류, 부과사유, 가산세액 포함\n",
            "종 류\t부과사유\t가 산 세 액\n",
            "무신고 가산세\t일반무신고\t무신고납부세액×20%\n",
            "일반무신고(복식부기의무자)\tMAX[①, ②]\n",
            "① 무신고납부세액×20%\n",
            "\n",
            "② 수입금액×0.07%\n",
            "\n",
            "부정무신고\t무신고납부세액×40%(국제거래 수반시 60%)\n",
            "부정무신고(복식부기의무자)\tMAX[①, ②]\n",
            "① 무신고납부세액×40%(국제거래 수반시 60%),\n",
            "\n",
            "② 수입금액×0.14%\n",
            "\n",
            "납부지연가산세\t미납·미달납부\t미납·미달납부세액×미납기간×0.022%(2022.2.16.이후부터)\n",
            "※ 미납기간: 납부기한 다음날～자진납부일(납세고지일)\n",
            "\n",
            "※ 무신고가산세와 무기장가산세(산출세액의 20%)와 동시에 적용되는 경우에는 그 중 가산세액이 큰 가산세를 적용합니다.\n"
          ]
        }
      ]
    },
    {
      "cell_type": "code",
      "source": [
        "from getpass import getpass\n",
        "\n",
        "OPENAI_API_KEY = getpass()"
      ],
      "metadata": {
        "id": "0xpu6Ej2Qw51",
        "colab": {
          "base_uri": "https://localhost:8080/"
        },
        "outputId": "78fccca7-57ae-4a07-e9e5-24a3eb0c7e19"
      },
      "execution_count": null,
      "outputs": [
        {
          "name": "stdout",
          "output_type": "stream",
          "text": [
            "··········\n"
          ]
        }
      ]
    },
    {
      "cell_type": "code",
      "execution_count": null,
      "metadata": {
        "id": "2v3w1yb1k1xr",
        "colab": {
          "base_uri": "https://localhost:8080/"
        },
        "outputId": "5af04ff3-91eb-4241-e538-8da31491a964"
      },
      "outputs": [
        {
          "output_type": "stream",
          "name": "stdout",
          "text": [
            "len(docs) ==  5\n"
          ]
        },
        {
          "output_type": "stream",
          "name": "stderr",
          "text": [
            "/usr/local/lib/python3.10/dist-packages/langchain_core/_api/deprecation.py:119: LangChainDeprecationWarning: The class `OpenAIEmbeddings` was deprecated in LangChain 0.0.9 and will be removed in 0.2.0. An updated version of the class exists in the langchain-openai package and should be used instead. To use it run `pip install -U langchain-openai` and import as `from langchain_openai import OpenAIEmbeddings`.\n",
            "  warn_deprecated(\n"
          ]
        },
        {
          "output_type": "stream",
          "name": "stdout",
          "text": [
            "faissIndex ==  <langchain_community.vectorstores.faiss.FAISS object at 0x7cb86af88e20>\n"
          ]
        }
      ],
      "source": [
        "import dotenv\n",
        "from langchain.embeddings.openai import OpenAIEmbeddings\n",
        "from langchain.text_splitter import CharacterTextSplitter\n",
        "from langchain.vectorstores import FAISS\n",
        "from langchain.document_loaders import TextLoader\n",
        "import os\n",
        "\n",
        "os.environ[\"OPENAI_API_KEY\"] = OPENAI_API_KEY\n",
        "\n",
        "\n",
        "# loads .env file with your OPENAI_API_KEY\n",
        "dotenv.load_dotenv()\n",
        "\n",
        "# Tax Info from https://www.nts.go.kr/nts/cm/cntnts/cntntsView.do?mi=2224&cntntsId=7664\n",
        "\n",
        "# loader = TextLoader(\"Tax_info.txt\",encoding=\"CP949\")\n",
        "# loader = TextLoader(\"Tax_info.txt\",encoding=\"euc-kr\")\n",
        "loader = TextLoader(\"Tax_info.txt\",encoding=\"utf-8\")\n",
        "\n",
        "\n",
        "documents = loader.load()\n",
        "text_splitter = CharacterTextSplitter(chunk_size=1000, chunk_overlap=0)\n",
        "# text_splitter = CharacterTextSplitter(chunk_size=500, chunk_overlap=0)\n",
        "docs = text_splitter.split_documents(documents)\n",
        "print(\"len(docs) == \", len(docs))\n",
        "\n",
        "faissIndex = FAISS.from_documents(docs, OpenAIEmbeddings(openai_api_key=OPENAI_API_KEY))\n",
        "print(\"faissIndex == \", faissIndex )\n",
        "OpenAIEmbeddings()\n",
        "info_idx = \"faiss_taxInfo\"\n",
        "faissIndex.save_local(info_idx)"
      ]
    },
    {
      "cell_type": "code",
      "source": [
        "# 연관 자료탐색\n",
        "\n",
        "# print(\"docs[0] == \", docs[0])\n",
        "\n",
        "question = \"무신고 가산세 얼마야?\"\n",
        "question = \"종합소득세 납부 기간은?\"\n",
        "# question = \"산불 피해 지역의 경우는?\"\n",
        "\n",
        "query = question\n",
        "retriever = faissIndex.as_retriever(search_type=\"similarity\", search_kwargs={\"k\":1})\n",
        "relevant_docs =  retriever.get_relevant_documents(query)\n",
        "\n",
        "num_docs = len(relevant_docs)\n",
        "print(\"len(relevant_docs) == \", num_docs)\n",
        "for i in range(num_docs) :\n",
        "  print(\"relevant_docs[\", i , \"] == \", relevant_docs[i])\n"
      ],
      "metadata": {
        "id": "w24z4OW6iTnh",
        "colab": {
          "base_uri": "https://localhost:8080/"
        },
        "outputId": "22c8463a-b285-4c68-cf21-e3d4b9013ba2"
      },
      "execution_count": null,
      "outputs": [
        {
          "output_type": "stream",
          "name": "stdout",
          "text": [
            "len(relevant_docs) ==  1\n",
            "relevant_docs[ 0 ] ==  page_content='종합소득세 신고·납부\\n당해 과세기간에 종합소득금액이 있는 자는 다음해 5월 1일부터 5월 31일(성실신고확인서 제출자는 6월 30일)까지 종합소득세를 신고·납부하여야 합니다(소득세법 §70, §70조의2).\\n종합소득 : 이자·배당·사업(부동산임대)·근로·연금·기타소득\\n* 신고납부기한이 공휴일, 토요일인 경우 그 다음날까지 신고납부 가능\\n\\n2022년 귀속 종합소득세 확정신고·납부와 관련하여 국세청에서는 적극행정의 일환으로 수출 부진 및 산불 피해로 어려움을 겪는 납세자에게 아래와 같이 납부기한을 8.31.까지 직권연장하는 등 세정지원을 실시하고 있습니다.\\n1성실신고확인서 대상 외 : ’23.5.31.→’23.8.31.(3개월 직권 연장)\\n2성실신고확인서 제출자 : ’23.6.30.→’23.8.31.(2개월 직권 연장)\\n〈 ’22년 귀속 종합소득세 확정신고 시 납부기한 직권 연장 내용〉\\n’22년 귀속 종합소득세 확정신고 시 납부기한 직권 연장 내용 - 구분, 지원대상, 요건, 제외\\n구분\\t지원대상\\t요건\\t제외\\n수출기업\\t\\n1’22년 수출액이 매출액의 50% 이상이고 매출과표 5억 원 이상이거나\\n2관세청·KOTRA가 선정한 수출 관련 개입사업자\\n23.5.31.까지\\n소득세 신고\\n(성실신고확인서\\n제출자는 6.30.)\\t금융소득 2천만원 초과자\\n산불피해\\t전국적 산불(’23년 4월)로 인해 특별재난지역*으로 선포된 지역에 주소지를 두고 있는 납세자\\n* [대전] 서구, [충북] 옥천군, [충남] 홍성군·금산군·당진시·보령시·부여군, [전남] 함평군·순천시,\\n\\u2002[경북] 영주시, [강원] 강릉시\\n\\n해당 없음\\n납부기한 직권연장된 경우 분납기한도 ’23.10.31.까지 연장됩니다.\\n직권연장 대상이 아닌 납세자도 신고∙납부에 어려움이 있어 연장신청을 하는 경우 적극 지원합니다.\\n* [홈택스] 로그인 > 신청/제출 > 주요세무서류신청바로가기 > 신고분 납부기한 연장신청\\n* [손택스] 로그인 > 신청/제출 > 세무서류신청-공통분야 > 신고분 납부기한 연장신청' metadata={'source': 'Tax_info.txt'}\n"
          ]
        }
      ]
    },
    {
      "cell_type": "markdown",
      "source": [],
      "metadata": {
        "id": "QBQAl74-joUH"
      }
    },
    {
      "cell_type": "code",
      "source": [
        "import os, dotenv\n",
        "from langchain.embeddings.openai import OpenAIEmbeddings\n",
        "from langchain.vectorstores import FAISS\n",
        "from langchain.chat_models import ChatOpenAI\n",
        "from langchain.llms import OpenAI\n",
        "from langchain.chains import RetrievalQA\n",
        "from langchain import PromptTemplate\n",
        "\n",
        "dotenv.load_dotenv()\n",
        "\n",
        "chatbot = RetrievalQA.from_chain_type(\n",
        "    llm=ChatOpenAI(\n",
        "        openai_api_key=os.getenv(\"OPENAI_API_KEY\"),\n",
        "        temperature=0,\n",
        "        model_name=\"gpt-3.5-turbo\",\n",
        "        max_tokens=1000,  #max_tokens=50\n",
        "        streaming=True,\n",
        "    ),\n",
        "    #     llm=OpenAI(\n",
        "    #     openai_api_key=os.getenv(\"OPENAI_API_KEY\"),\n",
        "    #     temperature=0, model_name=\"text-davinci-003\", max_tokens=1000  #max_tokens=50\n",
        "    # ),\n",
        "    chain_type=\"stuff\",\n",
        "    retriever=FAISS.load_local(info_idx, OpenAIEmbeddings(), allow_dangerous_deserialization=True)\n",
        "        .as_retriever(search_type=\"similarity\", search_kwargs={\"k\":1},)\n",
        ")\n",
        "\n",
        "\n",
        "template = \"\"\"\n",
        "# respond as succinctly as possible. {query}?\n",
        "# \"\"\"\n",
        "\n",
        "\n",
        "# template = \"\"\"\n",
        "# respond as succinctly as possible like the following :\n",
        "# 1. xxx\n",
        "# 2. xxx\n",
        "# ...\n",
        "# 10. xxx\n",
        "\n",
        "# {query}?\n",
        "# \"\"\"\n",
        "\n",
        "# template = \"\"\"\n",
        "# respond as thoroughly as possible. {query}?\n",
        "# \"\"\"\n",
        "\n",
        "\n",
        "# 없는 정보를 사용하지 않도록 제한\n",
        "\n",
        "template = \"\"\"\n",
        "{query}\n",
        "Find answers  within the following documents.\n",
        "If the documents do not have the answer, just say 'No Info.\".\n",
        "Answer in Korean.\n",
        "\"\"\"\n",
        "\n",
        "\n",
        "\n",
        "prompt = PromptTemplate(\n",
        "    input_variables=[\"query\"],\n",
        "    template=template,\n",
        ")\n",
        "\n",
        "# question = \"what is --v\"\n",
        "# print(chatbot.run(\n",
        "#     prompt.format(query=question)\n",
        "# ))\n",
        "# # --v is a parameter used to specify a specific model version in Midjourney's AI image generation tool."
      ],
      "metadata": {
        "id": "N7FAIwagn8Ap"
      },
      "execution_count": null,
      "outputs": []
    },
    {
      "cell_type": "code",
      "source": [
        "\n",
        "#######\n",
        "question = \"무신고 가산세 얼마야?\"\n",
        "question = \"부정무신고 가산세는 얼마야?\"\n",
        "# question = \"종합소득세 확정신고 안해도 되는 경우는?\"  # 오류도 발생\n",
        "# question = \"수출 부진 및 산불 피해자 종합소득세 납부 기간은?\"            #\n",
        "# question = \"납부기한 연장 대상자는?\"             # 표 이해는 어려운 듯\n",
        "# question = \"전문사업자는 복식부기 대상인가?\"\n",
        "question = \"종합소득세 납부 기간은?\"            # 정보 요약이 상대적으로 좋은 듯\n",
        "\n",
        "# question = \"세금의 용도를 설명해 줘 \"\n",
        "question = \"국세의 종류 설명해 줘\"           # 문서 외의 정보 사용 가능성..\n",
        "# question = \"세금의 종류는?\"             # 문서 내의 세금의 종류로 처리됨\n",
        "# question = \"관세 납부 기간은?\"\n",
        "# question = \"부가가치세 신고 기간은?\"\n",
        "\n",
        "print(chatbot.run(\n",
        "    prompt.format(query=question)\n",
        "))"
      ],
      "metadata": {
        "id": "84bo2y1GtFoO",
        "colab": {
          "base_uri": "https://localhost:8080/"
        },
        "outputId": "7222e04f-1bbc-4903-a8c3-40a7025f067a"
      },
      "execution_count": null,
      "outputs": [
        {
          "output_type": "stream",
          "name": "stdout",
          "text": [
            "국세의 종류에 대한 정보는 제공된 문서에 없습니다. \"No Info.\"\n"
          ]
        }
      ]
    },
    {
      "cell_type": "code",
      "source": [
        "\n"
      ],
      "metadata": {
        "id": "GSBcwvk0t2VC"
      },
      "execution_count": null,
      "outputs": []
    },
    {
      "cell_type": "code",
      "source": [],
      "metadata": {
        "id": "BY2jQBsQ2Gqn"
      },
      "execution_count": null,
      "outputs": []
    }
  ]
}