{
  "cells": [
    {
      "cell_type": "markdown",
      "metadata": {
        "id": "view-in-github",
        "colab_type": "text"
      },
      "source": [
        "<a href=\"https://colab.research.google.com/github/junhansong/AI_begin/blob/master/building_a_simple_vectorstore.ipynb\" target=\"_parent\"><img src=\"https://colab.research.google.com/assets/colab-badge.svg\" alt=\"Open In Colab\"/></a>"
      ]
    },
    {
      "cell_type": "markdown",
      "metadata": {
        "id": "u9-U7DdjO9CB"
      },
      "source": [
        "# 키 설정"
      ]
    },
    {
      "cell_type": "code",
      "execution_count": null,
      "metadata": {
        "id": "Ql99-R5QO1pF",
        "colab": {
          "base_uri": "https://localhost:8080/",
          "height": 304
        },
        "outputId": "642387ce-a59c-436c-e686-7b0b5e4c2c3e"
      },
      "outputs": [
        {
          "output_type": "error",
          "ename": "MessageError",
          "evalue": "Error: credential propagation was unsuccessful",
          "traceback": [
            "\u001b[0;31m---------------------------------------------------------------------------\u001b[0m",
            "\u001b[0;31mMessageError\u001b[0m                              Traceback (most recent call last)",
            "\u001b[0;32m<ipython-input-2-d5df0069828e>\u001b[0m in \u001b[0;36m<cell line: 2>\u001b[0;34m()\u001b[0m\n\u001b[1;32m      1\u001b[0m \u001b[0;32mfrom\u001b[0m \u001b[0mgoogle\u001b[0m\u001b[0;34m.\u001b[0m\u001b[0mcolab\u001b[0m \u001b[0;32mimport\u001b[0m \u001b[0mdrive\u001b[0m\u001b[0;34m\u001b[0m\u001b[0;34m\u001b[0m\u001b[0m\n\u001b[0;32m----> 2\u001b[0;31m \u001b[0mdrive\u001b[0m\u001b[0;34m.\u001b[0m\u001b[0mmount\u001b[0m\u001b[0;34m(\u001b[0m\u001b[0;34m'/content/drive'\u001b[0m\u001b[0;34m)\u001b[0m\u001b[0;34m\u001b[0m\u001b[0;34m\u001b[0m\u001b[0m\n\u001b[0m",
            "\u001b[0;32m/usr/local/lib/python3.10/dist-packages/google/colab/drive.py\u001b[0m in \u001b[0;36mmount\u001b[0;34m(mountpoint, force_remount, timeout_ms, readonly)\u001b[0m\n\u001b[1;32m     98\u001b[0m \u001b[0;32mdef\u001b[0m \u001b[0mmount\u001b[0m\u001b[0;34m(\u001b[0m\u001b[0mmountpoint\u001b[0m\u001b[0;34m,\u001b[0m \u001b[0mforce_remount\u001b[0m\u001b[0;34m=\u001b[0m\u001b[0;32mFalse\u001b[0m\u001b[0;34m,\u001b[0m \u001b[0mtimeout_ms\u001b[0m\u001b[0;34m=\u001b[0m\u001b[0;36m120000\u001b[0m\u001b[0;34m,\u001b[0m \u001b[0mreadonly\u001b[0m\u001b[0;34m=\u001b[0m\u001b[0;32mFalse\u001b[0m\u001b[0;34m)\u001b[0m\u001b[0;34m:\u001b[0m\u001b[0;34m\u001b[0m\u001b[0;34m\u001b[0m\u001b[0m\n\u001b[1;32m     99\u001b[0m   \u001b[0;34m\"\"\"Mount your Google Drive at the specified mountpoint path.\"\"\"\u001b[0m\u001b[0;34m\u001b[0m\u001b[0;34m\u001b[0m\u001b[0m\n\u001b[0;32m--> 100\u001b[0;31m   return _mount(\n\u001b[0m\u001b[1;32m    101\u001b[0m       \u001b[0mmountpoint\u001b[0m\u001b[0;34m,\u001b[0m\u001b[0;34m\u001b[0m\u001b[0;34m\u001b[0m\u001b[0m\n\u001b[1;32m    102\u001b[0m       \u001b[0mforce_remount\u001b[0m\u001b[0;34m=\u001b[0m\u001b[0mforce_remount\u001b[0m\u001b[0;34m,\u001b[0m\u001b[0;34m\u001b[0m\u001b[0;34m\u001b[0m\u001b[0m\n",
            "\u001b[0;32m/usr/local/lib/python3.10/dist-packages/google/colab/drive.py\u001b[0m in \u001b[0;36m_mount\u001b[0;34m(mountpoint, force_remount, timeout_ms, ephemeral, readonly)\u001b[0m\n\u001b[1;32m    131\u001b[0m   )\n\u001b[1;32m    132\u001b[0m   \u001b[0;32mif\u001b[0m \u001b[0mephemeral\u001b[0m\u001b[0;34m:\u001b[0m\u001b[0;34m\u001b[0m\u001b[0;34m\u001b[0m\u001b[0m\n\u001b[0;32m--> 133\u001b[0;31m     _message.blocking_request(\n\u001b[0m\u001b[1;32m    134\u001b[0m         \u001b[0;34m'request_auth'\u001b[0m\u001b[0;34m,\u001b[0m \u001b[0mrequest\u001b[0m\u001b[0;34m=\u001b[0m\u001b[0;34m{\u001b[0m\u001b[0;34m'authType'\u001b[0m\u001b[0;34m:\u001b[0m \u001b[0;34m'dfs_ephemeral'\u001b[0m\u001b[0;34m}\u001b[0m\u001b[0;34m,\u001b[0m \u001b[0mtimeout_sec\u001b[0m\u001b[0;34m=\u001b[0m\u001b[0;32mNone\u001b[0m\u001b[0;34m\u001b[0m\u001b[0;34m\u001b[0m\u001b[0m\n\u001b[1;32m    135\u001b[0m     )\n",
            "\u001b[0;32m/usr/local/lib/python3.10/dist-packages/google/colab/_message.py\u001b[0m in \u001b[0;36mblocking_request\u001b[0;34m(request_type, request, timeout_sec, parent)\u001b[0m\n\u001b[1;32m    174\u001b[0m       \u001b[0mrequest_type\u001b[0m\u001b[0;34m,\u001b[0m \u001b[0mrequest\u001b[0m\u001b[0;34m,\u001b[0m \u001b[0mparent\u001b[0m\u001b[0;34m=\u001b[0m\u001b[0mparent\u001b[0m\u001b[0;34m,\u001b[0m \u001b[0mexpect_reply\u001b[0m\u001b[0;34m=\u001b[0m\u001b[0;32mTrue\u001b[0m\u001b[0;34m\u001b[0m\u001b[0;34m\u001b[0m\u001b[0m\n\u001b[1;32m    175\u001b[0m   )\n\u001b[0;32m--> 176\u001b[0;31m   \u001b[0;32mreturn\u001b[0m \u001b[0mread_reply_from_input\u001b[0m\u001b[0;34m(\u001b[0m\u001b[0mrequest_id\u001b[0m\u001b[0;34m,\u001b[0m \u001b[0mtimeout_sec\u001b[0m\u001b[0;34m)\u001b[0m\u001b[0;34m\u001b[0m\u001b[0;34m\u001b[0m\u001b[0m\n\u001b[0m",
            "\u001b[0;32m/usr/local/lib/python3.10/dist-packages/google/colab/_message.py\u001b[0m in \u001b[0;36mread_reply_from_input\u001b[0;34m(message_id, timeout_sec)\u001b[0m\n\u001b[1;32m    101\u001b[0m     ):\n\u001b[1;32m    102\u001b[0m       \u001b[0;32mif\u001b[0m \u001b[0;34m'error'\u001b[0m \u001b[0;32min\u001b[0m \u001b[0mreply\u001b[0m\u001b[0;34m:\u001b[0m\u001b[0;34m\u001b[0m\u001b[0;34m\u001b[0m\u001b[0m\n\u001b[0;32m--> 103\u001b[0;31m         \u001b[0;32mraise\u001b[0m \u001b[0mMessageError\u001b[0m\u001b[0;34m(\u001b[0m\u001b[0mreply\u001b[0m\u001b[0;34m[\u001b[0m\u001b[0;34m'error'\u001b[0m\u001b[0;34m]\u001b[0m\u001b[0;34m)\u001b[0m\u001b[0;34m\u001b[0m\u001b[0;34m\u001b[0m\u001b[0m\n\u001b[0m\u001b[1;32m    104\u001b[0m       \u001b[0;32mreturn\u001b[0m \u001b[0mreply\u001b[0m\u001b[0;34m.\u001b[0m\u001b[0mget\u001b[0m\u001b[0;34m(\u001b[0m\u001b[0;34m'data'\u001b[0m\u001b[0;34m,\u001b[0m \u001b[0;32mNone\u001b[0m\u001b[0;34m)\u001b[0m\u001b[0;34m\u001b[0m\u001b[0;34m\u001b[0m\u001b[0m\n\u001b[1;32m    105\u001b[0m \u001b[0;34m\u001b[0m\u001b[0m\n",
            "\u001b[0;31mMessageError\u001b[0m: Error: credential propagation was unsuccessful"
          ]
        }
      ],
      "source": [
        "from google.colab import drive\n",
        "drive.mount('/content/drive')"
      ]
    },
    {
      "cell_type": "code",
      "execution_count": null,
      "metadata": {
        "id": "CPxjrFWNL2BL"
      },
      "outputs": [],
      "source": [
        "import os\n",
        "\n",
        "from google.colab import userdata\n",
        "os.environ[\"OPENAI_API_KEY\"] = userdata.get('OPENAI_API_KEY')"
      ]
    },
    {
      "cell_type": "markdown",
      "metadata": {
        "id": "gVAKFkmKO_Xc"
      },
      "source": [
        "# 패키지 설치"
      ]
    },
    {
      "cell_type": "code",
      "execution_count": null,
      "metadata": {
        "colab": {
          "base_uri": "https://localhost:8080/"
        },
        "id": "IcnianpnLvV1",
        "outputId": "343ea993-ac3a-402c-ab04-98987df71f86"
      },
      "outputs": [
        {
          "output_type": "stream",
          "name": "stdout",
          "text": [
            "Collecting openai\n",
            "  Downloading openai-1.20.0-py3-none-any.whl (292 kB)\n",
            "\u001b[?25l     \u001b[90m━━━━━━━━━━━━━━━━━━━━━━━━━━━━━━━━━━━━━━━━\u001b[0m \u001b[32m0.0/292.8 kB\u001b[0m \u001b[31m?\u001b[0m eta \u001b[36m-:--:--\u001b[0m\r\u001b[2K     \u001b[91m━━━━━━━━━━━━━━━━━━━\u001b[0m\u001b[91m╸\u001b[0m\u001b[90m━━━━━━━━━━━━━━━━━━━━\u001b[0m \u001b[32m143.4/292.8 kB\u001b[0m \u001b[31m4.2 MB/s\u001b[0m eta \u001b[36m0:00:01\u001b[0m\r\u001b[2K     \u001b[90m━━━━━━━━━━━━━━━━━━━━━━━━━━━━━━━━━━━━━━━━\u001b[0m \u001b[32m292.8/292.8 kB\u001b[0m \u001b[31m5.5 MB/s\u001b[0m eta \u001b[36m0:00:00\u001b[0m\n",
            "\u001b[?25hRequirement already satisfied: anyio<5,>=3.5.0 in /usr/local/lib/python3.10/dist-packages (from openai) (3.7.1)\n",
            "Requirement already satisfied: distro<2,>=1.7.0 in /usr/lib/python3/dist-packages (from openai) (1.7.0)\n",
            "Collecting httpx<1,>=0.23.0 (from openai)\n",
            "  Downloading httpx-0.27.0-py3-none-any.whl (75 kB)\n",
            "\u001b[2K     \u001b[90m━━━━━━━━━━━━━━━━━━━━━━━━━━━━━━━━━━━━━━━━\u001b[0m \u001b[32m75.6/75.6 kB\u001b[0m \u001b[31m8.9 MB/s\u001b[0m eta \u001b[36m0:00:00\u001b[0m\n",
            "\u001b[?25hRequirement already satisfied: pydantic<3,>=1.9.0 in /usr/local/lib/python3.10/dist-packages (from openai) (2.6.4)\n",
            "Requirement already satisfied: sniffio in /usr/local/lib/python3.10/dist-packages (from openai) (1.3.1)\n",
            "Requirement already satisfied: tqdm>4 in /usr/local/lib/python3.10/dist-packages (from openai) (4.66.2)\n",
            "Requirement already satisfied: typing-extensions<5,>=4.7 in /usr/local/lib/python3.10/dist-packages (from openai) (4.11.0)\n",
            "Requirement already satisfied: idna>=2.8 in /usr/local/lib/python3.10/dist-packages (from anyio<5,>=3.5.0->openai) (3.6)\n",
            "Requirement already satisfied: exceptiongroup in /usr/local/lib/python3.10/dist-packages (from anyio<5,>=3.5.0->openai) (1.2.0)\n",
            "Requirement already satisfied: certifi in /usr/local/lib/python3.10/dist-packages (from httpx<1,>=0.23.0->openai) (2024.2.2)\n",
            "Collecting httpcore==1.* (from httpx<1,>=0.23.0->openai)\n",
            "  Downloading httpcore-1.0.5-py3-none-any.whl (77 kB)\n",
            "\u001b[2K     \u001b[90m━━━━━━━━━━━━━━━━━━━━━━━━━━━━━━━━━━━━━━━━\u001b[0m \u001b[32m77.9/77.9 kB\u001b[0m \u001b[31m8.4 MB/s\u001b[0m eta \u001b[36m0:00:00\u001b[0m\n",
            "\u001b[?25hCollecting h11<0.15,>=0.13 (from httpcore==1.*->httpx<1,>=0.23.0->openai)\n",
            "  Downloading h11-0.14.0-py3-none-any.whl (58 kB)\n",
            "\u001b[2K     \u001b[90m━━━━━━━━━━━━━━━━━━━━━━━━━━━━━━━━━━━━━━━━\u001b[0m \u001b[32m58.3/58.3 kB\u001b[0m \u001b[31m7.4 MB/s\u001b[0m eta \u001b[36m0:00:00\u001b[0m\n",
            "\u001b[?25hRequirement already satisfied: annotated-types>=0.4.0 in /usr/local/lib/python3.10/dist-packages (from pydantic<3,>=1.9.0->openai) (0.6.0)\n",
            "Requirement already satisfied: pydantic-core==2.16.3 in /usr/local/lib/python3.10/dist-packages (from pydantic<3,>=1.9.0->openai) (2.16.3)\n",
            "Installing collected packages: h11, httpcore, httpx, openai\n",
            "Successfully installed h11-0.14.0 httpcore-1.0.5 httpx-0.27.0 openai-1.20.0\n",
            "Collecting langchain\n",
            "  Downloading langchain-0.1.16-py3-none-any.whl (817 kB)\n",
            "\u001b[2K     \u001b[90m━━━━━━━━━━━━━━━━━━━━━━━━━━━━━━━━━━━━━━━━\u001b[0m \u001b[32m817.7/817.7 kB\u001b[0m \u001b[31m15.1 MB/s\u001b[0m eta \u001b[36m0:00:00\u001b[0m\n",
            "\u001b[?25hRequirement already satisfied: PyYAML>=5.3 in /usr/local/lib/python3.10/dist-packages (from langchain) (6.0.1)\n",
            "Requirement already satisfied: SQLAlchemy<3,>=1.4 in /usr/local/lib/python3.10/dist-packages (from langchain) (2.0.29)\n",
            "Requirement already satisfied: aiohttp<4.0.0,>=3.8.3 in /usr/local/lib/python3.10/dist-packages (from langchain) (3.9.3)\n",
            "Requirement already satisfied: async-timeout<5.0.0,>=4.0.0 in /usr/local/lib/python3.10/dist-packages (from langchain) (4.0.3)\n",
            "Collecting dataclasses-json<0.7,>=0.5.7 (from langchain)\n",
            "  Downloading dataclasses_json-0.6.4-py3-none-any.whl (28 kB)\n",
            "Collecting jsonpatch<2.0,>=1.33 (from langchain)\n",
            "  Downloading jsonpatch-1.33-py2.py3-none-any.whl (12 kB)\n",
            "Collecting langchain-community<0.1,>=0.0.32 (from langchain)\n",
            "  Downloading langchain_community-0.0.33-py3-none-any.whl (1.9 MB)\n",
            "\u001b[2K     \u001b[90m━━━━━━━━━━━━━━━━━━━━━━━━━━━━━━━━━━━━━━━━\u001b[0m \u001b[32m1.9/1.9 MB\u001b[0m \u001b[31m67.3 MB/s\u001b[0m eta \u001b[36m0:00:00\u001b[0m\n",
            "\u001b[?25hCollecting langchain-core<0.2.0,>=0.1.42 (from langchain)\n",
            "  Downloading langchain_core-0.1.43-py3-none-any.whl (289 kB)\n",
            "\u001b[2K     \u001b[90m━━━━━━━━━━━━━━━━━━━━━━━━━━━━━━━━━━━━━━━━\u001b[0m \u001b[32m289.1/289.1 kB\u001b[0m \u001b[31m31.0 MB/s\u001b[0m eta \u001b[36m0:00:00\u001b[0m\n",
            "\u001b[?25hCollecting langchain-text-splitters<0.1,>=0.0.1 (from langchain)\n",
            "  Downloading langchain_text_splitters-0.0.1-py3-none-any.whl (21 kB)\n",
            "Collecting langsmith<0.2.0,>=0.1.17 (from langchain)\n",
            "  Downloading langsmith-0.1.48-py3-none-any.whl (113 kB)\n",
            "\u001b[2K     \u001b[90m━━━━━━━━━━━━━━━━━━━━━━━━━━━━━━━━━━━━━━━━\u001b[0m \u001b[32m113.7/113.7 kB\u001b[0m \u001b[31m12.3 MB/s\u001b[0m eta \u001b[36m0:00:00\u001b[0m\n",
            "\u001b[?25hRequirement already satisfied: numpy<2,>=1 in /usr/local/lib/python3.10/dist-packages (from langchain) (1.25.2)\n",
            "Requirement already satisfied: pydantic<3,>=1 in /usr/local/lib/python3.10/dist-packages (from langchain) (2.6.4)\n",
            "Requirement already satisfied: requests<3,>=2 in /usr/local/lib/python3.10/dist-packages (from langchain) (2.31.0)\n",
            "Requirement already satisfied: tenacity<9.0.0,>=8.1.0 in /usr/local/lib/python3.10/dist-packages (from langchain) (8.2.3)\n",
            "Requirement already satisfied: aiosignal>=1.1.2 in /usr/local/lib/python3.10/dist-packages (from aiohttp<4.0.0,>=3.8.3->langchain) (1.3.1)\n",
            "Requirement already satisfied: attrs>=17.3.0 in /usr/local/lib/python3.10/dist-packages (from aiohttp<4.0.0,>=3.8.3->langchain) (23.2.0)\n",
            "Requirement already satisfied: frozenlist>=1.1.1 in /usr/local/lib/python3.10/dist-packages (from aiohttp<4.0.0,>=3.8.3->langchain) (1.4.1)\n",
            "Requirement already satisfied: multidict<7.0,>=4.5 in /usr/local/lib/python3.10/dist-packages (from aiohttp<4.0.0,>=3.8.3->langchain) (6.0.5)\n",
            "Requirement already satisfied: yarl<2.0,>=1.0 in /usr/local/lib/python3.10/dist-packages (from aiohttp<4.0.0,>=3.8.3->langchain) (1.9.4)\n",
            "Collecting marshmallow<4.0.0,>=3.18.0 (from dataclasses-json<0.7,>=0.5.7->langchain)\n",
            "  Downloading marshmallow-3.21.1-py3-none-any.whl (49 kB)\n",
            "\u001b[2K     \u001b[90m━━━━━━━━━━━━━━━━━━━━━━━━━━━━━━━━━━━━━━━━\u001b[0m \u001b[32m49.4/49.4 kB\u001b[0m \u001b[31m6.2 MB/s\u001b[0m eta \u001b[36m0:00:00\u001b[0m\n",
            "\u001b[?25hCollecting typing-inspect<1,>=0.4.0 (from dataclasses-json<0.7,>=0.5.7->langchain)\n",
            "  Downloading typing_inspect-0.9.0-py3-none-any.whl (8.8 kB)\n",
            "Collecting jsonpointer>=1.9 (from jsonpatch<2.0,>=1.33->langchain)\n",
            "  Downloading jsonpointer-2.4-py2.py3-none-any.whl (7.8 kB)\n",
            "Collecting packaging<24.0,>=23.2 (from langchain-core<0.2.0,>=0.1.42->langchain)\n",
            "  Downloading packaging-23.2-py3-none-any.whl (53 kB)\n",
            "\u001b[2K     \u001b[90m━━━━━━━━━━━━━━━━━━━━━━━━━━━━━━━━━━━━━━━━\u001b[0m \u001b[32m53.0/53.0 kB\u001b[0m \u001b[31m7.0 MB/s\u001b[0m eta \u001b[36m0:00:00\u001b[0m\n",
            "\u001b[?25hCollecting orjson<4.0.0,>=3.9.14 (from langsmith<0.2.0,>=0.1.17->langchain)\n",
            "  Downloading orjson-3.10.1-cp310-cp310-manylinux_2_17_x86_64.manylinux2014_x86_64.whl (141 kB)\n",
            "\u001b[2K     \u001b[90m━━━━━━━━━━━━━━━━━━━━━━━━━━━━━━━━━━━━━━━━\u001b[0m \u001b[32m141.1/141.1 kB\u001b[0m \u001b[31m15.5 MB/s\u001b[0m eta \u001b[36m0:00:00\u001b[0m\n",
            "\u001b[?25hRequirement already satisfied: annotated-types>=0.4.0 in /usr/local/lib/python3.10/dist-packages (from pydantic<3,>=1->langchain) (0.6.0)\n",
            "Requirement already satisfied: pydantic-core==2.16.3 in /usr/local/lib/python3.10/dist-packages (from pydantic<3,>=1->langchain) (2.16.3)\n",
            "Requirement already satisfied: typing-extensions>=4.6.1 in /usr/local/lib/python3.10/dist-packages (from pydantic<3,>=1->langchain) (4.11.0)\n",
            "Requirement already satisfied: charset-normalizer<4,>=2 in /usr/local/lib/python3.10/dist-packages (from requests<3,>=2->langchain) (3.3.2)\n",
            "Requirement already satisfied: idna<4,>=2.5 in /usr/local/lib/python3.10/dist-packages (from requests<3,>=2->langchain) (3.6)\n",
            "Requirement already satisfied: urllib3<3,>=1.21.1 in /usr/local/lib/python3.10/dist-packages (from requests<3,>=2->langchain) (2.0.7)\n",
            "Requirement already satisfied: certifi>=2017.4.17 in /usr/local/lib/python3.10/dist-packages (from requests<3,>=2->langchain) (2024.2.2)\n",
            "Requirement already satisfied: greenlet!=0.4.17 in /usr/local/lib/python3.10/dist-packages (from SQLAlchemy<3,>=1.4->langchain) (3.0.3)\n",
            "Collecting mypy-extensions>=0.3.0 (from typing-inspect<1,>=0.4.0->dataclasses-json<0.7,>=0.5.7->langchain)\n",
            "  Downloading mypy_extensions-1.0.0-py3-none-any.whl (4.7 kB)\n",
            "Installing collected packages: packaging, orjson, mypy-extensions, jsonpointer, typing-inspect, marshmallow, jsonpatch, langsmith, dataclasses-json, langchain-core, langchain-text-splitters, langchain-community, langchain\n",
            "  Attempting uninstall: packaging\n",
            "    Found existing installation: packaging 24.0\n",
            "    Uninstalling packaging-24.0:\n",
            "      Successfully uninstalled packaging-24.0\n",
            "Successfully installed dataclasses-json-0.6.4 jsonpatch-1.33 jsonpointer-2.4 langchain-0.1.16 langchain-community-0.0.33 langchain-core-0.1.43 langchain-text-splitters-0.0.1 langsmith-0.1.48 marshmallow-3.21.1 mypy-extensions-1.0.0 orjson-3.10.1 packaging-23.2 typing-inspect-0.9.0\n",
            "Requirement already satisfied: tqdm in /usr/local/lib/python3.10/dist-packages (4.66.2)\n",
            "Collecting chromadb\n",
            "  Downloading chromadb-0.4.24-py3-none-any.whl (525 kB)\n",
            "\u001b[2K     \u001b[90m━━━━━━━━━━━━━━━━━━━━━━━━━━━━━━━━━━━━━━━━\u001b[0m \u001b[32m525.5/525.5 kB\u001b[0m \u001b[31m8.6 MB/s\u001b[0m eta \u001b[36m0:00:00\u001b[0m\n",
            "\u001b[?25hRequirement already satisfied: build>=1.0.3 in /usr/local/lib/python3.10/dist-packages (from chromadb) (1.2.1)\n",
            "Requirement already satisfied: requests>=2.28 in /usr/local/lib/python3.10/dist-packages (from chromadb) (2.31.0)\n",
            "Requirement already satisfied: pydantic>=1.9 in /usr/local/lib/python3.10/dist-packages (from chromadb) (2.6.4)\n",
            "Collecting chroma-hnswlib==0.7.3 (from chromadb)\n",
            "  Downloading chroma_hnswlib-0.7.3-cp310-cp310-manylinux_2_17_x86_64.manylinux2014_x86_64.whl (2.4 MB)\n",
            "\u001b[2K     \u001b[90m━━━━━━━━━━━━━━━━━━━━━━━━━━━━━━━━━━━━━━━━\u001b[0m \u001b[32m2.4/2.4 MB\u001b[0m \u001b[31m54.5 MB/s\u001b[0m eta \u001b[36m0:00:00\u001b[0m\n",
            "\u001b[?25hCollecting fastapi>=0.95.2 (from chromadb)\n",
            "  Downloading fastapi-0.110.1-py3-none-any.whl (91 kB)\n",
            "\u001b[2K     \u001b[90m━━━━━━━━━━━━━━━━━━━━━━━━━━━━━━━━━━━━━━━━\u001b[0m \u001b[32m91.9/91.9 kB\u001b[0m \u001b[31m10.6 MB/s\u001b[0m eta \u001b[36m0:00:00\u001b[0m\n",
            "\u001b[?25hCollecting uvicorn[standard]>=0.18.3 (from chromadb)\n",
            "  Downloading uvicorn-0.29.0-py3-none-any.whl (60 kB)\n",
            "\u001b[2K     \u001b[90m━━━━━━━━━━━━━━━━━━━━━━━━━━━━━━━━━━━━━━━━\u001b[0m \u001b[32m60.8/60.8 kB\u001b[0m \u001b[31m7.4 MB/s\u001b[0m eta \u001b[36m0:00:00\u001b[0m\n",
            "\u001b[?25hRequirement already satisfied: numpy>=1.22.5 in /usr/local/lib/python3.10/dist-packages (from chromadb) (1.25.2)\n",
            "Collecting posthog>=2.4.0 (from chromadb)\n",
            "  Downloading posthog-3.5.0-py2.py3-none-any.whl (41 kB)\n",
            "\u001b[2K     \u001b[90m━━━━━━━━━━━━━━━━━━━━━━━━━━━━━━━━━━━━━━━━\u001b[0m \u001b[32m41.3/41.3 kB\u001b[0m \u001b[31m4.9 MB/s\u001b[0m eta \u001b[36m0:00:00\u001b[0m\n",
            "\u001b[?25hRequirement already satisfied: typing-extensions>=4.5.0 in /usr/local/lib/python3.10/dist-packages (from chromadb) (4.11.0)\n",
            "Collecting pulsar-client>=3.1.0 (from chromadb)\n",
            "  Downloading pulsar_client-3.5.0-cp310-cp310-manylinux_2_17_x86_64.manylinux2014_x86_64.whl (5.4 MB)\n",
            "\u001b[2K     \u001b[90m━━━━━━━━━━━━━━━━━━━━━━━━━━━━━━━━━━━━━━━━\u001b[0m \u001b[32m5.4/5.4 MB\u001b[0m \u001b[31m90.3 MB/s\u001b[0m eta \u001b[36m0:00:00\u001b[0m\n",
            "\u001b[?25hCollecting onnxruntime>=1.14.1 (from chromadb)\n",
            "  Downloading onnxruntime-1.17.3-cp310-cp310-manylinux_2_27_x86_64.manylinux_2_28_x86_64.whl (6.8 MB)\n",
            "\u001b[2K     \u001b[90m━━━━━━━━━━━━━━━━━━━━━━━━━━━━━━━━━━━━━━━━\u001b[0m \u001b[32m6.8/6.8 MB\u001b[0m \u001b[31m88.5 MB/s\u001b[0m eta \u001b[36m0:00:00\u001b[0m\n",
            "\u001b[?25hCollecting opentelemetry-api>=1.2.0 (from chromadb)\n",
            "  Downloading opentelemetry_api-1.24.0-py3-none-any.whl (60 kB)\n",
            "\u001b[2K     \u001b[90m━━━━━━━━━━━━━━━━━━━━━━━━━━━━━━━━━━━━━━━━\u001b[0m \u001b[32m60.1/60.1 kB\u001b[0m \u001b[31m7.9 MB/s\u001b[0m eta \u001b[36m0:00:00\u001b[0m\n",
            "\u001b[?25hCollecting opentelemetry-exporter-otlp-proto-grpc>=1.2.0 (from chromadb)\n",
            "  Downloading opentelemetry_exporter_otlp_proto_grpc-1.24.0-py3-none-any.whl (18 kB)\n",
            "Collecting opentelemetry-instrumentation-fastapi>=0.41b0 (from chromadb)\n",
            "  Downloading opentelemetry_instrumentation_fastapi-0.45b0-py3-none-any.whl (11 kB)\n",
            "Collecting opentelemetry-sdk>=1.2.0 (from chromadb)\n",
            "  Downloading opentelemetry_sdk-1.24.0-py3-none-any.whl (106 kB)\n",
            "\u001b[2K     \u001b[90m━━━━━━━━━━━━━━━━━━━━━━━━━━━━━━━━━━━━━━━━\u001b[0m \u001b[32m106.1/106.1 kB\u001b[0m \u001b[31m14.0 MB/s\u001b[0m eta \u001b[36m0:00:00\u001b[0m\n",
            "\u001b[?25hRequirement already satisfied: tokenizers>=0.13.2 in /usr/local/lib/python3.10/dist-packages (from chromadb) (0.15.2)\n",
            "Collecting pypika>=0.48.9 (from chromadb)\n",
            "  Downloading PyPika-0.48.9.tar.gz (67 kB)\n",
            "\u001b[2K     \u001b[90m━━━━━━━━━━━━━━━━━━━━━━━━━━━━━━━━━━━━━━━━\u001b[0m \u001b[32m67.3/67.3 kB\u001b[0m \u001b[31m10.7 MB/s\u001b[0m eta \u001b[36m0:00:00\u001b[0m\n",
            "\u001b[?25h  Installing build dependencies ... \u001b[?25l\u001b[?25hdone\n",
            "  Getting requirements to build wheel ... \u001b[?25l\u001b[?25hdone\n",
            "  Preparing metadata (pyproject.toml) ... \u001b[?25l\u001b[?25hdone\n",
            "Requirement already satisfied: tqdm>=4.65.0 in /usr/local/lib/python3.10/dist-packages (from chromadb) (4.66.2)\n",
            "Collecting overrides>=7.3.1 (from chromadb)\n",
            "  Downloading overrides-7.7.0-py3-none-any.whl (17 kB)\n",
            "Requirement already satisfied: importlib-resources in /usr/local/lib/python3.10/dist-packages (from chromadb) (6.4.0)\n",
            "Requirement already satisfied: grpcio>=1.58.0 in /usr/local/lib/python3.10/dist-packages (from chromadb) (1.62.1)\n",
            "Collecting bcrypt>=4.0.1 (from chromadb)\n",
            "  Downloading bcrypt-4.1.2-cp39-abi3-manylinux_2_28_x86_64.whl (698 kB)\n",
            "\u001b[2K     \u001b[90m━━━━━━━━━━━━━━━━━━━━━━━━━━━━━━━━━━━━━━━━\u001b[0m \u001b[32m698.9/698.9 kB\u001b[0m \u001b[31m27.6 MB/s\u001b[0m eta \u001b[36m0:00:00\u001b[0m\n",
            "\u001b[?25hRequirement already satisfied: typer>=0.9.0 in /usr/local/lib/python3.10/dist-packages (from chromadb) (0.9.4)\n",
            "Collecting kubernetes>=28.1.0 (from chromadb)\n",
            "  Downloading kubernetes-29.0.0-py2.py3-none-any.whl (1.6 MB)\n",
            "\u001b[2K     \u001b[90m━━━━━━━━━━━━━━━━━━━━━━━━━━━━━━━━━━━━━━━━\u001b[0m \u001b[32m1.6/1.6 MB\u001b[0m \u001b[31m40.2 MB/s\u001b[0m eta \u001b[36m0:00:00\u001b[0m\n",
            "\u001b[?25hRequirement already satisfied: tenacity>=8.2.3 in /usr/local/lib/python3.10/dist-packages (from chromadb) (8.2.3)\n",
            "Requirement already satisfied: PyYAML>=6.0.0 in /usr/local/lib/python3.10/dist-packages (from chromadb) (6.0.1)\n",
            "Collecting mmh3>=4.0.1 (from chromadb)\n",
            "  Downloading mmh3-4.1.0-cp310-cp310-manylinux_2_5_x86_64.manylinux1_x86_64.manylinux_2_17_x86_64.manylinux2014_x86_64.whl (67 kB)\n",
            "\u001b[2K     \u001b[90m━━━━━━━━━━━━━━━━━━━━━━━━━━━━━━━━━━━━━━━━\u001b[0m \u001b[32m67.6/67.6 kB\u001b[0m \u001b[31m6.4 MB/s\u001b[0m eta \u001b[36m0:00:00\u001b[0m\n",
            "\u001b[?25hRequirement already satisfied: orjson>=3.9.12 in /usr/local/lib/python3.10/dist-packages (from chromadb) (3.10.1)\n",
            "Requirement already satisfied: packaging>=19.1 in /usr/local/lib/python3.10/dist-packages (from build>=1.0.3->chromadb) (23.2)\n",
            "Requirement already satisfied: pyproject_hooks in /usr/local/lib/python3.10/dist-packages (from build>=1.0.3->chromadb) (1.0.0)\n",
            "Requirement already satisfied: tomli>=1.1.0 in /usr/local/lib/python3.10/dist-packages (from build>=1.0.3->chromadb) (2.0.1)\n",
            "Collecting starlette<0.38.0,>=0.37.2 (from fastapi>=0.95.2->chromadb)\n",
            "  Downloading starlette-0.37.2-py3-none-any.whl (71 kB)\n",
            "\u001b[2K     \u001b[90m━━━━━━━━━━━━━━━━━━━━━━━━━━━━━━━━━━━━━━━━\u001b[0m \u001b[32m71.9/71.9 kB\u001b[0m \u001b[31m8.4 MB/s\u001b[0m eta \u001b[36m0:00:00\u001b[0m\n",
            "\u001b[?25hRequirement already satisfied: certifi>=14.05.14 in /usr/local/lib/python3.10/dist-packages (from kubernetes>=28.1.0->chromadb) (2024.2.2)\n",
            "Requirement already satisfied: six>=1.9.0 in /usr/local/lib/python3.10/dist-packages (from kubernetes>=28.1.0->chromadb) (1.16.0)\n",
            "Requirement already satisfied: python-dateutil>=2.5.3 in /usr/local/lib/python3.10/dist-packages (from kubernetes>=28.1.0->chromadb) (2.8.2)\n",
            "Requirement already satisfied: google-auth>=1.0.1 in /usr/local/lib/python3.10/dist-packages (from kubernetes>=28.1.0->chromadb) (2.27.0)\n",
            "Requirement already satisfied: websocket-client!=0.40.0,!=0.41.*,!=0.42.*,>=0.32.0 in /usr/local/lib/python3.10/dist-packages (from kubernetes>=28.1.0->chromadb) (1.7.0)\n",
            "Requirement already satisfied: requests-oauthlib in /usr/local/lib/python3.10/dist-packages (from kubernetes>=28.1.0->chromadb) (1.3.1)\n",
            "Requirement already satisfied: oauthlib>=3.2.2 in /usr/local/lib/python3.10/dist-packages (from kubernetes>=28.1.0->chromadb) (3.2.2)\n",
            "Requirement already satisfied: urllib3>=1.24.2 in /usr/local/lib/python3.10/dist-packages (from kubernetes>=28.1.0->chromadb) (2.0.7)\n",
            "Collecting coloredlogs (from onnxruntime>=1.14.1->chromadb)\n",
            "  Downloading coloredlogs-15.0.1-py2.py3-none-any.whl (46 kB)\n",
            "\u001b[2K     \u001b[90m━━━━━━━━━━━━━━━━━━━━━━━━━━━━━━━━━━━━━━━━\u001b[0m \u001b[32m46.0/46.0 kB\u001b[0m \u001b[31m5.8 MB/s\u001b[0m eta \u001b[36m0:00:00\u001b[0m\n",
            "\u001b[?25hRequirement already satisfied: flatbuffers in /usr/local/lib/python3.10/dist-packages (from onnxruntime>=1.14.1->chromadb) (24.3.25)\n",
            "Requirement already satisfied: protobuf in /usr/local/lib/python3.10/dist-packages (from onnxruntime>=1.14.1->chromadb) (3.20.3)\n",
            "Requirement already satisfied: sympy in /usr/local/lib/python3.10/dist-packages (from onnxruntime>=1.14.1->chromadb) (1.12)\n",
            "Collecting deprecated>=1.2.6 (from opentelemetry-api>=1.2.0->chromadb)\n",
            "  Downloading Deprecated-1.2.14-py2.py3-none-any.whl (9.6 kB)\n",
            "Collecting importlib-metadata<=7.0,>=6.0 (from opentelemetry-api>=1.2.0->chromadb)\n",
            "  Downloading importlib_metadata-7.0.0-py3-none-any.whl (23 kB)\n",
            "Requirement already satisfied: googleapis-common-protos~=1.52 in /usr/local/lib/python3.10/dist-packages (from opentelemetry-exporter-otlp-proto-grpc>=1.2.0->chromadb) (1.63.0)\n",
            "Collecting opentelemetry-exporter-otlp-proto-common==1.24.0 (from opentelemetry-exporter-otlp-proto-grpc>=1.2.0->chromadb)\n",
            "  Downloading opentelemetry_exporter_otlp_proto_common-1.24.0-py3-none-any.whl (17 kB)\n",
            "Collecting opentelemetry-proto==1.24.0 (from opentelemetry-exporter-otlp-proto-grpc>=1.2.0->chromadb)\n",
            "  Downloading opentelemetry_proto-1.24.0-py3-none-any.whl (50 kB)\n",
            "\u001b[2K     \u001b[90m━━━━━━━━━━━━━━━━━━━━━━━━━━━━━━━━━━━━━━━━\u001b[0m \u001b[32m50.8/50.8 kB\u001b[0m \u001b[31m6.1 MB/s\u001b[0m eta \u001b[36m0:00:00\u001b[0m\n",
            "\u001b[?25hCollecting opentelemetry-instrumentation-asgi==0.45b0 (from opentelemetry-instrumentation-fastapi>=0.41b0->chromadb)\n",
            "  Downloading opentelemetry_instrumentation_asgi-0.45b0-py3-none-any.whl (14 kB)\n",
            "Collecting opentelemetry-instrumentation==0.45b0 (from opentelemetry-instrumentation-fastapi>=0.41b0->chromadb)\n",
            "  Downloading opentelemetry_instrumentation-0.45b0-py3-none-any.whl (28 kB)\n",
            "Collecting opentelemetry-semantic-conventions==0.45b0 (from opentelemetry-instrumentation-fastapi>=0.41b0->chromadb)\n",
            "  Downloading opentelemetry_semantic_conventions-0.45b0-py3-none-any.whl (36 kB)\n",
            "Collecting opentelemetry-util-http==0.45b0 (from opentelemetry-instrumentation-fastapi>=0.41b0->chromadb)\n",
            "  Downloading opentelemetry_util_http-0.45b0-py3-none-any.whl (6.9 kB)\n",
            "Requirement already satisfied: setuptools>=16.0 in /usr/local/lib/python3.10/dist-packages (from opentelemetry-instrumentation==0.45b0->opentelemetry-instrumentation-fastapi>=0.41b0->chromadb) (67.7.2)\n",
            "Requirement already satisfied: wrapt<2.0.0,>=1.0.0 in /usr/local/lib/python3.10/dist-packages (from opentelemetry-instrumentation==0.45b0->opentelemetry-instrumentation-fastapi>=0.41b0->chromadb) (1.14.1)\n",
            "Collecting asgiref~=3.0 (from opentelemetry-instrumentation-asgi==0.45b0->opentelemetry-instrumentation-fastapi>=0.41b0->chromadb)\n",
            "  Downloading asgiref-3.8.1-py3-none-any.whl (23 kB)\n",
            "Collecting monotonic>=1.5 (from posthog>=2.4.0->chromadb)\n",
            "  Downloading monotonic-1.6-py2.py3-none-any.whl (8.2 kB)\n",
            "Collecting backoff>=1.10.0 (from posthog>=2.4.0->chromadb)\n",
            "  Downloading backoff-2.2.1-py3-none-any.whl (15 kB)\n",
            "Requirement already satisfied: annotated-types>=0.4.0 in /usr/local/lib/python3.10/dist-packages (from pydantic>=1.9->chromadb) (0.6.0)\n",
            "Requirement already satisfied: pydantic-core==2.16.3 in /usr/local/lib/python3.10/dist-packages (from pydantic>=1.9->chromadb) (2.16.3)\n",
            "Requirement already satisfied: charset-normalizer<4,>=2 in /usr/local/lib/python3.10/dist-packages (from requests>=2.28->chromadb) (3.3.2)\n",
            "Requirement already satisfied: idna<4,>=2.5 in /usr/local/lib/python3.10/dist-packages (from requests>=2.28->chromadb) (3.6)\n",
            "Requirement already satisfied: huggingface_hub<1.0,>=0.16.4 in /usr/local/lib/python3.10/dist-packages (from tokenizers>=0.13.2->chromadb) (0.20.3)\n",
            "Requirement already satisfied: click<9.0.0,>=7.1.1 in /usr/local/lib/python3.10/dist-packages (from typer>=0.9.0->chromadb) (8.1.7)\n",
            "Requirement already satisfied: h11>=0.8 in /usr/local/lib/python3.10/dist-packages (from uvicorn[standard]>=0.18.3->chromadb) (0.14.0)\n",
            "Collecting httptools>=0.5.0 (from uvicorn[standard]>=0.18.3->chromadb)\n",
            "  Downloading httptools-0.6.1-cp310-cp310-manylinux_2_5_x86_64.manylinux1_x86_64.manylinux_2_17_x86_64.manylinux2014_x86_64.whl (341 kB)\n",
            "\u001b[2K     \u001b[90m━━━━━━━━━━━━━━━━━━━━━━━━━━━━━━━━━━━━━━━━\u001b[0m \u001b[32m341.4/341.4 kB\u001b[0m \u001b[31m32.8 MB/s\u001b[0m eta \u001b[36m0:00:00\u001b[0m\n",
            "\u001b[?25hCollecting python-dotenv>=0.13 (from uvicorn[standard]>=0.18.3->chromadb)\n",
            "  Downloading python_dotenv-1.0.1-py3-none-any.whl (19 kB)\n",
            "Collecting uvloop!=0.15.0,!=0.15.1,>=0.14.0 (from uvicorn[standard]>=0.18.3->chromadb)\n",
            "  Downloading uvloop-0.19.0-cp310-cp310-manylinux_2_17_x86_64.manylinux2014_x86_64.whl (3.4 MB)\n",
            "\u001b[2K     \u001b[90m━━━━━━━━━━━━━━━━━━━━━━━━━━━━━━━━━━━━━━━━\u001b[0m \u001b[32m3.4/3.4 MB\u001b[0m \u001b[31m82.6 MB/s\u001b[0m eta \u001b[36m0:00:00\u001b[0m\n",
            "\u001b[?25hCollecting watchfiles>=0.13 (from uvicorn[standard]>=0.18.3->chromadb)\n",
            "  Downloading watchfiles-0.21.0-cp310-cp310-manylinux_2_17_x86_64.manylinux2014_x86_64.whl (1.3 MB)\n",
            "\u001b[2K     \u001b[90m━━━━━━━━━━━━━━━━━━━━━━━━━━━━━━━━━━━━━━━━\u001b[0m \u001b[32m1.3/1.3 MB\u001b[0m \u001b[31m67.2 MB/s\u001b[0m eta \u001b[36m0:00:00\u001b[0m\n",
            "\u001b[?25hCollecting websockets>=10.4 (from uvicorn[standard]>=0.18.3->chromadb)\n",
            "  Downloading websockets-12.0-cp310-cp310-manylinux_2_5_x86_64.manylinux1_x86_64.manylinux_2_17_x86_64.manylinux2014_x86_64.whl (130 kB)\n",
            "\u001b[2K     \u001b[90m━━━━━━━━━━━━━━━━━━━━━━━━━━━━━━━━━━━━━━━━\u001b[0m \u001b[32m130.2/130.2 kB\u001b[0m \u001b[31m15.0 MB/s\u001b[0m eta \u001b[36m0:00:00\u001b[0m\n",
            "\u001b[?25hRequirement already satisfied: cachetools<6.0,>=2.0.0 in /usr/local/lib/python3.10/dist-packages (from google-auth>=1.0.1->kubernetes>=28.1.0->chromadb) (5.3.3)\n",
            "Requirement already satisfied: pyasn1-modules>=0.2.1 in /usr/local/lib/python3.10/dist-packages (from google-auth>=1.0.1->kubernetes>=28.1.0->chromadb) (0.4.0)\n",
            "Requirement already satisfied: rsa<5,>=3.1.4 in /usr/local/lib/python3.10/dist-packages (from google-auth>=1.0.1->kubernetes>=28.1.0->chromadb) (4.9)\n",
            "Requirement already satisfied: filelock in /usr/local/lib/python3.10/dist-packages (from huggingface_hub<1.0,>=0.16.4->tokenizers>=0.13.2->chromadb) (3.13.4)\n",
            "Requirement already satisfied: fsspec>=2023.5.0 in /usr/local/lib/python3.10/dist-packages (from huggingface_hub<1.0,>=0.16.4->tokenizers>=0.13.2->chromadb) (2023.6.0)\n",
            "Requirement already satisfied: zipp>=0.5 in /usr/local/lib/python3.10/dist-packages (from importlib-metadata<=7.0,>=6.0->opentelemetry-api>=1.2.0->chromadb) (3.18.1)\n",
            "Requirement already satisfied: anyio<5,>=3.4.0 in /usr/local/lib/python3.10/dist-packages (from starlette<0.38.0,>=0.37.2->fastapi>=0.95.2->chromadb) (3.7.1)\n",
            "Collecting humanfriendly>=9.1 (from coloredlogs->onnxruntime>=1.14.1->chromadb)\n",
            "  Downloading humanfriendly-10.0-py2.py3-none-any.whl (86 kB)\n",
            "\u001b[2K     \u001b[90m━━━━━━━━━━━━━━━━━━━━━━━━━━━━━━━━━━━━━━━━\u001b[0m \u001b[32m86.8/86.8 kB\u001b[0m \u001b[31m11.6 MB/s\u001b[0m eta \u001b[36m0:00:00\u001b[0m\n",
            "\u001b[?25hRequirement already satisfied: mpmath>=0.19 in /usr/local/lib/python3.10/dist-packages (from sympy->onnxruntime>=1.14.1->chromadb) (1.3.0)\n",
            "Requirement already satisfied: sniffio>=1.1 in /usr/local/lib/python3.10/dist-packages (from anyio<5,>=3.4.0->starlette<0.38.0,>=0.37.2->fastapi>=0.95.2->chromadb) (1.3.1)\n",
            "Requirement already satisfied: exceptiongroup in /usr/local/lib/python3.10/dist-packages (from anyio<5,>=3.4.0->starlette<0.38.0,>=0.37.2->fastapi>=0.95.2->chromadb) (1.2.0)\n",
            "Requirement already satisfied: pyasn1<0.7.0,>=0.4.6 in /usr/local/lib/python3.10/dist-packages (from pyasn1-modules>=0.2.1->google-auth>=1.0.1->kubernetes>=28.1.0->chromadb) (0.6.0)\n",
            "Building wheels for collected packages: pypika\n",
            "  Building wheel for pypika (pyproject.toml) ... \u001b[?25l\u001b[?25hdone\n",
            "  Created wheel for pypika: filename=PyPika-0.48.9-py2.py3-none-any.whl size=53724 sha256=d9538ea817b4e8ec6da2a97716586849ad0f9e906deb777ce9119357188c1b6d\n",
            "  Stored in directory: /root/.cache/pip/wheels/e1/26/51/d0bffb3d2fd82256676d7ad3003faea3bd6dddc9577af665f4\n",
            "Successfully built pypika\n",
            "Installing collected packages: pypika, monotonic, mmh3, websockets, uvloop, uvicorn, python-dotenv, pulsar-client, overrides, opentelemetry-util-http, opentelemetry-semantic-conventions, opentelemetry-proto, importlib-metadata, humanfriendly, httptools, deprecated, chroma-hnswlib, bcrypt, backoff, asgiref, watchfiles, starlette, posthog, opentelemetry-exporter-otlp-proto-common, opentelemetry-api, coloredlogs, opentelemetry-sdk, opentelemetry-instrumentation, onnxruntime, kubernetes, fastapi, opentelemetry-instrumentation-asgi, opentelemetry-exporter-otlp-proto-grpc, opentelemetry-instrumentation-fastapi, chromadb\n",
            "  Attempting uninstall: importlib-metadata\n",
            "    Found existing installation: importlib_metadata 7.1.0\n",
            "    Uninstalling importlib_metadata-7.1.0:\n",
            "      Successfully uninstalled importlib_metadata-7.1.0\n",
            "Successfully installed asgiref-3.8.1 backoff-2.2.1 bcrypt-4.1.2 chroma-hnswlib-0.7.3 chromadb-0.4.24 coloredlogs-15.0.1 deprecated-1.2.14 fastapi-0.110.1 httptools-0.6.1 humanfriendly-10.0 importlib-metadata-7.0.0 kubernetes-29.0.0 mmh3-4.1.0 monotonic-1.6 onnxruntime-1.17.3 opentelemetry-api-1.24.0 opentelemetry-exporter-otlp-proto-common-1.24.0 opentelemetry-exporter-otlp-proto-grpc-1.24.0 opentelemetry-instrumentation-0.45b0 opentelemetry-instrumentation-asgi-0.45b0 opentelemetry-instrumentation-fastapi-0.45b0 opentelemetry-proto-1.24.0 opentelemetry-sdk-1.24.0 opentelemetry-semantic-conventions-0.45b0 opentelemetry-util-http-0.45b0 overrides-7.7.0 posthog-3.5.0 pulsar-client-3.5.0 pypika-0.48.9 python-dotenv-1.0.1 starlette-0.37.2 uvicorn-0.29.0 uvloop-0.19.0 watchfiles-0.21.0 websockets-12.0\n",
            "Collecting tiktoken\n",
            "  Downloading tiktoken-0.6.0-cp310-cp310-manylinux_2_17_x86_64.manylinux2014_x86_64.whl (1.8 MB)\n",
            "\u001b[2K     \u001b[90m━━━━━━━━━━━━━━━━━━━━━━━━━━━━━━━━━━━━━━━━\u001b[0m \u001b[32m1.8/1.8 MB\u001b[0m \u001b[31m12.2 MB/s\u001b[0m eta \u001b[36m0:00:00\u001b[0m\n",
            "\u001b[?25hRequirement already satisfied: regex>=2022.1.18 in /usr/local/lib/python3.10/dist-packages (from tiktoken) (2023.12.25)\n",
            "Requirement already satisfied: requests>=2.26.0 in /usr/local/lib/python3.10/dist-packages (from tiktoken) (2.31.0)\n",
            "Requirement already satisfied: charset-normalizer<4,>=2 in /usr/local/lib/python3.10/dist-packages (from requests>=2.26.0->tiktoken) (3.3.2)\n",
            "Requirement already satisfied: idna<4,>=2.5 in /usr/local/lib/python3.10/dist-packages (from requests>=2.26.0->tiktoken) (3.6)\n",
            "Requirement already satisfied: urllib3<3,>=1.21.1 in /usr/local/lib/python3.10/dist-packages (from requests>=2.26.0->tiktoken) (2.0.7)\n",
            "Requirement already satisfied: certifi>=2017.4.17 in /usr/local/lib/python3.10/dist-packages (from requests>=2.26.0->tiktoken) (2024.2.2)\n",
            "Installing collected packages: tiktoken\n",
            "Successfully installed tiktoken-0.6.0\n",
            "Collecting sentence-transformers\n",
            "  Downloading sentence_transformers-2.6.1-py3-none-any.whl (163 kB)\n",
            "\u001b[2K     \u001b[90m━━━━━━━━━━━━━━━━━━━━━━━━━━━━━━━━━━━━━━━━\u001b[0m \u001b[32m163.3/163.3 kB\u001b[0m \u001b[31m2.6 MB/s\u001b[0m eta \u001b[36m0:00:00\u001b[0m\n",
            "\u001b[?25hRequirement already satisfied: transformers<5.0.0,>=4.32.0 in /usr/local/lib/python3.10/dist-packages (from sentence-transformers) (4.38.2)\n",
            "Requirement already satisfied: tqdm in /usr/local/lib/python3.10/dist-packages (from sentence-transformers) (4.66.2)\n",
            "Requirement already satisfied: torch>=1.11.0 in /usr/local/lib/python3.10/dist-packages (from sentence-transformers) (2.2.1+cu121)\n",
            "Requirement already satisfied: numpy in /usr/local/lib/python3.10/dist-packages (from sentence-transformers) (1.25.2)\n",
            "Requirement already satisfied: scikit-learn in /usr/local/lib/python3.10/dist-packages (from sentence-transformers) (1.2.2)\n",
            "Requirement already satisfied: scipy in /usr/local/lib/python3.10/dist-packages (from sentence-transformers) (1.11.4)\n",
            "Requirement already satisfied: huggingface-hub>=0.15.1 in /usr/local/lib/python3.10/dist-packages (from sentence-transformers) (0.20.3)\n",
            "Requirement already satisfied: Pillow in /usr/local/lib/python3.10/dist-packages (from sentence-transformers) (9.4.0)\n",
            "Requirement already satisfied: filelock in /usr/local/lib/python3.10/dist-packages (from huggingface-hub>=0.15.1->sentence-transformers) (3.13.4)\n",
            "Requirement already satisfied: fsspec>=2023.5.0 in /usr/local/lib/python3.10/dist-packages (from huggingface-hub>=0.15.1->sentence-transformers) (2023.6.0)\n",
            "Requirement already satisfied: requests in /usr/local/lib/python3.10/dist-packages (from huggingface-hub>=0.15.1->sentence-transformers) (2.31.0)\n",
            "Requirement already satisfied: pyyaml>=5.1 in /usr/local/lib/python3.10/dist-packages (from huggingface-hub>=0.15.1->sentence-transformers) (6.0.1)\n",
            "Requirement already satisfied: typing-extensions>=3.7.4.3 in /usr/local/lib/python3.10/dist-packages (from huggingface-hub>=0.15.1->sentence-transformers) (4.11.0)\n",
            "Requirement already satisfied: packaging>=20.9 in /usr/local/lib/python3.10/dist-packages (from huggingface-hub>=0.15.1->sentence-transformers) (23.2)\n",
            "Requirement already satisfied: sympy in /usr/local/lib/python3.10/dist-packages (from torch>=1.11.0->sentence-transformers) (1.12)\n",
            "Requirement already satisfied: networkx in /usr/local/lib/python3.10/dist-packages (from torch>=1.11.0->sentence-transformers) (3.3)\n",
            "Requirement already satisfied: jinja2 in /usr/local/lib/python3.10/dist-packages (from torch>=1.11.0->sentence-transformers) (3.1.3)\n",
            "Collecting nvidia-cuda-nvrtc-cu12==12.1.105 (from torch>=1.11.0->sentence-transformers)\n",
            "  Using cached nvidia_cuda_nvrtc_cu12-12.1.105-py3-none-manylinux1_x86_64.whl (23.7 MB)\n",
            "Collecting nvidia-cuda-runtime-cu12==12.1.105 (from torch>=1.11.0->sentence-transformers)\n",
            "  Using cached nvidia_cuda_runtime_cu12-12.1.105-py3-none-manylinux1_x86_64.whl (823 kB)\n",
            "Collecting nvidia-cuda-cupti-cu12==12.1.105 (from torch>=1.11.0->sentence-transformers)\n",
            "  Using cached nvidia_cuda_cupti_cu12-12.1.105-py3-none-manylinux1_x86_64.whl (14.1 MB)\n",
            "Collecting nvidia-cudnn-cu12==8.9.2.26 (from torch>=1.11.0->sentence-transformers)\n",
            "  Using cached nvidia_cudnn_cu12-8.9.2.26-py3-none-manylinux1_x86_64.whl (731.7 MB)\n",
            "Collecting nvidia-cublas-cu12==12.1.3.1 (from torch>=1.11.0->sentence-transformers)\n",
            "  Using cached nvidia_cublas_cu12-12.1.3.1-py3-none-manylinux1_x86_64.whl (410.6 MB)\n",
            "Collecting nvidia-cufft-cu12==11.0.2.54 (from torch>=1.11.0->sentence-transformers)\n",
            "  Using cached nvidia_cufft_cu12-11.0.2.54-py3-none-manylinux1_x86_64.whl (121.6 MB)\n",
            "Collecting nvidia-curand-cu12==10.3.2.106 (from torch>=1.11.0->sentence-transformers)\n",
            "  Using cached nvidia_curand_cu12-10.3.2.106-py3-none-manylinux1_x86_64.whl (56.5 MB)\n",
            "Collecting nvidia-cusolver-cu12==11.4.5.107 (from torch>=1.11.0->sentence-transformers)\n",
            "  Using cached nvidia_cusolver_cu12-11.4.5.107-py3-none-manylinux1_x86_64.whl (124.2 MB)\n",
            "Collecting nvidia-cusparse-cu12==12.1.0.106 (from torch>=1.11.0->sentence-transformers)\n",
            "  Using cached nvidia_cusparse_cu12-12.1.0.106-py3-none-manylinux1_x86_64.whl (196.0 MB)\n",
            "Collecting nvidia-nccl-cu12==2.19.3 (from torch>=1.11.0->sentence-transformers)\n",
            "  Using cached nvidia_nccl_cu12-2.19.3-py3-none-manylinux1_x86_64.whl (166.0 MB)\n",
            "Collecting nvidia-nvtx-cu12==12.1.105 (from torch>=1.11.0->sentence-transformers)\n",
            "  Using cached nvidia_nvtx_cu12-12.1.105-py3-none-manylinux1_x86_64.whl (99 kB)\n",
            "Requirement already satisfied: triton==2.2.0 in /usr/local/lib/python3.10/dist-packages (from torch>=1.11.0->sentence-transformers) (2.2.0)\n",
            "Collecting nvidia-nvjitlink-cu12 (from nvidia-cusolver-cu12==11.4.5.107->torch>=1.11.0->sentence-transformers)\n",
            "  Using cached nvidia_nvjitlink_cu12-12.4.127-py3-none-manylinux2014_x86_64.whl (21.1 MB)\n",
            "Requirement already satisfied: regex!=2019.12.17 in /usr/local/lib/python3.10/dist-packages (from transformers<5.0.0,>=4.32.0->sentence-transformers) (2023.12.25)\n",
            "Requirement already satisfied: tokenizers<0.19,>=0.14 in /usr/local/lib/python3.10/dist-packages (from transformers<5.0.0,>=4.32.0->sentence-transformers) (0.15.2)\n",
            "Requirement already satisfied: safetensors>=0.4.1 in /usr/local/lib/python3.10/dist-packages (from transformers<5.0.0,>=4.32.0->sentence-transformers) (0.4.2)\n",
            "Requirement already satisfied: joblib>=1.1.1 in /usr/local/lib/python3.10/dist-packages (from scikit-learn->sentence-transformers) (1.4.0)\n",
            "Requirement already satisfied: threadpoolctl>=2.0.0 in /usr/local/lib/python3.10/dist-packages (from scikit-learn->sentence-transformers) (3.4.0)\n",
            "Requirement already satisfied: MarkupSafe>=2.0 in /usr/local/lib/python3.10/dist-packages (from jinja2->torch>=1.11.0->sentence-transformers) (2.1.5)\n",
            "Requirement already satisfied: charset-normalizer<4,>=2 in /usr/local/lib/python3.10/dist-packages (from requests->huggingface-hub>=0.15.1->sentence-transformers) (3.3.2)\n",
            "Requirement already satisfied: idna<4,>=2.5 in /usr/local/lib/python3.10/dist-packages (from requests->huggingface-hub>=0.15.1->sentence-transformers) (3.6)\n",
            "Requirement already satisfied: urllib3<3,>=1.21.1 in /usr/local/lib/python3.10/dist-packages (from requests->huggingface-hub>=0.15.1->sentence-transformers) (2.0.7)\n",
            "Requirement already satisfied: certifi>=2017.4.17 in /usr/local/lib/python3.10/dist-packages (from requests->huggingface-hub>=0.15.1->sentence-transformers) (2024.2.2)\n",
            "Requirement already satisfied: mpmath>=0.19 in /usr/local/lib/python3.10/dist-packages (from sympy->torch>=1.11.0->sentence-transformers) (1.3.0)\n",
            "Installing collected packages: nvidia-nvtx-cu12, nvidia-nvjitlink-cu12, nvidia-nccl-cu12, nvidia-curand-cu12, nvidia-cufft-cu12, nvidia-cuda-runtime-cu12, nvidia-cuda-nvrtc-cu12, nvidia-cuda-cupti-cu12, nvidia-cublas-cu12, nvidia-cusparse-cu12, nvidia-cudnn-cu12, nvidia-cusolver-cu12, sentence-transformers\n",
            "Successfully installed nvidia-cublas-cu12-12.1.3.1 nvidia-cuda-cupti-cu12-12.1.105 nvidia-cuda-nvrtc-cu12-12.1.105 nvidia-cuda-runtime-cu12-12.1.105 nvidia-cudnn-cu12-8.9.2.26 nvidia-cufft-cu12-11.0.2.54 nvidia-curand-cu12-10.3.2.106 nvidia-cusolver-cu12-11.4.5.107 nvidia-cusparse-cu12-12.1.0.106 nvidia-nccl-cu12-2.19.3 nvidia-nvjitlink-cu12-12.4.127 nvidia-nvtx-cu12-12.1.105 sentence-transformers-2.6.1\n"
          ]
        }
      ],
      "source": [
        "!pip install openai # openai 라이브러리를 설치합니다.\n",
        "!pip install langchain # 랭체인 라이브러리를 설치합니다.\n",
        "!pip install tqdm\n",
        "!pip install chromadb # 벡터스토어\n",
        "!pip install tiktoken # 토큰 계산용\n",
        "!pip install sentence-transformers"
      ]
    },
    {
      "cell_type": "markdown",
      "metadata": {
        "id": "y_OFQTkbMeDP"
      },
      "source": [
        "# RAG를 위한 파일 준비"
      ]
    },
    {
      "cell_type": "code",
      "execution_count": null,
      "metadata": {
        "colab": {
          "base_uri": "https://localhost:8080/"
        },
        "id": "n1F_2X0_MZw9",
        "outputId": "e941a8cc-d8b4-4838-cb59-72a9da2e6191"
      },
      "outputs": [
        {
          "data": {
            "text/plain": [
              "('state_of_the_union.txt', <http.client.HTTPMessage at 0x7acbcf1b2020>)"
            ]
          },
          "execution_count": 3,
          "metadata": {},
          "output_type": "execute_result"
        }
      ],
      "source": [
        "\n",
        "import urllib.request\n",
        "\n",
        "urllib.request.urlretrieve(\n",
        "    \"https://raw.githubusercontent.com/hwchase17/chat-your-data/master/state_of_the_union.txt\",\n",
        "    filename=\"state_of_the_union.txt\"\n",
        ")"
      ]
    },
    {
      "cell_type": "markdown",
      "metadata": {
        "id": "7FnesyzMM4aM"
      },
      "source": [
        "# 랭체인기반 벡터스토어 구축"
      ]
    },
    {
      "cell_type": "code",
      "execution_count": null,
      "metadata": {
        "colab": {
          "base_uri": "https://localhost:8080/"
        },
        "id": "3XgWMroNMbu_",
        "outputId": "1e78ce5e-5117-4843-f978-253b3e329f80"
      },
      "outputs": [
        {
          "name": "stderr",
          "output_type": "stream",
          "text": [
            "/usr/local/lib/python3.10/dist-packages/langchain_core/_api/deprecation.py:117: LangChainDeprecationWarning: The class `langchain_community.embeddings.openai.OpenAIEmbeddings` was deprecated in langchain-community 0.0.9 and will be removed in 0.2.0. An updated version of the class exists in the langchain-openai package and should be used instead. To use it run `pip install -U langchain-openai` and import as `from langchain_openai import OpenAIEmbeddings`.\n",
            "  warn_deprecated(\n"
          ]
        }
      ],
      "source": [
        "from langchain.document_loaders import TextLoader\n",
        "from langchain.embeddings.openai import OpenAIEmbeddings\n",
        "from langchain.text_splitter import CharacterTextSplitter\n",
        "from langchain.vectorstores import Chroma\n",
        "\n",
        "raw_documents = TextLoader('state_of_the_union.txt').load()\n",
        "text_splitter = CharacterTextSplitter(chunk_size=1000, chunk_overlap=0)\n",
        "documents = text_splitter.split_documents(raw_documents)\n",
        "db = Chroma.from_documents(documents, OpenAIEmbeddings())"
      ]
    },
    {
      "cell_type": "code",
      "execution_count": null,
      "metadata": {
        "colab": {
          "base_uri": "https://localhost:8080/"
        },
        "id": "-W6D0Gv2fkjf",
        "outputId": "8f1d0960-4036-4456-cec7-482b3d993ff6"
      },
      "outputs": [
        {
          "data": {
            "text/plain": [
              "[Document(page_content='Madam Speaker, Madam Vice President, our First Lady and Second Gentleman. Members of Congress and the Cabinet. Justices of the Supreme Court. My fellow Americans.  \\n\\nLast year COVID-19 kept us apart. This year we are finally together again. \\n\\nTonight, we meet as Democrats Republicans and Independents. But most importantly as Americans. \\n\\nWith a duty to one another to the American people to the Constitution. \\n\\nAnd with an unwavering resolve that freedom will always triumph over tyranny. \\n\\nSix days ago, Russia’s Vladimir Putin sought to shake the foundations of the free world thinking he could make it bend to his menacing ways. But he badly miscalculated. \\n\\nHe thought he could roll into Ukraine and the world would roll over. Instead he met a wall of strength he never imagined. \\n\\nHe met the Ukrainian people. \\n\\nFrom President Zelenskyy to every Ukrainian, their fearlessness, their courage, their determination, inspires the world.', metadata={'source': 'state_of_the_union.txt'}),\n",
              " Document(page_content='Groups of citizens blocking tanks with their bodies. Everyone from students to retirees teachers turned soldiers defending their homeland. \\n\\nIn this struggle as President Zelenskyy said in his speech to the European Parliament “Light will win over darkness.” The Ukrainian Ambassador to the United States is here tonight. \\n\\nLet each of us here tonight in this Chamber send an unmistakable signal to Ukraine and to the world. \\n\\nPlease rise if you are able and show that, Yes, we the United States of America stand with the Ukrainian people. \\n\\nThroughout our history we’ve learned this lesson when dictators do not pay a price for their aggression they cause more chaos.   \\n\\nThey keep moving.   \\n\\nAnd the costs and the threats to America and the world keep rising.   \\n\\nThat’s why the NATO Alliance was created to secure peace and stability in Europe after World War 2. \\n\\nThe United States is a member along with 29 other nations. \\n\\nIt matters. American diplomacy matters. American resolve matters.', metadata={'source': 'state_of_the_union.txt'}),\n",
              " Document(page_content='Putin’s latest attack on Ukraine was premeditated and unprovoked. \\n\\nHe rejected repeated efforts at diplomacy. \\n\\nHe thought the West and NATO wouldn’t respond. And he thought he could divide us at home. Putin was wrong. We were ready.  Here is what we did.   \\n\\nWe prepared extensively and carefully. \\n\\nWe spent months building a coalition of other freedom-loving nations from Europe and the Americas to Asia and Africa to confront Putin. \\n\\nI spent countless hours unifying our European allies. We shared with the world in advance what we knew Putin was planning and precisely how he would try to falsely justify his aggression.  \\n\\nWe countered Russia’s lies with truth.   \\n\\nAnd now that he has acted the free world is holding him accountable. \\n\\nAlong with twenty-seven members of the European Union including France, Germany, Italy, as well as countries like the United Kingdom, Canada, Japan, Korea, Australia, New Zealand, and many others, even Switzerland.', metadata={'source': 'state_of_the_union.txt'}),\n",
              " Document(page_content='We are inflicting pain on Russia and supporting the people of Ukraine. Putin is now isolated from the world more than ever. \\n\\nTogether with our allies –we are right now enforcing powerful economic sanctions. \\n\\nWe are cutting off Russia’s largest banks from the international financial system.  \\n\\nPreventing Russia’s central bank from defending the Russian Ruble making Putin’s $630 Billion “war fund” worthless.   \\n\\nWe are choking off Russia’s access to technology that will sap its economic strength and weaken its military for years to come.  \\n\\nTonight I say to the Russian oligarchs and corrupt leaders who have bilked billions of dollars off this violent regime no more. \\n\\nThe U.S. Department of Justice is assembling a dedicated task force to go after the crimes of Russian oligarchs.  \\n\\nWe are joining with our European allies to find and seize your yachts your luxury apartments your private jets. We are coming for your ill-begotten gains.', metadata={'source': 'state_of_the_union.txt'}),\n",
              " Document(page_content='And tonight I am announcing that we will join our allies in closing off American air space to all Russian flights – further isolating Russia – and adding an additional squeeze –on their economy. The Ruble has lost 30% of its value. \\n\\nThe Russian stock market has lost 40% of its value and trading remains suspended. Russia’s economy is reeling and Putin alone is to blame. \\n\\nTogether with our allies we are providing support to the Ukrainians in their fight for freedom. Military assistance. Economic assistance. Humanitarian assistance. \\n\\nWe are giving more than $1 Billion in direct assistance to Ukraine. \\n\\nAnd we will continue to aid the Ukrainian people as they defend their country and to help ease their suffering.  \\n\\nLet me be clear, our forces are not engaged and will not engage in conflict with Russian forces in Ukraine.  \\n\\nOur forces are not going to Europe to fight in Ukraine, but to defend our NATO Allies – in the event that Putin decides to keep moving west.', metadata={'source': 'state_of_the_union.txt'}),\n",
              " Document(page_content='For that purpose we’ve mobilized American ground forces, air squadrons, and ship deployments to protect NATO countries including Poland, Romania, Latvia, Lithuania, and Estonia. \\n\\nAs I have made crystal clear the United States and our Allies will defend every inch of territory of NATO countries with the full force of our collective power.  \\n\\nAnd we remain clear-eyed. The Ukrainians are fighting back with pure courage. But the next few days weeks, months, will be hard on them.  \\n\\nPutin has unleashed violence and chaos.  But while he may make gains on the battlefield – he will pay a continuing high price over the long run. \\n\\nAnd a proud Ukrainian people, who have known 30 years  of independence, have repeatedly shown that they will not tolerate anyone who tries to take their country backwards.  \\n\\nTo all Americans, I will be honest with you, as I’ve always promised. A Russian dictator, invading a foreign country, has costs around the world.', metadata={'source': 'state_of_the_union.txt'}),\n",
              " Document(page_content='And I’m taking robust action to make sure the pain of our sanctions  is targeted at Russia’s economy. And I will use every tool at our disposal to protect American businesses and consumers. \\n\\nTonight, I can announce that the United States has worked with 30 other countries to release 60 Million barrels of oil from reserves around the world.  \\n\\nAmerica will lead that effort, releasing 30 Million barrels from our own Strategic Petroleum Reserve. And we stand ready to do more if necessary, unified with our allies.  \\n\\nThese steps will help blunt gas prices here at home. And I know the news about what’s happening can seem alarming. \\n\\nBut I want you to know that we are going to be okay. \\n\\nWhen the history of this era is written Putin’s war on Ukraine will have left Russia weaker and the rest of the world stronger. \\n\\nWhile it shouldn’t have taken something so terrible for people around the world to see what’s at stake now everyone sees it clearly.', metadata={'source': 'state_of_the_union.txt'}),\n",
              " Document(page_content='We see the unity among leaders of nations and a more unified Europe a more unified West. And we see unity among the people who are gathering in cities in large crowds around the world even in Russia to demonstrate their support for Ukraine.  \\n\\nIn the battle between democracy and autocracy, democracies are rising to the moment, and the world is clearly choosing the side of peace and security. \\n\\nThis is a real test. It’s going to take time. So let us continue to draw inspiration from the iron will of the Ukrainian people. \\n\\nTo our fellow Ukrainian Americans who forge a deep bond that connects our two nations we stand with you. \\n\\nPutin may circle Kyiv with tanks, but he will never gain the hearts and souls of the Ukrainian people. \\n\\nHe will never extinguish their love of freedom. He will never weaken the resolve of the free world. \\n\\nWe meet tonight in an America that has lived through two of the hardest years this nation has ever faced. \\n\\nThe pandemic has been punishing.', metadata={'source': 'state_of_the_union.txt'}),\n",
              " Document(page_content='And so many families are living paycheck to paycheck, struggling to keep up with the rising cost of food, gas, housing, and so much more. \\n\\nI understand. \\n\\nI remember when my Dad had to leave our home in Scranton, Pennsylvania to find work. I grew up in a family where if the price of food went up, you felt it. \\n\\nThat’s why one of the first things I did as President was fight to pass the American Rescue Plan.  \\n\\nBecause people were hurting. We needed to act, and we did. \\n\\nFew pieces of legislation have done more in a critical moment in our history to lift us out of crisis. \\n\\nIt fueled our efforts to vaccinate the nation and combat COVID-19. It delivered immediate economic relief for tens of millions of Americans.  \\n\\nHelped put food on their table, keep a roof over their heads, and cut the cost of health insurance. \\n\\nAnd as my Dad used to say, it gave people a little breathing room.', metadata={'source': 'state_of_the_union.txt'}),\n",
              " Document(page_content='And unlike the $2 Trillion tax cut passed in the previous administration that benefitted the top 1% of Americans, the American Rescue Plan helped working people—and left no one behind. \\n\\nAnd it worked. It created jobs. Lots of jobs. \\n\\nIn fact—our economy created over 6.5 Million new jobs just last year, more jobs created in one year  \\nthan ever before in the history of America. \\n\\nOur economy grew at a rate of 5.7% last year, the strongest growth in nearly 40 years, the first step in bringing fundamental change to an economy that hasn’t worked for the working people of this nation for too long.  \\n\\nFor the past 40 years we were told that if we gave tax breaks to those at the very top, the benefits would trickle down to everyone else. \\n\\nBut that trickle-down theory led to weaker economic growth, lower wages, bigger deficits, and the widest gap between those at the top and everyone else in nearly a century.', metadata={'source': 'state_of_the_union.txt'}),\n",
              " Document(page_content='Vice President Harris and I ran for office with a new economic vision for America. \\n\\nInvest in America. Educate Americans. Grow the workforce. Build the economy from the bottom up  \\nand the middle out, not from the top down.  \\n\\nBecause we know that when the middle class grows, the poor have a ladder up and the wealthy do very well. \\n\\nAmerica used to have the best roads, bridges, and airports on Earth. \\n\\nNow our infrastructure is ranked 13th in the world. \\n\\nWe won’t be able to compete for the jobs of the 21st Century if we don’t fix that. \\n\\nThat’s why it was so important to pass the Bipartisan Infrastructure Law—the most sweeping investment to rebuild America in history. \\n\\nThis was a bipartisan effort, and I want to thank the members of both parties who worked to make it happen. \\n\\nWe’re done talking about infrastructure weeks. \\n\\nWe’re going to have an infrastructure decade.', metadata={'source': 'state_of_the_union.txt'}),\n",
              " Document(page_content='It is going to transform America and put us on a path to win the economic competition of the 21st Century that we face with the rest of the world—particularly with China.  \\n\\nAs I’ve told Xi Jinping, it is never a good bet to bet against the American people. \\n\\nWe’ll create good jobs for millions of Americans, modernizing roads, airports, ports, and waterways all across America. \\n\\nAnd we’ll do it all to withstand the devastating effects of the climate crisis and promote environmental justice. \\n\\nWe’ll build a national network of 500,000 electric vehicle charging stations, begin to replace poisonous lead pipes—so every child—and every American—has clean water to drink at home and at school, provide affordable high-speed internet for every American—urban, suburban, rural, and tribal communities. \\n\\n4,000 projects have already been announced. \\n\\nAnd tonight, I’m announcing that this year we will start fixing over 65,000 miles of highway and 1,500 bridges in disrepair.', metadata={'source': 'state_of_the_union.txt'}),\n",
              " Document(page_content='When we use taxpayer dollars to rebuild America – we are going to Buy American: buy American products to support American jobs. \\n\\nThe federal government spends about $600 Billion a year to keep the country safe and secure. \\n\\nThere’s been a law on the books for almost a century \\nto make sure taxpayers’ dollars support American jobs and businesses. \\n\\nEvery Administration says they’ll do it, but we are actually doing it. \\n\\nWe will buy American to make sure everything from the deck of an aircraft carrier to the steel on highway guardrails are made in America. \\n\\nBut to compete for the best jobs of the future, we also need to level the playing field with China and other competitors. \\n\\nThat’s why it is so important to pass the Bipartisan Innovation Act sitting in Congress that will make record investments in emerging technologies and American manufacturing. \\n\\nLet me give you one example of why it’s so important to pass it.', metadata={'source': 'state_of_the_union.txt'}),\n",
              " Document(page_content='If you travel 20 miles east of Columbus, Ohio, you’ll find 1,000 empty acres of land. \\n\\nIt won’t look like much, but if you stop and look closely, you’ll see a “Field of dreams,” the ground on which America’s future will be built. \\n\\nThis is where Intel, the American company that helped build Silicon Valley, is going to build its $20 billion semiconductor “mega site”. \\n\\nUp to eight state-of-the-art factories in one place. 10,000 new good-paying jobs. \\n\\nSome of the most sophisticated manufacturing in the world to make computer chips the size of a fingertip that power the world and our everyday lives. \\n\\nSmartphones. The Internet. Technology we have yet to invent. \\n\\nBut that’s just the beginning. \\n\\nIntel’s CEO, Pat Gelsinger, who is here tonight, told me they are ready to increase their investment from  \\n$20 billion to $100 billion. \\n\\nThat would be one of the biggest investments in manufacturing in American history. \\n\\nAnd all they’re waiting for is for you to pass this bill.', metadata={'source': 'state_of_the_union.txt'}),\n",
              " Document(page_content='So let’s not wait any longer. Send it to my desk. I’ll sign it.  \\n\\nAnd we will really take off. \\n\\nAnd Intel is not alone. \\n\\nThere’s something happening in America. \\n\\nJust look around and you’ll see an amazing story. \\n\\nThe rebirth of the pride that comes from stamping products “Made In America.” The revitalization of American manufacturing.   \\n\\nCompanies are choosing to build new factories here, when just a few years ago, they would have built them overseas. \\n\\nThat’s what is happening. Ford is investing $11 billion to build electric vehicles, creating 11,000 jobs across the country. \\n\\nGM is making the largest investment in its history—$7 billion to build electric vehicles, creating 4,000 jobs in Michigan. \\n\\nAll told, we created 369,000 new manufacturing jobs in America just last year. \\n\\nPowered by people I’ve met like JoJo Burgess, from generations of union steelworkers from Pittsburgh, who’s here with us tonight.', metadata={'source': 'state_of_the_union.txt'}),\n",
              " Document(page_content='As Ohio Senator Sherrod Brown says, “It’s time to bury the label “Rust Belt.” \\n\\nIt’s time. \\n\\nBut with all the bright spots in our economy, record job growth and higher wages, too many families are struggling to keep up with the bills.  \\n\\nInflation is robbing them of the gains they might otherwise feel. \\n\\nI get it. That’s why my top priority is getting prices under control. \\n\\nLook, our economy roared back faster than most predicted, but the pandemic meant that businesses had a hard time hiring enough workers to keep up production in their factories. \\n\\nThe pandemic also disrupted global supply chains. \\n\\nWhen factories close, it takes longer to make goods and get them from the warehouse to the store, and prices go up. \\n\\nLook at cars. \\n\\nLast year, there weren’t enough semiconductors to make all the cars that people wanted to buy. \\n\\nAnd guess what, prices of automobiles went up. \\n\\nSo—we have a choice. \\n\\nOne way to fight inflation is to drive down wages and make Americans poorer.', metadata={'source': 'state_of_the_union.txt'}),\n",
              " Document(page_content='I have a better plan to fight inflation. \\n\\nLower your costs, not your wages. \\n\\nMake more cars and semiconductors in America. \\n\\nMore infrastructure and innovation in America. \\n\\nMore goods moving faster and cheaper in America. \\n\\nMore jobs where you can earn a good living in America. \\n\\nAnd instead of relying on foreign supply chains, let’s make it in America. \\n\\nEconomists call it “increasing the productive capacity of our economy.” \\n\\nI call it building a better America. \\n\\nMy plan to fight inflation will lower your costs and lower the deficit. \\n\\n17 Nobel laureates in economics say my plan will ease long-term inflationary pressures. Top business leaders and most Americans support my plan. And here’s the plan: \\n\\nFirst – cut the cost of prescription drugs. Just look at insulin. One in ten Americans has diabetes. In Virginia, I met a 13-year-old boy named Joshua Davis.', metadata={'source': 'state_of_the_union.txt'}),\n",
              " Document(page_content='He and his Dad both have Type 1 diabetes, which means they need insulin every day. Insulin costs about $10 a vial to make.  \\n\\nBut drug companies charge families like Joshua and his Dad up to 30 times more. I spoke with Joshua’s mom. \\n\\nImagine what it’s like to look at your child who needs insulin and have no idea how you’re going to pay for it.  \\n\\nWhat it does to your dignity, your ability to look your child in the eye, to be the parent you expect to be. \\n\\nJoshua is here with us tonight. Yesterday was his birthday. Happy birthday, buddy.  \\n\\nFor Joshua, and for the 200,000 other young people with Type 1 diabetes, let’s cap the cost of insulin at $35 a month so everyone can afford it.  \\n\\nDrug companies will still do very well. And while we’re at it let Medicare negotiate lower prices for prescription drugs, like the VA already does.', metadata={'source': 'state_of_the_union.txt'}),\n",
              " Document(page_content='Look, the American Rescue Plan is helping millions of families on Affordable Care Act plans save $2,400 a year on their health care premiums. Let’s close the coverage gap and make those savings permanent. \\n\\nSecond – cut energy costs for families an average of $500 a year by combatting climate change.  \\n\\nLet’s provide investments and tax credits to weatherize your homes and businesses to be energy efficient and you get a tax credit; double America’s clean energy production in solar, wind, and so much more;  lower the price of electric vehicles, saving you another $80 a month because you’ll never have to pay at the gas pump again. \\n\\nThird – cut the cost of child care. Many families pay up to $14,000 a year for child care per child.  \\n\\nMiddle-class and working families shouldn’t have to pay more than 7% of their income for care of young children.', metadata={'source': 'state_of_the_union.txt'}),\n",
              " Document(page_content='My plan will cut the cost in half for most families and help parents, including millions of women, who left the workforce during the pandemic because they couldn’t afford child care, to be able to get back to work. \\n\\nMy plan doesn’t stop there. It also includes home and long-term care. More affordable housing. And Pre-K for every 3- and 4-year-old.  \\n\\nAll of these will lower costs. \\n\\nAnd under my plan, nobody earning less than $400,000 a year will pay an additional penny in new taxes. Nobody.  \\n\\nThe one thing all Americans agree on is that the tax system is not fair. We have to fix it.  \\n\\nI’m not looking to punish anyone. But let’s make sure corporations and the wealthiest Americans start paying their fair share. \\n\\nJust last year, 55 Fortune 500 corporations earned $40 billion in profits and paid zero dollars in federal income tax.  \\n\\nThat’s simply not fair. That’s why I’ve proposed a 15% minimum tax rate for corporations.', metadata={'source': 'state_of_the_union.txt'}),\n",
              " Document(page_content='We got more than 130 countries to agree on a global minimum tax rate so companies can’t get out of paying their taxes at home by shipping jobs and factories overseas. \\n\\nThat’s why I’ve proposed closing loopholes so the very wealthy don’t pay a lower tax rate than a teacher or a firefighter.  \\n\\nSo that’s my plan. It will grow the economy and lower costs for families. \\n\\nSo what are we waiting for? Let’s get this done. And while you’re at it, confirm my nominees to the Federal Reserve, which plays a critical role in fighting inflation.  \\n\\nMy plan will not only lower costs to give families a fair shot, it will lower the deficit. \\n\\nThe previous Administration not only ballooned the deficit with tax cuts for the very wealthy and corporations, it undermined the watchdogs whose job was to keep pandemic relief funds from being wasted. \\n\\nBut in my administration, the watchdogs have been welcomed back.', metadata={'source': 'state_of_the_union.txt'}),\n",
              " Document(page_content='We’re going after the criminals who stole billions in relief money meant for small businesses and millions of Americans.  \\n\\nAnd tonight, I’m announcing that the Justice Department will name a chief prosecutor for pandemic fraud. \\n\\nBy the end of this year, the deficit will be down to less than half what it was before I took office.  \\n\\nThe only president ever to cut the deficit by more than one trillion dollars in a single year. \\n\\nLowering your costs also means demanding more competition. \\n\\nI’m a capitalist, but capitalism without competition isn’t capitalism. \\n\\nIt’s exploitation—and it drives up prices. \\n\\nWhen corporations don’t have to compete, their profits go up, your prices go up, and small businesses and family farmers and ranchers go under. \\n\\nWe see it happening with ocean carriers moving goods in and out of America. \\n\\nDuring the pandemic, these foreign-owned companies raised prices by as much as 1,000% and made record profits.', metadata={'source': 'state_of_the_union.txt'}),\n",
              " Document(page_content='Tonight, I’m announcing a crackdown on these companies overcharging American businesses and consumers. \\n\\nAnd as Wall Street firms take over more nursing homes, quality in those homes has gone down and costs have gone up.  \\n\\nThat ends on my watch. \\n\\nMedicare is going to set higher standards for nursing homes and make sure your loved ones get the care they deserve and expect. \\n\\nWe’ll also cut costs and keep the economy going strong by giving workers a fair shot, provide more training and apprenticeships, hire them based on their skills not degrees. \\n\\nLet’s pass the Paycheck Fairness Act and paid leave.  \\n\\nRaise the minimum wage to $15 an hour and extend the Child Tax Credit, so no one has to raise a family in poverty. \\n\\nLet’s increase Pell Grants and increase our historic support of HBCUs, and invest in what Jill—our First Lady who teaches full-time—calls America’s best-kept secret: community colleges.', metadata={'source': 'state_of_the_union.txt'}),\n",
              " Document(page_content='And let’s pass the PRO Act when a majority of workers want to form a union—they shouldn’t be stopped.  \\n\\nWhen we invest in our workers, when we build the economy from the bottom up and the middle out together, we can do something we haven’t done in a long time: build a better America. \\n\\nFor more than two years, COVID-19 has impacted every decision in our lives and the life of the nation. \\n\\nAnd I know you’re tired, frustrated, and exhausted. \\n\\nBut I also know this. \\n\\nBecause of the progress we’ve made, because of your resilience and the tools we have, tonight I can say  \\nwe are moving forward safely, back to more normal routines.  \\n\\nWe’ve reached a new moment in the fight against COVID-19, with severe cases down to a level not seen since last July.  \\n\\nJust a few days ago, the Centers for Disease Control and Prevention—the CDC—issued new mask guidelines. \\n\\nUnder these new guidelines, most Americans in most of the country can now be mask free.', metadata={'source': 'state_of_the_union.txt'}),\n",
              " Document(page_content='And based on the projections, more of the country will reach that point across the next couple of weeks. \\n\\nThanks to the progress we have made this past year, COVID-19 need no longer control our lives.  \\n\\nI know some are talking about “living with COVID-19”. Tonight – I say that we will never just accept living with COVID-19. \\n\\nWe will continue to combat the virus as we do other diseases. And because this is a virus that mutates and spreads, we will stay on guard. \\n\\nHere are four common sense steps as we move forward safely.  \\n\\nFirst, stay protected with vaccines and treatments. We know how incredibly effective vaccines are. If you’re vaccinated and boosted you have the highest degree of protection. \\n\\nWe will never give up on vaccinating more Americans. Now, I know parents with kids under 5 are eager to see a vaccine authorized for their children. \\n\\nThe scientists are working hard to get that done and we’ll be ready with plenty of vaccines when they do.', metadata={'source': 'state_of_the_union.txt'}),\n",
              " Document(page_content='We’re also ready with anti-viral treatments. If you get COVID-19, the Pfizer pill reduces your chances of ending up in the hospital by 90%.  \\n\\nWe’ve ordered more of these pills than anyone in the world. And Pfizer is working overtime to get us 1 Million pills this month and more than double that next month.  \\n\\nAnd we’re launching the “Test to Treat” initiative so people can get tested at a pharmacy, and if they’re positive, receive antiviral pills on the spot at no cost.  \\n\\nIf you’re immunocompromised or have some other vulnerability, we have treatments and free high-quality masks. \\n\\nWe’re leaving no one behind or ignoring anyone’s needs as we move forward. \\n\\nAnd on testing, we have made hundreds of millions of tests available for you to order for free.   \\n\\nEven if you already ordered free tests tonight, I am announcing that you can order more from covidtests.gov starting next week.', metadata={'source': 'state_of_the_union.txt'}),\n",
              " Document(page_content='Second – we must prepare for new variants. Over the past year, we’ve gotten much better at detecting new variants. \\n\\nIf necessary, we’ll be able to deploy new vaccines within 100 days instead of many more months or years.  \\n\\nAnd, if Congress provides the funds we need, we’ll have new stockpiles of tests, masks, and pills ready if needed. \\n\\nI cannot promise a new variant won’t come. But I can promise you we’ll do everything within our power to be ready if it does.  \\n\\nThird – we can end the shutdown of schools and businesses. We have the tools we need. \\n\\nIt’s time for Americans to get back to work and fill our great downtowns again.  People working from home can feel safe to begin to return to the office.   \\n\\nWe’re doing that here in the federal government. The vast majority of federal workers will once again work in person. \\n\\nOur schools are open. Let’s keep it that way. Our kids need to be in school.', metadata={'source': 'state_of_the_union.txt'}),\n",
              " Document(page_content='And with 75% of adult Americans fully vaccinated and hospitalizations down by 77%, most Americans can remove their masks, return to work, stay in the classroom, and move forward safely. \\n\\nWe achieved this because we provided free vaccines, treatments, tests, and masks. \\n\\nOf course, continuing this costs money. \\n\\nI will soon send Congress a request. \\n\\nThe vast majority of Americans have used these tools and may want to again, so I expect Congress to pass it quickly.   \\n\\nFourth, we will continue vaccinating the world.     \\n\\nWe’ve sent 475 Million vaccine doses to 112 countries, more than any other nation. \\n\\nAnd we won’t stop. \\n\\nWe have lost so much to COVID-19. Time with one another. And worst of all, so much loss of life. \\n\\nLet’s use this moment to reset. Let’s stop looking at COVID-19 as a partisan dividing line and see it for what it is: A God-awful disease.  \\n\\nLet’s stop seeing each other as enemies, and start seeing each other for who we really are: Fellow Americans.', metadata={'source': 'state_of_the_union.txt'}),\n",
              " Document(page_content='We can’t change how divided we’ve been. But we can change how we move forward—on COVID-19 and other issues we must face together. \\n\\nI recently visited the New York City Police Department days after the funerals of Officer Wilbert Mora and his partner, Officer Jason Rivera. \\n\\nThey were responding to a 9-1-1 call when a man shot and killed them with a stolen gun. \\n\\nOfficer Mora was 27 years old. \\n\\nOfficer Rivera was 22. \\n\\nBoth Dominican Americans who’d grown up on the same streets they later chose to patrol as police officers. \\n\\nI spoke with their families and told them that we are forever in debt for their sacrifice, and we will carry on their mission to restore the trust and safety every community deserves. \\n\\nI’ve worked on these issues a long time. \\n\\nI know what works: Investing in crime preventionand community police officers who’ll walk the beat, who’ll know the neighborhood, and who can restore trust and safety.', metadata={'source': 'state_of_the_union.txt'}),\n",
              " Document(page_content='So let’s not abandon our streets. Or choose between safety and equal justice. \\n\\nLet’s come together to protect our communities, restore trust, and hold law enforcement accountable. \\n\\nThat’s why the Justice Department required body cameras, banned chokeholds, and restricted no-knock warrants for its officers. \\n\\nThat’s why the American Rescue Plan provided $350 Billion that cities, states, and counties can use to hire more police and invest in proven strategies like community violence interruption—trusted messengers breaking the cycle of violence and trauma and giving young people hope.  \\n\\nWe should all agree: The answer is not to Defund the police. The answer is to FUND the police with the resources and training they need to protect our communities. \\n\\nI ask Democrats and Republicans alike: Pass my budget and keep our neighborhoods safe.', metadata={'source': 'state_of_the_union.txt'}),\n",
              " Document(page_content='And I will keep doing everything in my power to crack down on gun trafficking and ghost guns you can buy online and make at home—they have no serial numbers and can’t be traced. \\n\\nAnd I ask Congress to pass proven measures to reduce gun violence. Pass universal background checks. Why should anyone on a terrorist list be able to purchase a weapon? \\n\\nBan assault weapons and high-capacity magazines. \\n\\nRepeal the liability shield that makes gun manufacturers the only industry in America that can’t be sued. \\n\\nThese laws don’t infringe on the Second Amendment. They save lives. \\n\\nThe most fundamental right in America is the right to vote – and to have it counted. And it’s under assault. \\n\\nIn state after state, new laws have been passed, not only to suppress the vote, but to subvert entire elections. \\n\\nWe cannot let this happen.', metadata={'source': 'state_of_the_union.txt'}),\n",
              " Document(page_content='Tonight. I call on the Senate to: Pass the Freedom to Vote Act. Pass the John Lewis Voting Rights Act. And while you’re at it, pass the Disclose Act so Americans can know who is funding our elections. \\n\\nTonight, I’d like to honor someone who has dedicated his life to serve this country: Justice Stephen Breyer—an Army veteran, Constitutional scholar, and retiring Justice of the United States Supreme Court. Justice Breyer, thank you for your service. \\n\\nOne of the most serious constitutional responsibilities a President has is nominating someone to serve on the United States Supreme Court. \\n\\nAnd I did that 4 days ago, when I nominated Circuit Court of Appeals Judge Ketanji Brown Jackson. One of our nation’s top legal minds, who will continue Justice Breyer’s legacy of excellence.', metadata={'source': 'state_of_the_union.txt'}),\n",
              " Document(page_content='A former top litigator in private practice. A former federal public defender. And from a family of public school educators and police officers. A consensus builder. Since she’s been nominated, she’s received a broad range of support—from the Fraternal Order of Police to former judges appointed by Democrats and Republicans. \\n\\nAnd if we are to advance liberty and justice, we need to secure the Border and fix the immigration system. \\n\\nWe can do both. At our border, we’ve installed new technology like cutting-edge scanners to better detect drug smuggling.  \\n\\nWe’ve set up joint patrols with Mexico and Guatemala to catch more human traffickers.  \\n\\nWe’re putting in place dedicated immigration judges so families fleeing persecution and violence can have their cases heard faster. \\n\\nWe’re securing commitments and supporting partners in South and Central America to host more refugees and secure their own borders.', metadata={'source': 'state_of_the_union.txt'}),\n",
              " Document(page_content='We can do all this while keeping lit the torch of liberty that has led generations of immigrants to this land—my forefathers and so many of yours. \\n\\nProvide a pathway to citizenship for Dreamers, those on temporary status, farm workers, and essential workers. \\n\\nRevise our laws so businesses have the workers they need and families don’t wait decades to reunite. \\n\\nIt’s not only the right thing to do—it’s the economically smart thing to do. \\n\\nThat’s why immigration reform is supported by everyone from labor unions to religious leaders to the U.S. Chamber of Commerce. \\n\\nLet’s get it done once and for all. \\n\\nAdvancing liberty and justice also requires protecting the rights of women. \\n\\nThe constitutional right affirmed in Roe v. Wade—standing precedent for half a century—is under attack as never before. \\n\\nIf we want to go forward—not backward—we must protect access to health care. Preserve a woman’s right to choose. And let’s continue to advance maternal health care in America.', metadata={'source': 'state_of_the_union.txt'}),\n",
              " Document(page_content='And for our LGBTQ+ Americans, let’s finally get the bipartisan Equality Act to my desk. The onslaught of state laws targeting transgender Americans and their families is wrong. \\n\\nAs I said last year, especially to our younger transgender Americans, I will always have your back as your President, so you can be yourself and reach your God-given potential. \\n\\nWhile it often appears that we never agree, that isn’t true. I signed 80 bipartisan bills into law last year. From preventing government shutdowns to protecting Asian-Americans from still-too-common hate crimes to reforming military justice. \\n\\nAnd soon, we’ll strengthen the Violence Against Women Act that I first wrote three decades ago. It is important for us to show the nation that we can come together and do big things. \\n\\nSo tonight I’m offering a Unity Agenda for the Nation. Four big things we can do together.  \\n\\nFirst, beat the opioid epidemic.', metadata={'source': 'state_of_the_union.txt'}),\n",
              " Document(page_content='There is so much we can do. Increase funding for prevention, treatment, harm reduction, and recovery.  \\n\\nGet rid of outdated rules that stop doctors from prescribing treatments. And stop the flow of illicit drugs by working with state and local law enforcement to go after traffickers. \\n\\nIf you’re suffering from addiction, know you are not alone. I believe in recovery, and I celebrate the 23 million Americans in recovery. \\n\\nSecond, let’s take on mental health. Especially among our children, whose lives and education have been turned upside down.  \\n\\nThe American Rescue Plan gave schools money to hire teachers and help students make up for lost learning.  \\n\\nI urge every parent to make sure your school does just that. And we can all play a part—sign up to be a tutor or a mentor. \\n\\nChildren were also struggling before the pandemic. Bullying, violence, trauma, and the harms of social media.', metadata={'source': 'state_of_the_union.txt'}),\n",
              " Document(page_content='As Frances Haugen, who is here with us tonight, has shown, we must hold social media platforms accountable for the national experiment they’re conducting on our children for profit. \\n\\nIt’s time to strengthen privacy protections, ban targeted advertising to children, demand tech companies stop collecting personal data on our children. \\n\\nAnd let’s get all Americans the mental health services they need. More people they can turn to for help, and full parity between physical and mental health care. \\n\\nThird, support our veterans. \\n\\nVeterans are the best of us. \\n\\nI’ve always believed that we have a sacred obligation to equip all those we send to war and care for them and their families when they come home. \\n\\nMy administration is providing assistance with job training and housing, and now helping lower-income veterans get VA care debt-free.  \\n\\nOur troops in Iraq and Afghanistan faced many dangers.', metadata={'source': 'state_of_the_union.txt'}),\n",
              " Document(page_content='One was stationed at bases and breathing in toxic smoke from “burn pits” that incinerated wastes of war—medical and hazard material, jet fuel, and more. \\n\\nWhen they came home, many of the world’s fittest and best trained warriors were never the same. \\n\\nHeadaches. Numbness. Dizziness. \\n\\nA cancer that would put them in a flag-draped coffin. \\n\\nI know. \\n\\nOne of those soldiers was my son Major Beau Biden. \\n\\nWe don’t know for sure if a burn pit was the cause of his brain cancer, or the diseases of so many of our troops. \\n\\nBut I’m committed to finding out everything we can. \\n\\nCommitted to military families like Danielle Robinson from Ohio. \\n\\nThe widow of Sergeant First Class Heath Robinson.  \\n\\nHe was born a soldier. Army National Guard. Combat medic in Kosovo and Iraq. \\n\\nStationed near Baghdad, just yards from burn pits the size of football fields. \\n\\nHeath’s widow Danielle is here with us tonight. They loved going to Ohio State football games. He loved building Legos with their daughter.', metadata={'source': 'state_of_the_union.txt'}),\n",
              " Document(page_content='But cancer from prolonged exposure to burn pits ravaged Heath’s lungs and body. \\n\\nDanielle says Heath was a fighter to the very end. \\n\\nHe didn’t know how to stop fighting, and neither did she. \\n\\nThrough her pain she found purpose to demand we do better. \\n\\nTonight, Danielle—we are. \\n\\nThe VA is pioneering new ways of linking toxic exposures to diseases, already helping more veterans get benefits. \\n\\nAnd tonight, I’m announcing we’re expanding eligibility to veterans suffering from nine respiratory cancers. \\n\\nI’m also calling on Congress: pass a law to make sure veterans devastated by toxic exposures in Iraq and Afghanistan finally get the benefits and comprehensive health care they deserve. \\n\\nAnd fourth, let’s end cancer as we know it. \\n\\nThis is personal to me and Jill, to Kamala, and to so many of you. \\n\\nCancer is the #2 cause of death in America–second only to heart disease.', metadata={'source': 'state_of_the_union.txt'}),\n",
              " Document(page_content='Last month, I announced our plan to supercharge  \\nthe Cancer Moonshot that President Obama asked me to lead six years ago. \\n\\nOur goal is to cut the cancer death rate by at least 50% over the next 25 years, turn more cancers from death sentences into treatable diseases.  \\n\\nMore support for patients and families. \\n\\nTo get there, I call on Congress to fund ARPA-H, the Advanced Research Projects Agency for Health. \\n\\nIt’s based on DARPA—the Defense Department project that led to the Internet, GPS, and so much more.  \\n\\nARPA-H will have a singular purpose—to drive breakthroughs in cancer, Alzheimer’s, diabetes, and more. \\n\\nA unity agenda for the nation. \\n\\nWe can do this. \\n\\nMy fellow Americans—tonight , we have gathered in a sacred space—the citadel of our democracy. \\n\\nIn this Capitol, generation after generation, Americans have debated great questions amid great strife, and have done great things. \\n\\nWe have fought for freedom, expanded liberty, defeated totalitarianism and terror.', metadata={'source': 'state_of_the_union.txt'}),\n",
              " Document(page_content='And built the strongest, freest, and most prosperous nation the world has ever known. \\n\\nNow is the hour. \\n\\nOur moment of responsibility. \\n\\nOur test of resolve and conscience, of history itself. \\n\\nIt is in this moment that our character is formed. Our purpose is found. Our future is forged. \\n\\nWell I know this nation.  \\n\\nWe will meet the test. \\n\\nTo protect freedom and liberty, to expand fairness and opportunity. \\n\\nWe will save democracy. \\n\\nAs hard as these times have been, I am more optimistic about America today than I have been my whole life. \\n\\nBecause I see the future that is within our grasp. \\n\\nBecause I know there is simply nothing beyond our capacity. \\n\\nWe are the only nation on Earth that has always turned every crisis we have faced into an opportunity. \\n\\nThe only nation that can be defined by a single word: possibilities. \\n\\nSo on this night, in our 245th year as a nation, I have come to report on the State of the Union.', metadata={'source': 'state_of_the_union.txt'}),\n",
              " Document(page_content='And my report is this: the State of the Union is strong—because you, the American people, are strong. \\n\\nWe are stronger today than we were a year ago. \\n\\nAnd we will be stronger a year from now than we are today. \\n\\nNow is our moment to meet and overcome the challenges of our time. \\n\\nAnd we will, as one people. \\n\\nOne America. \\n\\nThe United States of America. \\n\\nMay God bless you all. May God protect our troops.', metadata={'source': 'state_of_the_union.txt'})]"
            ]
          },
          "execution_count": 5,
          "metadata": {},
          "output_type": "execute_result"
        }
      ],
      "source": [
        "documents"
      ]
    },
    {
      "cell_type": "code",
      "execution_count": null,
      "metadata": {
        "colab": {
          "base_uri": "https://localhost:8080/"
        },
        "id": "kxhqgEX9NEqj",
        "outputId": "844b9689-4fb6-4dd4-af26-2a2b4461580a"
      },
      "outputs": [
        {
          "data": {
            "text/plain": [
              "42"
            ]
          },
          "execution_count": 6,
          "metadata": {},
          "output_type": "execute_result"
        }
      ],
      "source": [
        "len(documents)"
      ]
    },
    {
      "cell_type": "code",
      "execution_count": null,
      "metadata": {
        "colab": {
          "base_uri": "https://localhost:8080/"
        },
        "id": "xv0jAyOtNHDK",
        "outputId": "bc78b4f6-387b-4b0a-d7b9-f3e6a3b7df59"
      },
      "outputs": [
        {
          "data": {
            "text/plain": [
              "[Document(page_content='Madam Speaker, Madam Vice President, our First Lady and Second Gentleman. Members of Congress and the Cabinet. Justices of the Supreme Court. My fellow Americans.  \\n\\nLast year COVID-19 kept us apart. This year we are finally together again. \\n\\nTonight, we meet as Democrats Republicans and Independents. But most importantly as Americans. \\n\\nWith a duty to one another to the American people to the Constitution. \\n\\nAnd with an unwavering resolve that freedom will always triumph over tyranny. \\n\\nSix days ago, Russia’s Vladimir Putin sought to shake the foundations of the free world thinking he could make it bend to his menacing ways. But he badly miscalculated. \\n\\nHe thought he could roll into Ukraine and the world would roll over. Instead he met a wall of strength he never imagined. \\n\\nHe met the Ukrainian people. \\n\\nFrom President Zelenskyy to every Ukrainian, their fearlessness, their courage, their determination, inspires the world.', metadata={'source': 'state_of_the_union.txt'}),\n",
              " Document(page_content='Groups of citizens blocking tanks with their bodies. Everyone from students to retirees teachers turned soldiers defending their homeland. \\n\\nIn this struggle as President Zelenskyy said in his speech to the European Parliament “Light will win over darkness.” The Ukrainian Ambassador to the United States is here tonight. \\n\\nLet each of us here tonight in this Chamber send an unmistakable signal to Ukraine and to the world. \\n\\nPlease rise if you are able and show that, Yes, we the United States of America stand with the Ukrainian people. \\n\\nThroughout our history we’ve learned this lesson when dictators do not pay a price for their aggression they cause more chaos.   \\n\\nThey keep moving.   \\n\\nAnd the costs and the threats to America and the world keep rising.   \\n\\nThat’s why the NATO Alliance was created to secure peace and stability in Europe after World War 2. \\n\\nThe United States is a member along with 29 other nations. \\n\\nIt matters. American diplomacy matters. American resolve matters.', metadata={'source': 'state_of_the_union.txt'}),\n",
              " Document(page_content='Putin’s latest attack on Ukraine was premeditated and unprovoked. \\n\\nHe rejected repeated efforts at diplomacy. \\n\\nHe thought the West and NATO wouldn’t respond. And he thought he could divide us at home. Putin was wrong. We were ready.  Here is what we did.   \\n\\nWe prepared extensively and carefully. \\n\\nWe spent months building a coalition of other freedom-loving nations from Europe and the Americas to Asia and Africa to confront Putin. \\n\\nI spent countless hours unifying our European allies. We shared with the world in advance what we knew Putin was planning and precisely how he would try to falsely justify his aggression.  \\n\\nWe countered Russia’s lies with truth.   \\n\\nAnd now that he has acted the free world is holding him accountable. \\n\\nAlong with twenty-seven members of the European Union including France, Germany, Italy, as well as countries like the United Kingdom, Canada, Japan, Korea, Australia, New Zealand, and many others, even Switzerland.', metadata={'source': 'state_of_the_union.txt'}),\n",
              " Document(page_content='We are inflicting pain on Russia and supporting the people of Ukraine. Putin is now isolated from the world more than ever. \\n\\nTogether with our allies –we are right now enforcing powerful economic sanctions. \\n\\nWe are cutting off Russia’s largest banks from the international financial system.  \\n\\nPreventing Russia’s central bank from defending the Russian Ruble making Putin’s $630 Billion “war fund” worthless.   \\n\\nWe are choking off Russia’s access to technology that will sap its economic strength and weaken its military for years to come.  \\n\\nTonight I say to the Russian oligarchs and corrupt leaders who have bilked billions of dollars off this violent regime no more. \\n\\nThe U.S. Department of Justice is assembling a dedicated task force to go after the crimes of Russian oligarchs.  \\n\\nWe are joining with our European allies to find and seize your yachts your luxury apartments your private jets. We are coming for your ill-begotten gains.', metadata={'source': 'state_of_the_union.txt'})]"
            ]
          },
          "execution_count": 7,
          "metadata": {},
          "output_type": "execute_result"
        }
      ],
      "source": [
        "documents[0:4]"
      ]
    },
    {
      "cell_type": "code",
      "execution_count": null,
      "metadata": {
        "colab": {
          "base_uri": "https://localhost:8080/"
        },
        "id": "8hdHUufeNRWz",
        "outputId": "5a0b0412-51fb-4c32-c1ff-3a78170766ae"
      },
      "outputs": [
        {
          "name": "stdout",
          "output_type": "stream",
          "text": [
            "Tonight. I call on the Senate to: Pass the Freedom to Vote Act. Pass the John Lewis Voting Rights Act. And while you’re at it, pass the Disclose Act so Americans can know who is funding our elections. \n",
            "\n",
            "Tonight, I’d like to honor someone who has dedicated his life to serve this country: Justice Stephen Breyer—an Army veteran, Constitutional scholar, and retiring Justice of the United States Supreme Court. Justice Breyer, thank you for your service. \n",
            "\n",
            "One of the most serious constitutional responsibilities a President has is nominating someone to serve on the United States Supreme Court. \n",
            "\n",
            "And I did that 4 days ago, when I nominated Circuit Court of Appeals Judge Ketanji Brown Jackson. One of our nation’s top legal minds, who will continue Justice Breyer’s legacy of excellence.\n"
          ]
        }
      ],
      "source": [
        "query = \"What did the president say about Ketanji Brown Jackson\"\n",
        "docs = db.similarity_search(query)\n",
        "print(docs[0].page_content)"
      ]
    },
    {
      "cell_type": "code",
      "execution_count": null,
      "metadata": {
        "colab": {
          "base_uri": "https://localhost:8080/"
        },
        "id": "8_CdliUUNVFn",
        "outputId": "0249498d-3385-4ef8-ffc9-e16472720fb1"
      },
      "outputs": [
        {
          "name": "stdout",
          "output_type": "stream",
          "text": [
            "Tonight. I call on the Senate to: Pass the Freedom to Vote Act. Pass the John Lewis Voting Rights Act. And while you’re at it, pass the Disclose Act so Americans can know who is funding our elections. \n",
            "\n",
            "Tonight, I’d like to honor someone who has dedicated his life to serve this country: Justice Stephen Breyer—an Army veteran, Constitutional scholar, and retiring Justice of the United States Supreme Court. Justice Breyer, thank you for your service. \n",
            "\n",
            "One of the most serious constitutional responsibilities a President has is nominating someone to serve on the United States Supreme Court. \n",
            "\n",
            "And I did that 4 days ago, when I nominated Circuit Court of Appeals Judge Ketanji Brown Jackson. One of our nation’s top legal minds, who will continue Justice Breyer’s legacy of excellence.\n"
          ]
        }
      ],
      "source": [
        "embedding_vector = OpenAIEmbeddings().embed_query(query)\n",
        "docs = db.similarity_search_by_vector(embedding_vector)\n",
        "print(docs[0].page_content)"
      ]
    },
    {
      "cell_type": "code",
      "execution_count": null,
      "metadata": {
        "colab": {
          "base_uri": "https://localhost:8080/"
        },
        "id": "BwjUMOH7NYF0",
        "outputId": "8e35d697-7d7a-4910-8240-7e2bed732c60"
      },
      "outputs": [
        {
          "data": {
            "text/plain": [
              "1536"
            ]
          },
          "execution_count": 10,
          "metadata": {},
          "output_type": "execute_result"
        }
      ],
      "source": [
        "len(embedding_vector)"
      ]
    },
    {
      "cell_type": "code",
      "execution_count": null,
      "metadata": {
        "colab": {
          "base_uri": "https://localhost:8080/"
        },
        "id": "ZGPNZvgaNajH",
        "outputId": "56d9f9db-af90-41c9-f43b-6f055e1704e1"
      },
      "outputs": [
        {
          "data": {
            "text/plain": [
              "[-0.05258739514436432,\n",
              " -0.008807440535080925,\n",
              " -0.008732973842573842,\n",
              " 0.007778438957369999,\n",
              " 0.00382829188848565,\n",
              " 0.004139700089128214,\n",
              " -0.0021138534076328153,\n",
              " -0.0067562071636435884,\n",
              " 0.0024658803121824797,\n",
              " -0.004633891526030128,\n",
              " 0.04392211634766784,\n",
              " -0.00448834210168562,\n",
              " -0.0028128298787437563,\n",
              " -0.02475019427429317,\n",
              " -0.019131305232112775,\n",
              " -0.0054157973852900975,\n",
              " 0.03517560386844757,\n",
              " -0.006878062809703588,\n",
              " 0.02236724335025972,\n",
              " -0.034715262282790836,\n",
              " 0.00533117555114494,\n",
              " -0.0047422076041210934,\n",
              " 0.0157599714342755,\n",
              " 0.023518101039691947,\n",
              " -0.0013446410097591392,\n",
              " 0.0006063154602765075,\n",
              " 0.010716509374166013,\n",
              " -0.026266618436244095,\n",
              " -0.0029126834940234264,\n",
              " -0.006482032774915865,\n",
              " -0.022042295581648122,\n",
              " -0.013525953895256211,\n",
              " -0.007358714678636468,\n",
              " -0.006644506659221665,\n",
              " -0.007527958346926784,\n",
              " -0.0101004618255428,\n",
              " -0.017804435021728317,\n",
              " -0.005436106737243648,\n",
              " 0.013864441231836841,\n",
              " 0.005425952061266873,\n",
              " 0.022150612125400388,\n",
              " -0.005233014149030749,\n",
              " 0.009741666068331219,\n",
              " 0.006451568746985541,\n",
              " -0.02378889053642741,\n",
              " -0.011379944479358242,\n",
              " -0.0013683350208742971,\n",
              " -0.012280321092685953,\n",
              " -0.016206773451963193,\n",
              " 0.031357468052922596,\n",
              " 0.019510411272600506,\n",
              " 0.005412412493297839,\n",
              " -0.008787131183127376,\n",
              " -0.012293860660654986,\n",
              " 0.004224321923273372,\n",
              " -0.02086436061892303,\n",
              " -0.020471715010466265,\n",
              " -0.006647891551213923,\n",
              " 0.0010806208313468909,\n",
              " 0.017289933301550254,\n",
              " 0.03238646776798832,\n",
              " -0.011833517212353055,\n",
              " -0.002721438260614082,\n",
              " -0.002102006285659911,\n",
              " 0.0030176146801221345,\n",
              " -0.017019143804814788,\n",
              " -0.009186546575568656,\n",
              " 0.022976520183575815,\n",
              " -0.018048145382525714,\n",
              " 0.015421483166372265,\n",
              " 0.03644831580695589,\n",
              " 0.0025437323623431207,\n",
              " -0.004153239657097248,\n",
              " -0.01937501559291017,\n",
              " 0.027728882463673683,\n",
              " -0.002829754105874398,\n",
              " -0.032494784311740584,\n",
              " -0.019699963361521772,\n",
              " -0.013810283891283309,\n",
              " -0.002560656822304412,\n",
              " 0.013674888211592977,\n",
              " -0.019469792568693405,\n",
              " -0.01936147602494114,\n",
              " 0.0019395325177694372,\n",
              " -0.004447723863439821,\n",
              " -0.0009833057686460893,\n",
              " -0.01372904648346911,\n",
              " 0.010750358294088597,\n",
              " -0.006065693388174594,\n",
              " -0.011393484047327275,\n",
              " 0.008083077374028047,\n",
              " 0.028514173680587212,\n",
              " 0.009213625711506723,\n",
              " 0.01337024979493493,\n",
              " -0.03463402487497664,\n",
              " 0.012862518790063981,\n",
              " -0.008164314781842246,\n",
              " 0.028730804905446543,\n",
              " 0.02563026060434473,\n",
              " -0.029813964755033603,\n",
              " 0.00020235196846660466,\n",
              " 0.02794551555117822,\n",
              " -0.0206071088275114,\n",
              " -0.013986297343558142,\n",
              " -0.02813506764009948,\n",
              " 0.0012997914236923666,\n",
              " -0.024980365067121535,\n",
              " 0.023342086656094514,\n",
              " 0.006444798963001024,\n",
              " 0.007690432231232582,\n",
              " -0.018968830416484374,\n",
              " 0.014758048061180036,\n",
              " -0.006319558890610067,\n",
              " -0.02984104389097167,\n",
              " -0.030247229067397467,\n",
              " -0.004352947353317888,\n",
              " 0.0015807358292352562,\n",
              " -0.03796473996890681,\n",
              " 0.0036624331121875926,\n",
              " -0.02078312321110883,\n",
              " 0.028595411088401412,\n",
              " 0.004153239657097248,\n",
              " 0.007263938168514536,\n",
              " 0.008678815570697709,\n",
              " -0.002330485330984097,\n",
              " -0.006542960365115215,\n",
              " -0.022732809822778418,\n",
              " -0.02695713267737439,\n",
              " -0.00609277205845136,\n",
              " 0.02200167687774102,\n",
              " 0.023382705360001612,\n",
              " 0.030436781156318732,\n",
              " 0.024682496434448004,\n",
              " -0.01710038121262899,\n",
              " 0.01582766741147546,\n",
              " 0.013133309218122047,\n",
              " -0.019523948977924338,\n",
              " 0.0015621190396931605,\n",
              " -0.015448562302310332,\n",
              " -0.04939207200483407,\n",
              " -0.001827831664101538,\n",
              " 0.00023313315539821616,\n",
              " -0.002469265204174738,\n",
              " -0.010777436498704062,\n",
              " 0.011508569443741458,\n",
              " 0.01873865962365601,\n",
              " 0.03100544114837293,\n",
              " 0.018833436599439243,\n",
              " 0.004623736850053353,\n",
              " -0.004728668036152061,\n",
              " 0.0127474333936498,\n",
              " 0.008780361399142858,\n",
              " 0.01639632740352966,\n",
              " -0.02353164060766098,\n",
              " -0.019469792568693405,\n",
              " -0.007920603489722247,\n",
              " 0.040456005574047334,\n",
              " 0.012199083684871753,\n",
              " -0.007690432231232582,\n",
              " 0.01423000770435554,\n",
              " 0.00022170920313200688,\n",
              " -0.019307317753065007,\n",
              " 0.005497034327442997,\n",
              " 0.03076172892493033,\n",
              " 0.007961222193629347,\n",
              " 0.030111833387707135,\n",
              " 0.0013294089957939766,\n",
              " -0.01264588663388205,\n",
              " 0.002970226425061168,\n",
              " -0.007764899389400965,\n",
              " 0.01100083843887051,\n",
              " 0.037287765295745554,\n",
              " -0.03084296633274453,\n",
              " 0.04538438223774263,\n",
              " -0.02473665470632414,\n",
              " -0.0015942753972042895,\n",
              " 0.024601260889279004,\n",
              " 0.006471878098939091,\n",
              " -0.052099970697479125,\n",
              " -7.859253166373673e-05,\n",
              " 0.0016179695247347727,\n",
              " 0.041349613334713126,\n",
              " 0.013986297343558142,\n",
              " 0.019171923936019873,\n",
              " -0.0037504398383250087,\n",
              " -0.0010569267038164076,\n",
              " 0.02843293627277301,\n",
              " -0.03076172892493033,\n",
              " 0.01681605028527929,\n",
              " -0.0029482246271114888,\n",
              " 0.03338839207240638,\n",
              " 0.01639632740352966,\n",
              " -0.01639632740352966,\n",
              " -0.017425328981240586,\n",
              " -0.6299655613936875,\n",
              " -0.03273849653518319,\n",
              " 0.03652955321477009,\n",
              " -0.005016382458510117,\n",
              " 0.014351862884754239,\n",
              " 0.016856668989186387,\n",
              " 0.0027806734048173025,\n",
              " -0.003190243240404708,\n",
              " -0.018995909552422443,\n",
              " 0.023626415720799012,\n",
              " 0.002394798046006355,\n",
              " 0.017262854165612185,\n",
              " -0.018860513872732108,\n",
              " -0.020295700626868834,\n",
              " -0.008665276002728676,\n",
              " -0.012016300448612405,\n",
              " -0.00924070484744479,\n",
              " -0.0052431688250075235,\n",
              " 0.025345931539640234,\n",
              " -0.023342086656094514,\n",
              " -0.029272385761562675,\n",
              " 0.008462183414515777,\n",
              " -0.007494109892665501,\n",
              " 0.008144005429888697,\n",
              " 0.00290591371003891,\n",
              " -0.0034762649839359854,\n",
              " 0.004072002714944348,\n",
              " 0.007209780362299702,\n",
              " -0.009931218157252484,\n",
              " 0.0127474333936498,\n",
              " -0.03623168644474176,\n",
              " 0.023125455431235183,\n",
              " 0.00661404263129134,\n",
              " 0.0033425624487337323,\n",
              " 0.046305069134346497,\n",
              " 0.009849981680760886,\n",
              " -0.0254948667872996,\n",
              " 0.014026915116142642,\n",
              " 0.034498629195286304,\n",
              " 0.04116005938314666,\n",
              " -0.04305559144823052,\n",
              " -0.005947222634106852,\n",
              " 0.017520104094378618,\n",
              " -0.004214167247296597,\n",
              " -0.005774594073824278,\n",
              " 0.029245306625624606,\n",
              " 0.0013260241038017184,\n",
              " -0.011616885987493724,\n",
              " -0.009890600384667984,\n",
              " 0.005737360261909437,\n",
              " 0.021460097884270092,\n",
              " 0.012612038645282066,\n",
              " 0.001805829982567184,\n",
              " 0.004596658179776587,\n",
              " -0.027173763902233722,\n",
              " -0.019862436314504968,\n",
              " -0.003845216115616291,\n",
              " 0.003645508652226301,\n",
              " -1.018767608345851e-05,\n",
              " 0.007920603489722247,\n",
              " -0.006837444105796489,\n",
              " 0.009105309167754457,\n",
              " -0.018630343079903744,\n",
              " 0.0037165909184024254,\n",
              " -0.017019143804814788,\n",
              " 0.021216385660827494,\n",
              " -0.016328629563684492,\n",
              " 0.015881825683351596,\n",
              " 0.03712529048011715,\n",
              " -0.029868123026909738,\n",
              " -0.014785127197118103,\n",
              " 0.014866363673609701,\n",
              " 0.010709739590181497,\n",
              " 0.008441874062562228,\n",
              " -0.0016831283463397701,\n",
              " -0.016504642084636725,\n",
              " 0.011968911960720788,\n",
              " -0.016843129421217354,\n",
              " 0.00563242954147203,\n",
              " 0.004319098433395305,\n",
              " -0.019131305232112775,\n",
              " -0.03244062603986445,\n",
              " -0.021893360333988754,\n",
              " 0.01108207584668471,\n",
              " 0.004725283144159802,\n",
              " -0.0048809872444810845,\n",
              " -0.024438786073650607,\n",
              " 0.0019666115372921787,\n",
              " -0.003212244805523737,\n",
              " -0.012598499077313034,\n",
              " 0.011427332967249858,\n",
              " -0.004031384011037248,\n",
              " 0.009782283840915718,\n",
              " 0.004254785951203697,\n",
              " 0.012557880373405933,\n",
              " 0.023558719743599046,\n",
              " 0.0052431688250075235,\n",
              " -0.015475641438248398,\n",
              " 0.040672638661551866,\n",
              " 0.0026402013184611828,\n",
              " 0.005615505081510738,\n",
              " 0.01158303706757114,\n",
              " 0.04365132871357758,\n",
              " -0.005953992418091369,\n",
              " -0.0024624954201902215,\n",
              " -0.001088236838329472,\n",
              " -0.03230523036017412,\n",
              " 0.0203227797628069,\n",
              " 0.027390395127093053,\n",
              " 0.005263478176961074,\n",
              " -0.009748435852315737,\n",
              " -0.002308483765865068,\n",
              " 0.004278480195149505,\n",
              " -0.006116466302397168,\n",
              " 0.00561212018951848,\n",
              " -0.027972594687116284,\n",
              " 0.014026915116142642,\n",
              " 0.0200790694020095,\n",
              " -0.01907714696023664,\n",
              " -0.007893524353784181,\n",
              " 0.01043894916212343,\n",
              " 0.00691529615595713,\n",
              " -0.005747514937886212,\n",
              " -0.016992064668876723,\n",
              " 0.004373256239610138,\n",
              " 0.0030108448961376176,\n",
              " 0.012936986413893665,\n",
              " -0.0013040225386826893,\n",
              " -0.022678651550902283,\n",
              " 0.011610116203509208,\n",
              " -0.026022906212801494,\n",
              " 0.004332638001364338,\n",
              " 0.025386550243547332,\n",
              " -0.00044087976637365126,\n",
              " 0.02946193785048394,\n",
              " -0.017262854165612185,\n",
              " 0.0009723048696712498,\n",
              " -0.02330146795218741,\n",
              " 0.013837362095898776,\n",
              " -0.03122207237323226,\n",
              " 0.005879525259922987,\n",
              " -0.007236859498237769,\n",
              " -4.5008238326994106e-05,\n",
              " 0.007568577050833884,\n",
              " -0.005493649435450739,\n",
              " -0.026402012253289225,\n",
              " -0.03739608183949782,\n",
              " -0.011332555991466625,\n",
              " -0.0400769013962048,\n",
              " 0.002012307346357016,\n",
              " 0.019699963361521772,\n",
              " -0.019131305232112775,\n",
              " -0.013119769650153015,\n",
              " 0.005625659757487513,\n",
              " 0.009030842475247373,\n",
              " -0.004904681488426893,\n",
              " -0.012408946057069168,\n",
              " -0.001593429174206225,\n",
              " -0.0061638543246274845,\n",
              " -0.013796744323314276,\n",
              " 0.015502720574186465,\n",
              " 0.010669120886274397,\n",
              " -0.028514173680587212,\n",
              " -0.0050299220264791505,\n",
              " 0.013316092454381395,\n",
              " -0.0012735586271676895,\n",
              " 0.03411952501744377,\n",
              " 0.012158464980964652,\n",
              " 0.026198920596398927,\n",
              " -0.02470957557038607,\n",
              " -0.0017118996954433158,\n",
              " 0.010912832178394396,\n",
              " 0.016409866971498693,\n",
              " -0.010215548153279583,\n",
              " 0.018278316175354078,\n",
              " -0.025102221178842834,\n",
              " 0.006556499933084248,\n",
              " 0.0052025505867617245,\n",
              " 0.028974517128889144,\n",
              " 0.027891357279302083,\n",
              " 0.00653280568913844,\n",
              " 0.0018938367087046,\n",
              " -0.022935901479668716,\n",
              " -0.005913373714184269,\n",
              " 0.03590673681348496,\n",
              " -0.0017347475999757345,\n",
              " -0.02178504565288169,\n",
              " 0.02837877800089688,\n",
              " 0.00338656581180244,\n",
              " -0.00771751136717065,\n",
              " -0.0343361543796579,\n",
              " 0.02763410735053565,\n",
              " 0.002883912144919881,\n",
              " 0.003290096855684378,\n",
              " 0.020228002787023667,\n",
              " 0.0015519644801317107,\n",
              " 0.005436106737243648,\n",
              " 0.0053751791470442985,\n",
              " 0.007825827445261615,\n",
              " 0.002795905418782465,\n",
              " 0.021460097884270092,\n",
              " -0.007196240794330669,\n",
              " 0.046819568991879355,\n",
              " -0.002140932543570882,\n",
              " -0.017777355885790252,\n",
              " -0.015868286115382563,\n",
              " 0.008408025142639644,\n",
              " -0.016166154748056095,\n",
              " 0.013999835980204574,\n",
              " 0.004407105159532721,\n",
              " -0.004254785951203697,\n",
              " -0.04186411319224599,\n",
              " 0.004214167247296597,\n",
              " -0.011054996710746645,\n",
              " 0.01236832735316207,\n",
              " 0.007846136797215165,\n",
              " -0.006749437379659072,\n",
              " 0.003080234716317613,\n",
              " -0.024059680033162875,\n",
              " -0.014081073388018775,\n",
              " -0.010899292610425361,\n",
              " 0.01354626324720976,\n",
              " -0.008042459601443548,\n",
              " -0.0016848207923358994,\n",
              " -0.005378564039036557,\n",
              " 0.016342169131653525,\n",
              " 0.003428876728875019,\n",
              " 0.004660970661968194,\n",
              " 0.021419479180362994,\n",
              " 0.005957377310083628,\n",
              " -0.0020393862494644324,\n",
              " -0.012158464980964652,\n",
              " 0.008380946938024178,\n",
              " 0.01597660265913483,\n",
              " -0.0001275674184662851,\n",
              " -0.013336400875012346,\n",
              " -0.0038147523205166165,\n",
              " -0.009335480891905421,\n",
              " 0.047767335024421285,\n",
              " 0.002968533979065039,\n",
              " 0.001206707359566563,\n",
              " 0.004657585769975936,\n",
              " 0.01003953470100475,\n",
              " 0.019293778185095974,\n",
              " 0.03138454718886066,\n",
              " -0.010574344841813764,\n",
              " 0.01936147602494114,\n",
              " 0.02336916579203258,\n",
              " -0.011386714263342758,\n",
              " 0.024438786073650607,\n",
              " -0.008956374851417691,\n",
              " -0.0055884259455726715,\n",
              " -0.01565165489052323,\n",
              " 0.006190933460565551,\n",
              " 0.013783204755345243,\n",
              " -0.010831594770580195,\n",
              " -0.009497954776211221,\n",
              " 0.025020983771028633,\n",
              " 0.006001380440321685,\n",
              " 0.040564322117799596,\n",
              " 0.025061602474935735,\n",
              " -0.0055105738954120305,\n",
              " 0.019510411272600506,\n",
              " 0.007731050935139682,\n",
              " 0.008211703269733863,\n",
              " 0.014744508493211003,\n",
              " 0.008780361399142858,\n",
              " 0.018278316175354078,\n",
              " -0.0009113771630565753,\n",
              " 0.005598580621549446,\n",
              " 0.0028432936738434313,\n",
              " -0.02515637945071897,\n",
              " 0.011366404911389209,\n",
              " -0.02473665470632414,\n",
              " 0.021202847955503663,\n",
              " 0.022462020326042952,\n",
              " -0.016084919202887096,\n",
              " 0.021338241772548793,\n",
              " -0.0027569793937021444,\n",
              " -0.007670123344940333,\n",
              " -0.01710038121262899,\n",
              " -0.039724872629009936,\n",
              " 0.022638032846995185,\n",
              " 0.005114543860624308,\n",
              " -0.010411870957507965,\n",
              " -0.029813964755033603,\n",
              " 0.014406021156630372,\n",
              " -0.011007608222855028,\n",
              " -0.0005542730369338484,\n",
              " 0.047604860208792885,\n",
              " 0.011061766494731161,\n",
              " 0.00046330455940703756,\n",
              " 0.004044923579006282,\n",
              " 0.02424923398472934,\n",
              " -0.0034339540668634067,\n",
              " 0.003384873365806311,\n",
              " -0.007758130071077749,\n",
              " -0.007778438957369999,\n",
              " -0.005212705262738499,\n",
              " -0.02258387457511905,\n",
              " -0.00920008614353769,\n",
              " 0.014406021156630372,\n",
              " 0.00406861782295209,\n",
              " -0.009030842475247373,\n",
              " 0.022123532989462322,\n",
              " 0.01383059231191426,\n",
              " -0.014500798132413605,\n",
              " 0.006884832593688104,\n",
              " 0.0201603068098237,\n",
              " -0.0076024255050951665,\n",
              " 0.017520104094378618,\n",
              " -0.0400769013962048,\n",
              " 0.001815984542128634,\n",
              " 0.006221397488495876,\n",
              " 0.008164314781842246,\n",
              " -0.0007074385264685995,\n",
              " -0.012402176273084651,\n",
              " -0.014852824105640669,\n",
              " 0.017912749702835382,\n",
              " 0.008529881254360943,\n",
              " -0.01815646006363278,\n",
              " -0.023815969672365475,\n",
              " -0.03114083496541806,\n",
              " -0.01469035022133487,\n",
              " 0.15770802343592644,\n",
              " 0.0074467214047738844,\n",
              " -0.020431096306559166,\n",
              " 0.00655311504109199,\n",
              " 0.006234937056464909,\n",
              " 0.012679735553804633,\n",
              " 0.0016222006397250957,\n",
              " -0.020918517028153963,\n",
              " 0.0026977440166682737,\n",
              " -0.03352378775209671,\n",
              " -0.01116331232317631,\n",
              " 0.004342792677341114,\n",
              " -0.020214463219054634,\n",
              " 0.005365024471067523,\n",
              " 0.010567575057829248,\n",
              " -0.02892035885701301,\n",
              " -0.010892522826440845,\n",
              " -0.03958948067461001,\n",
              " -0.01781797272705215,\n",
              " -0.016992064668876723,\n",
              " 0.010987298870901477,\n",
              " -0.013404098714857511,\n",
              " -0.02144655831630106,\n",
              " 0.03525684127626177,\n",
              " -0.034146604153381846,\n",
              " -0.004058463146975315,\n",
              " 0.015841206979444494,\n",
              " 0.0036759724473259757,\n",
              " 0.031980284454207725,\n",
              " -0.011244549730990509,\n",
              " 0.015082995829791635,\n",
              " 0.015448562302310332,\n",
              " 0.01723577502967412,\n",
              " -0.008062768022074496,\n",
              " -0.011434102751234375,\n",
              " 0.010276475277817632,\n",
              " -0.0030734651651637464,\n",
              " -0.01008015340491185,\n",
              " 0.013173926990706547,\n",
              " -0.023802430104396442,\n",
              " -0.0027011289086605324,\n",
              " 0.022990059751544847,\n",
              " 0.012957295765847214,\n",
              " -0.0157599714342755,\n",
              " 0.03644831580695589,\n",
              " -0.024628338162571872,\n",
              " 0.004911451272411409,\n",
              " 0.02457418175334094,\n",
              " -0.01923961991321984,\n",
              " 0.008313249098179012,\n",
              " 0.03753147751918815,\n",
              " 0.012293860660654986,\n",
              " -0.022841126366530684,\n",
              " -0.0022475559428350687,\n",
              " 0.008990223771340275,\n",
              " 0.015272548850035499,\n",
              " -0.015475641438248398,\n",
              " -0.010127540961480866,\n",
              " 0.010824824986595679,\n",
              " 0.027647646918504687,\n",
              " 0.0019615341993037914,\n",
              " -0.024899129521952536,\n",
              " -0.0303013873392736,\n",
              " -0.013072381162261398,\n",
              " -0.0030226920181105218,\n",
              " 0.004491726993677878,\n",
              " -0.01877927832756311,\n",
              " -0.0042852495134727215,\n",
              " -0.005402257817321065,\n",
              " -0.013891520367774909,\n",
              " 0.0021155458536289444,\n",
              " -0.014554955472967137,\n",
              " -0.02350456147172291,\n",
              " 0.0354734743637663,\n",
              " 0.012483412749576251,\n",
              " 0.029353623169376872,\n",
              " 0.029028673538120074,\n",
              " -0.011698122463985322,\n",
              " 0.009755205636300253,\n",
              " -0.004711743576190769,\n",
              " -0.01224647217276337,\n",
              " -0.020999754435968163,\n",
              " 0.013485336122671712,\n",
              " -0.04644046481403683,\n",
              " 0.007385793814574534,\n",
              " -0.008712664490620293,\n",
              " 0.0005339638013956236,\n",
              " -0.013613961087054927,\n",
              " -0.030193070795521335,\n",
              " 0.013058841594292363,\n",
              " -0.0022069374717586187,\n",
              " 0.008333558450132563,\n",
              " 0.01236832735316207,\n",
              " -0.00663435198324489,\n",
              " -0.007128543420146803,\n",
              " -0.006766361839620364,\n",
              " 0.00759565572111065,\n",
              " 0.010750358294088597,\n",
              " -0.0026926669115105366,\n",
              " 0.009084999815800906,\n",
              " 0.012172004548933687,\n",
              " -0.02423569441676031,\n",
              " -0.013255164398520746,\n",
              " -0.014406021156630372,\n",
              " 0.009897370168652503,\n",
              " 0.0014326476194812302,\n",
              " 0.0024624954201902215,\n",
              " 0.03328007552865411,\n",
              " -0.01668065646823416,\n",
              " 0.009775514056931202,\n",
              " 0.02357225931156808,\n",
              " -0.026943593109405358,\n",
              " 0.008942835283448658,\n",
              " 0.012612038645282066,\n",
              " -0.003273172628553737,\n",
              " 0.02470957557038607,\n",
              " 0.01469035022133487,\n",
              " 0.028107988504161414,\n",
              " -0.02457418175334094,\n",
              " -0.0026486635484418283,\n",
              " 0.01064204175033633,\n",
              " -0.031574097415136726,\n",
              " 0.021933979037895856,\n",
              " 0.002154471878709265,\n",
              " -0.005730590477924921,\n",
              " 0.014947601081423902,\n",
              " -0.01098052908691696,\n",
              " -0.029028673538120074,\n",
              " -0.020133227673885635,\n",
              " 0.0009046074372797211,\n",
              " 0.005564731701626863,\n",
              " 0.02473665470632414,\n",
              " -0.012050149368534987,\n",
              " -0.006458338530970058,\n",
              " -0.02867664663357041,\n",
              " -0.0014605728620020362,\n",
              " -0.023937823921441576,\n",
              " 0.025562564627144766,\n",
              " 0.00020013064764860076,\n",
              " -0.0005538499254348162,\n",
              " -0.02649678922907246,\n",
              " -0.025806274987942163,\n",
              " -0.01306561137827688,\n",
              " -0.032711417399245116,\n",
              " -0.009206855927522207,\n",
              " -0.021636110405222325,\n",
              " -0.03290097135081158,\n",
              " -0.009728126500362186,\n",
              " -0.014406021156630372,\n",
              " 0.004965609078626242,\n",
              " -0.026930053541436322,\n",
              " -0.002008922454364758,\n",
              " -0.0012109384745568857,\n",
              " 0.03092420374055873,\n",
              " -0.01581412784350643,\n",
              " -0.011508569443741458,\n",
              " -0.00038249069964933915,\n",
              " -0.007886755501122266,\n",
              " 0.022990059751544847,\n",
              " 0.02821630504791368,\n",
              " 0.022719270254809385,\n",
              " -0.003774133849440167,\n",
              " -0.016206773451963193,\n",
              " 0.00043453312299199817,\n",
              " 0.009843211896776368,\n",
              " -0.009897370168652503,\n",
              " -0.010290014845786665,\n",
              " 0.009315171539951872,\n",
              " -0.02286820550246875,\n",
              " -0.0023135608710228056,\n",
              " 0.003645508652226301,\n",
              " -0.0047625169560746436,\n",
              " -0.014527876337029072,\n",
              " 0.002372796248056676,\n",
              " -0.008421564710608677,\n",
              " 0.009944757725221517,\n",
              " -0.01473096892524197,\n",
              " -0.010229087721248616,\n",
              " -0.012172004548933687,\n",
              " -0.0306263351078852,\n",
              " -0.005239783933015265,\n",
              " 0.013255164398520746,\n",
              " -0.00791383370573773,\n",
              " -0.024993904635090568,\n",
              " -0.02160903126928426,\n",
              " -0.0020647727065757197,\n",
              " 0.03912913536366287,\n",
              " 0.012205853468856269,\n",
              " 0.018860513872732108,\n",
              " 0.0008631427432052068,\n",
              " 0.025264695994471235,\n",
              " -0.012625578213251101,\n",
              " -0.00959950060465637,\n",
              " -0.020228002787023667,\n",
              " -0.03216983840577419,\n",
              " -0.010432180309461515,\n",
              " -0.02236724335025972,\n",
              " 0.022069374717586188,\n",
              " -0.00017400364355059754,\n",
              " 0.021541335292084293,\n",
              " 0.021676729109129423,\n",
              " -0.0101004618255428,\n",
              " -0.006576808819376498,\n",
              " 0.0007175931442377119,\n",
              " 0.010323863765709249,\n",
              " 0.011772590087815006,\n",
              " -0.01919900120931274,\n",
              " 0.006867908133726813,\n",
              " -0.007954452409644831,\n",
              " -0.02433046952989834,\n",
              " -0.013336400875012346,\n",
              " -0.04156624642221766,\n",
              " -0.03425492069713411,\n",
              " -0.020810202347046898,\n",
              " 0.003980611096814674,\n",
              " -0.0015824282752313853,\n",
              " -0.014812206333056169,\n",
              " 0.018467870126920544,\n",
              " 0.028514173680587212,\n",
              " -0.026144762324522796,\n",
              " 0.0015536569261278398,\n",
              " 0.009714586932393153,\n",
              " 0.014311245112169739,\n",
              " -0.00583213677203137,\n",
              " -0.00961980995660992,\n",
              " 0.007548267698880334,\n",
              " -0.010147850313434417,\n",
              " -0.012672965769820117,\n",
              " 0.024723115138355102,\n",
              " 0.002306791319868939,\n",
              " -0.008523111470376427,\n",
              " 0.018305395311292147,\n",
              " 0.022150612125400388,\n",
              " -0.017249314597643152,\n",
              " 0.01711392078059802,\n",
              " 0.032928046761459245,\n",
              " 0.027552869942721454,\n",
              " -0.018846974304763075,\n",
              " -0.03227815122423605,\n",
              " -0.013133309218122047,\n",
              " 0.005903219038207494,\n",
              " -0.020214463219054634,\n",
              " -0.0008758359717608504,\n",
              " 0.002863602792966331,\n",
              " -0.011901215052198221,\n",
              " 0.03233230949611219,\n",
              " -0.01681605028527929,\n",
              " -0.01469035022133487,\n",
              " -0.009450566288319605,\n",
              " -0.026997749518636288,\n",
              " -0.021730887381005558,\n",
              " 0.006637736875237148,\n",
              " 0.0035405776989582433,\n",
              " 0.006878062809703588,\n",
              " -0.001980150872430562,\n",
              " -0.02116222925159656,\n",
              " -0.01296406554983173,\n",
              " 0.013850901663867808,\n",
              " 0.004380026023594654,\n",
              " -0.0024658803121824797,\n",
              " -0.02281404723059262,\n",
              " 0.028487094544649146,\n",
              " 0.0004336868999939336,\n",
              " 0.008692355138666744,\n",
              " -0.012598499077313034,\n",
              " 0.005815212312070078,\n",
              " -0.01414877122786394,\n",
              " -0.002580965941427312,\n",
              " 0.010364482469616349,\n",
              " 0.025697958444189897,\n",
              " -0.021433018748332026,\n",
              " 0.00011561458410224325,\n",
              " -0.002308483765865068,\n",
              " 0.009606270388640887,\n",
              " 0.007169161658392603,\n",
              " -0.006674970221490689,\n",
              " 0.013471796554702679,\n",
              " -0.02791843641524015,\n",
              " -0.015543338346770965,\n",
              " 0.005926913282153302,\n",
              " 0.003112391190244067,\n",
              " 0.013918599503712974,\n",
              " -0.028812042313260743,\n",
              " -0.004945300192333992,\n",
              " -0.010168159665387966,\n",
              " -0.01276774274560335,\n",
              " -0.00561212018951848,\n",
              " -0.014703889789303903,\n",
              " 0.006938990399902938,\n",
              " 0.0025166534592357044,\n",
              " -0.023436863631877747,\n",
              " -0.029489016986422006,\n",
              " -0.011386714263342758,\n",
              " 0.007521188562942267,\n",
              " -0.0028111374327476272,\n",
              " -0.01582766741147546,\n",
              " 0.012361557569177551,\n",
              " 0.009917679520606052,\n",
              " -0.01837309315113731,\n",
              " 0.035554711771580504,\n",
              " -0.02579273541997313,\n",
              " 0.013356710226965895,\n",
              " -0.019483332136662437,\n",
              " -0.03084296633274453,\n",
              " -0.018494947400213412,\n",
              " -0.021839203924757824,\n",
              " 0.02571149801215893,\n",
              " -0.02082374191501593,\n",
              " -0.025102221178842834,\n",
              " -0.04018521793995707,\n",
              " 0.01460911374484327,\n",
              " 0.011589806851555657,\n",
              " 0.013404098714857511,\n",
              " -0.002306791319868939,\n",
              " 0.006664815545513915,\n",
              " 0.0031191607413979337,\n",
              " -0.007609195289079683,\n",
              " -0.014311245112169739,\n",
              " -0.027810119871487883,\n",
              " 0.032359388632050255,\n",
              " -0.007189471010346153,\n",
              " 0.004623736850053353,\n",
              " 0.019496871704631474,\n",
              " -0.020282161058899798,\n",
              " -0.03644831580695589,\n",
              " 0.0056222748654952545,\n",
              " 0.007812287877292582,\n",
              " 0.017993987110649583,\n",
              " -0.02270573068684035,\n",
              " 0.009741666068331219,\n",
              " 0.01020200858531055,\n",
              " 0.03633999926320362,\n",
              " -0.015543338346770965,\n",
              " -0.029705648211281337,\n",
              " -0.012618808429266585,\n",
              " -0.013586881951116861,\n",
              " -0.02813506764009948,\n",
              " 0.03138454718886066,\n",
              " 0.02629369757218216,\n",
              " -0.00819816370176483,\n",
              " 0.04026645534777127,\n",
              " 0.02453356304943384,\n",
              " -0.018670961783810842,\n",
              " 0.011231010163021476,\n",
              " -0.0018667576891818586,\n",
              " -0.02228600594244552,\n",
              " -0.03685450284602689,\n",
              " -0.016071379634918063,\n",
              " -0.01204337958455047,\n",
              " -0.014297705544200706,\n",
              " 0.003364564246683411,\n",
              " 0.0202415423549927,\n",
              " 0.011955373324074354,\n",
              " 0.005114543860624308,\n",
              " -0.012036609800565954,\n",
              " 0.0005293095749062684,\n",
              " -0.019334396889003073,\n",
              " -0.00819816370176483,\n",
              " -0.011420563183265342,\n",
              " 0.007385793814574534,\n",
              " -0.0014064149393718782,\n",
              " -0.022353703782290686,\n",
              " 0.0202415423549927,\n",
              " 0.013234855046567197,\n",
              " -0.0003894720102795407,\n",
              " 0.015055916693853567,\n",
              " -0.012781282313572383,\n",
              " -0.02232662464635262,\n",
              " 0.0008741435839723839,\n",
              " -0.029949360434723935,\n",
              " 0.01865742221584181,\n",
              " 0.0037030515832640423,\n",
              " -0.013336400875012346,\n",
              " 0.006712204033405531,\n",
              " 0.000940994793365848,\n",
              " -0.0007590578383122262,\n",
              " -0.0012600191756139813,\n",
              " 0.012219393036825303,\n",
              " -0.001332793887786235,\n",
              " 0.000660473441114328,\n",
              " -0.011630424624140157,\n",
              " 0.01974058206542887,\n",
              " 0.02938070044266974,\n",
              " 0.006502341661208115,\n",
              " 0.0042615557351882135,\n",
              " -0.028757884041384612,\n",
              " -0.015935983955227728,\n",
              " 0.01811584322237088,\n",
              " -0.0022153997017392646,\n",
              " -0.0004700742851838917,\n",
              " 0.011170082107160827,\n",
              " 0.032711417399245116,\n",
              " -0.010933141530347945,\n",
              " -0.007954452409644831,\n",
              " -0.027539330374752417,\n",
              " 0.017357631141395418,\n",
              " 0.011278398650913093,\n",
              " -0.017547183230316683,\n",
              " 0.026063524916708596,\n",
              " 0.01957810724980047,\n",
              " -0.007331636008359702,\n",
              " 0.030788808060868398,\n",
              " -0.007541497914895817,\n",
              " -0.003114083636240196,\n",
              " 0.0018955291547007292,\n",
              " -0.003212244805523737,\n",
              " 0.009382869379797038,\n",
              " -0.007670123344940333,\n",
              " 0.0045695790438385194,\n",
              " -0.0008868368125280275,\n",
              " 0.01308592073023043,\n",
              " -0.009768744272946685,\n",
              " -0.011799668292430471,\n",
              " -0.032251072088297986,\n",
              " 0.011711662031954357,\n",
              " -0.008908986363526075,\n",
              " -0.019280238617126938,\n",
              " -0.019307317753065007,\n",
              " 0.006590348387345532,\n",
              " 0.006536190581130699,\n",
              " -0.02794551555117822,\n",
              " -0.006796825867550689,\n",
              " -0.004755747172090127,\n",
              " 0.002020769343507012,\n",
              " -0.0016213544167270311,\n",
              " -0.014527876337029072,\n",
              " -0.002308483765865068,\n",
              " -0.02651032879704149,\n",
              " -0.011278398650913093,\n",
              " -0.0047422076041210934,\n",
              " -0.010513416785953114,\n",
              " -0.028568331952463347,\n",
              " -0.006617427523283598,\n",
              " 0.006803595651535205,\n",
              " -0.00018066762055652486,\n",
              " 0.02178504565288169,\n",
              " 0.22020632645426708,\n",
              " 0.00705407626197842,\n",
              " 0.011968911960720788,\n",
              " 0.02737685555912402,\n",
              " -0.021636110405222325,\n",
              " 0.0011931679080128548,\n",
              " 0.030030597842538136,\n",
              " 0.020701885803294632,\n",
              " -0.008550190606314494,\n",
              " 0.01857618480802761,\n",
              " -0.016558800356512856,\n",
              " 0.005327790659152682,\n",
              " -0.00907823003181639,\n",
              " 0.00871943427460481,\n",
              " 0.0067358982773513395,\n",
              " 0.016017221363041928,\n",
              " -0.03796473996890681,\n",
              " -0.02808090936822335,\n",
              " -0.004021229800721774,\n",
              " -0.0302201499314594,\n",
              " -0.002980381101037943,\n",
              " 0.002914375940019556,\n",
              " 0.009924449304590568,\n",
              " 0.011813207860399506,\n",
              " 0.010628502182367296,\n",
              " 0.020715425371263665,\n",
              " 0.03763979406294042,\n",
              " 0.020173846377792733,\n",
              " 0.011258089298959544,\n",
              " 0.012916677061940116,\n",
              " -0.010499877217984082,\n",
              " 0.019727042497459837,\n",
              " -0.011921524404151772,\n",
              " 0.011102385198638261,\n",
              " 0.006993148671779071,\n",
              " -0.02294944104763775,\n",
              " -0.0064854176669081245,\n",
              " 0.031194993237294195,\n",
              " 0.01058111462579828,\n",
              " 0.016843129421217354,\n",
              " 0.010743588510104079,\n",
              " 0.013437947634780095,\n",
              " -0.020390477602652064,\n",
              " -0.007135313204131319,\n",
              " 0.0025386550243547334,\n",
              " 0.03439031265153404,\n",
              " ...]"
            ]
          },
          "execution_count": 11,
          "metadata": {},
          "output_type": "execute_result"
        }
      ],
      "source": [
        "embedding_vector"
      ]
    },
    {
      "cell_type": "code",
      "execution_count": null,
      "metadata": {
        "id": "Eetk8qr2xaAw"
      },
      "outputs": [],
      "source": [
        "from tqdm import tqdm"
      ]
    },
    {
      "cell_type": "markdown",
      "metadata": {
        "id": "ujBxb2vyNj7Y"
      },
      "source": [
        "# SimpleTextLoader 구현해보기"
      ]
    },
    {
      "cell_type": "code",
      "execution_count": null,
      "metadata": {
        "id": "nBxqJH70Gsdq"
      },
      "outputs": [],
      "source": [
        "class SimpleTextLoader:\n",
        "\n",
        "    def __init__(self, file_path):\n",
        "        self.file_path = file_path\n",
        "\n",
        "    def load(self):\n",
        "        text = ''\n",
        "        with open(self.file_path, 'r', encoding='utf-8') as file:\n",
        "            text = file.read()\n",
        "        return text"
      ]
    },
    {
      "cell_type": "markdown",
      "metadata": {
        "id": "CQ6g-3eEN84g"
      },
      "source": [
        "# SimpleCharacterTextSplitter 구현해보기"
      ]
    },
    {
      "cell_type": "code",
      "execution_count": null,
      "metadata": {
        "id": "r1DMW5kbGOcF"
      },
      "outputs": [],
      "source": [
        "class SimpleCharacterTextSplitter:\n",
        "\n",
        "    def __init__(self, chunk_size, chunk_overlap, separator_pattern='\\n\\n'):\n",
        "        self.chunk_size = chunk_size\n",
        "        self.chunk_overlap = chunk_overlap\n",
        "        self.separator_pattern = separator_pattern\n",
        "\n",
        "    def split_documents(self, documents):\n",
        "\n",
        "        splits = documents.split(self.separator_pattern)\n",
        "\n",
        "        chunks = []\n",
        "        current_chunk = splits[0]\n",
        "\n",
        "        for split in tqdm(splits[1:], desc=\"splitting...\"):\n",
        "\n",
        "            if len(current_chunk) + len(split) + len(self.separator_pattern) > self.chunk_size:\n",
        "                chunks.append(current_chunk.strip())\n",
        "                current_chunk = split\n",
        "            else:\n",
        "                current_chunk += self.separator_pattern\n",
        "                current_chunk += split\n",
        "\n",
        "        if current_chunk:\n",
        "            chunks.append(current_chunk.strip())\n",
        "\n",
        "        return chunks"
      ]
    },
    {
      "cell_type": "markdown",
      "metadata": {
        "id": "jJgKupuSN_Qm"
      },
      "source": [
        "# SimpleOpenAIEmbeddings 구현해보기"
      ]
    },
    {
      "cell_type": "code",
      "execution_count": null,
      "metadata": {
        "id": "lBwJ0X4tOZsg"
      },
      "outputs": [],
      "source": [
        "from openai import OpenAI\n",
        "\n",
        "class SimpleOpenAIEmbeddings:\n",
        "\n",
        "    def embed_query(self, text):\n",
        "        client = OpenAI()\n",
        "        response = client.embeddings.create(\n",
        "            input=text,\n",
        "            model=\"text-embedding-ada-002\"\n",
        "        )\n",
        "        return response.data[0].embedding"
      ]
    },
    {
      "cell_type": "markdown",
      "metadata": {
        "id": "1UWjGahVOCTI"
      },
      "source": [
        "# SimpleVectorStore 구현해보기"
      ]
    },
    {
      "cell_type": "code",
      "execution_count": null,
      "metadata": {
        "id": "4jXSk7yvGiro"
      },
      "outputs": [],
      "source": [
        "import numpy as np\n",
        "from sklearn.metrics.pairwise import cosine_similarity\n",
        "\n",
        "class SimpleVectorStore:\n",
        "    def __init__(self, docs, embedding):\n",
        "        self.embedding = embedding\n",
        "        self.documents = []\n",
        "        self.vectors = []\n",
        "\n",
        "        for doc in tqdm(docs, desc=\"embedding...\"):\n",
        "            self.documents.append(doc)\n",
        "            vector = self.embedding.embed_query(doc)\n",
        "            self.vectors.append(vector)\n",
        "\n",
        "    def similarity_search(self, query, k=4):\n",
        "        query_vector = self.embedding.embed_query(query)\n",
        "\n",
        "        if not self.vectors:\n",
        "            return []\n",
        "\n",
        "        similarities = cosine_similarity([query_vector], self.vectors)[0]\n",
        "        sorted_doc_similarities = sorted(zip(self.documents, similarities), key=lambda x: x[1], reverse=True)\n",
        "\n",
        "        return sorted_doc_similarities[:k]\n",
        "\n",
        "    def as_retriever(self, k=4):\n",
        "        return SimpleRetriever(self, k)"
      ]
    },
    {
      "cell_type": "markdown",
      "metadata": {
        "id": "o3i6rBYmOGXS"
      },
      "source": [
        "# SimpleRetriever 구현해보기"
      ]
    },
    {
      "cell_type": "code",
      "execution_count": null,
      "metadata": {
        "id": "6hL_s18GOJcd"
      },
      "outputs": [],
      "source": [
        "class SimpleRetriever:\n",
        "    def __init__(self, vector_store, k=4):\n",
        "        self.vector_store = vector_store\n",
        "        self.k = k\n",
        "\n",
        "    def get_relevant_documents(self, query):\n",
        "        docs = self.vector_store.similarity_search(query, self.k)\n",
        "        return docs"
      ]
    },
    {
      "cell_type": "code",
      "execution_count": null,
      "metadata": {
        "colab": {
          "base_uri": "https://localhost:8080/"
        },
        "id": "xb1WQKxvNCt-",
        "outputId": "7fad469c-eeb7-4efc-e7b5-d8d350d94a1e"
      },
      "outputs": [
        {
          "name": "stderr",
          "output_type": "stream",
          "text": [
            "splitting...: 100%|██████████| 358/358 [00:00<00:00, 301155.40it/s]\n",
            "embedding...: 100%|██████████| 42/42 [00:15<00:00,  2.64it/s]\n"
          ]
        }
      ],
      "source": [
        "raw_documents = SimpleTextLoader('state_of_the_union.txt').load()\n",
        "text_splitter = SimpleCharacterTextSplitter(chunk_size=1000, chunk_overlap=0)\n",
        "documents = text_splitter.split_documents(raw_documents)\n",
        "db = SimpleVectorStore(documents, SimpleOpenAIEmbeddings())"
      ]
    },
    {
      "cell_type": "code",
      "execution_count": null,
      "metadata": {
        "colab": {
          "base_uri": "https://localhost:8080/"
        },
        "id": "yK9aCKigT6ji",
        "outputId": "2ba73400-672f-4d76-e55c-26f013bd29a6"
      },
      "outputs": [
        {
          "data": {
            "text/plain": [
              "42"
            ]
          },
          "execution_count": 19,
          "metadata": {},
          "output_type": "execute_result"
        }
      ],
      "source": [
        "len(documents)"
      ]
    },
    {
      "cell_type": "code",
      "execution_count": null,
      "metadata": {
        "colab": {
          "base_uri": "https://localhost:8080/"
        },
        "id": "St6ajzvWXwwt",
        "outputId": "ee1ebce6-df8b-464c-a0d0-1d69a9d409c0"
      },
      "outputs": [
        {
          "data": {
            "text/plain": [
              "['Madam Speaker, Madam Vice President, our First Lady and Second Gentleman. Members of Congress and the Cabinet. Justices of the Supreme Court. My fellow Americans.  \\n\\nLast year COVID-19 kept us apart. This year we are finally together again. \\n\\nTonight, we meet as Democrats Republicans and Independents. But most importantly as Americans. \\n\\nWith a duty to one another to the American people to the Constitution. \\n\\nAnd with an unwavering resolve that freedom will always triumph over tyranny. \\n\\nSix days ago, Russia’s Vladimir Putin sought to shake the foundations of the free world thinking he could make it bend to his menacing ways. But he badly miscalculated. \\n\\nHe thought he could roll into Ukraine and the world would roll over. Instead he met a wall of strength he never imagined. \\n\\nHe met the Ukrainian people. \\n\\nFrom President Zelenskyy to every Ukrainian, their fearlessness, their courage, their determination, inspires the world.',\n",
              " 'Groups of citizens blocking tanks with their bodies. Everyone from students to retirees teachers turned soldiers defending their homeland. \\n\\nIn this struggle as President Zelenskyy said in his speech to the European Parliament “Light will win over darkness.” The Ukrainian Ambassador to the United States is here tonight. \\n\\nLet each of us here tonight in this Chamber send an unmistakable signal to Ukraine and to the world. \\n\\nPlease rise if you are able and show that, Yes, we the United States of America stand with the Ukrainian people. \\n\\nThroughout our history we’ve learned this lesson when dictators do not pay a price for their aggression they cause more chaos.   \\n\\nThey keep moving.   \\n\\nAnd the costs and the threats to America and the world keep rising.   \\n\\nThat’s why the NATO Alliance was created to secure peace and stability in Europe after World War 2. \\n\\nThe United States is a member along with 29 other nations. \\n\\nIt matters. American diplomacy matters. American resolve matters.',\n",
              " 'Putin’s latest attack on Ukraine was premeditated and unprovoked. \\n\\nHe rejected repeated efforts at diplomacy. \\n\\nHe thought the West and NATO wouldn’t respond. And he thought he could divide us at home. Putin was wrong. We were ready.  Here is what we did.   \\n\\nWe prepared extensively and carefully. \\n\\nWe spent months building a coalition of other freedom-loving nations from Europe and the Americas to Asia and Africa to confront Putin. \\n\\nI spent countless hours unifying our European allies. We shared with the world in advance what we knew Putin was planning and precisely how he would try to falsely justify his aggression.  \\n\\nWe countered Russia’s lies with truth.   \\n\\nAnd now that he has acted the free world is holding him accountable. \\n\\nAlong with twenty-seven members of the European Union including France, Germany, Italy, as well as countries like the United Kingdom, Canada, Japan, Korea, Australia, New Zealand, and many others, even Switzerland.',\n",
              " 'We are inflicting pain on Russia and supporting the people of Ukraine. Putin is now isolated from the world more than ever. \\n\\nTogether with our allies –we are right now enforcing powerful economic sanctions. \\n\\nWe are cutting off Russia’s largest banks from the international financial system.  \\n\\nPreventing Russia’s central bank from defending the Russian Ruble making Putin’s $630 Billion “war fund” worthless.   \\n\\nWe are choking off Russia’s access to technology that will sap its economic strength and weaken its military for years to come.  \\n\\nTonight I say to the Russian oligarchs and corrupt leaders who have bilked billions of dollars off this violent regime no more. \\n\\nThe U.S. Department of Justice is assembling a dedicated task force to go after the crimes of Russian oligarchs.  \\n\\nWe are joining with our European allies to find and seize your yachts your luxury apartments your private jets. We are coming for your ill-begotten gains.']"
            ]
          },
          "execution_count": 20,
          "metadata": {},
          "output_type": "execute_result"
        }
      ],
      "source": [
        "documents[0:4]"
      ]
    },
    {
      "cell_type": "code",
      "execution_count": null,
      "metadata": {
        "id": "0DqKXzOsZe7v"
      },
      "outputs": [],
      "source": [
        "query = \"What did the president say about Ketanji Brown Jackson\"\n",
        "docs = db.similarity_search(query)"
      ]
    },
    {
      "cell_type": "code",
      "execution_count": null,
      "metadata": {
        "colab": {
          "base_uri": "https://localhost:8080/"
        },
        "id": "CEbh45OPOncP",
        "outputId": "55c2f978-3595-4849-a6b7-2ac47b988b55"
      },
      "outputs": [
        {
          "data": {
            "text/plain": [
              "[('Tonight. I call on the Senate to: Pass the Freedom to Vote Act. Pass the John Lewis Voting Rights Act. And while you’re at it, pass the Disclose Act so Americans can know who is funding our elections. \\n\\nTonight, I’d like to honor someone who has dedicated his life to serve this country: Justice Stephen Breyer—an Army veteran, Constitutional scholar, and retiring Justice of the United States Supreme Court. Justice Breyer, thank you for your service. \\n\\nOne of the most serious constitutional responsibilities a President has is nominating someone to serve on the United States Supreme Court. \\n\\nAnd I did that 4 days ago, when I nominated Circuit Court of Appeals Judge Ketanji Brown Jackson. One of our nation’s top legal minds, who will continue Justice Breyer’s legacy of excellence.',\n",
              "  0.8152529633735803),\n",
              " ('A former top litigator in private practice. A former federal public defender. And from a family of public school educators and police officers. A consensus builder. Since she’s been nominated, she’s received a broad range of support—from the Fraternal Order of Police to former judges appointed by Democrats and Republicans. \\n\\nAnd if we are to advance liberty and justice, we need to secure the Border and fix the immigration system. \\n\\nWe can do both. At our border, we’ve installed new technology like cutting-edge scanners to better detect drug smuggling.  \\n\\nWe’ve set up joint patrols with Mexico and Guatemala to catch more human traffickers.  \\n\\nWe’re putting in place dedicated immigration judges so families fleeing persecution and violence can have their cases heard faster. \\n\\nWe’re securing commitments and supporting partners in South and Central America to host more refugees and secure their own borders.',\n",
              "  0.7824865397692742),\n",
              " ('And for our LGBTQ+ Americans, let’s finally get the bipartisan Equality Act to my desk. The onslaught of state laws targeting transgender Americans and their families is wrong. \\n\\nAs I said last year, especially to our younger transgender Americans, I will always have your back as your President, so you can be yourself and reach your God-given potential. \\n\\nWhile it often appears that we never agree, that isn’t true. I signed 80 bipartisan bills into law last year. From preventing government shutdowns to protecting Asian-Americans from still-too-common hate crimes to reforming military justice. \\n\\nAnd soon, we’ll strengthen the Violence Against Women Act that I first wrote three decades ago. It is important for us to show the nation that we can come together and do big things. \\n\\nSo tonight I’m offering a Unity Agenda for the Nation. Four big things we can do together.  \\n\\nFirst, beat the opioid epidemic.',\n",
              "  0.773221548285755),\n",
              " ('Tonight, I’m announcing a crackdown on these companies overcharging American businesses and consumers. \\n\\nAnd as Wall Street firms take over more nursing homes, quality in those homes has gone down and costs have gone up.  \\n\\nThat ends on my watch. \\n\\nMedicare is going to set higher standards for nursing homes and make sure your loved ones get the care they deserve and expect. \\n\\nWe’ll also cut costs and keep the economy going strong by giving workers a fair shot, provide more training and apprenticeships, hire them based on their skills not degrees. \\n\\nLet’s pass the Paycheck Fairness Act and paid leave.  \\n\\nRaise the minimum wage to $15 an hour and extend the Child Tax Credit, so no one has to raise a family in poverty. \\n\\nLet’s increase Pell Grants and increase our historic support of HBCUs, and invest in what Jill—our First Lady who teaches full-time—calls America’s best-kept secret: community colleges.',\n",
              "  0.7728676211203468)]"
            ]
          },
          "execution_count": 22,
          "metadata": {},
          "output_type": "execute_result"
        }
      ],
      "source": [
        "docs"
      ]
    },
    {
      "cell_type": "code",
      "execution_count": null,
      "metadata": {
        "colab": {
          "base_uri": "https://localhost:8080/"
        },
        "id": "RW2cIJpsOrk4",
        "outputId": "f22300e0-00b7-4c87-cf98-d9e688ee2715"
      },
      "outputs": [
        {
          "name": "stdout",
          "output_type": "stream",
          "text": [
            "Tonight. I call on the Senate to: Pass the Freedom to Vote Act. Pass the John Lewis Voting Rights Act. And while you’re at it, pass the Disclose Act so Americans can know who is funding our elections. \n",
            "\n",
            "Tonight, I’d like to honor someone who has dedicated his life to serve this country: Justice Stephen Breyer—an Army veteran, Constitutional scholar, and retiring Justice of the United States Supreme Court. Justice Breyer, thank you for your service. \n",
            "\n",
            "One of the most serious constitutional responsibilities a President has is nominating someone to serve on the United States Supreme Court. \n",
            "\n",
            "And I did that 4 days ago, when I nominated Circuit Court of Appeals Judge Ketanji Brown Jackson. One of our nation’s top legal minds, who will continue Justice Breyer’s legacy of excellence.\n"
          ]
        }
      ],
      "source": [
        "print(docs[0][0])"
      ]
    },
    {
      "cell_type": "markdown",
      "metadata": {
        "id": "HIiBUWhJOx6T"
      },
      "source": [
        "# 한글 벡터스토어"
      ]
    },
    {
      "cell_type": "markdown",
      "metadata": {
        "id": "HF4r_Zr0O5qq"
      },
      "source": [
        "# 헌법 예시"
      ]
    },
    {
      "cell_type": "code",
      "execution_count": null,
      "metadata": {
        "colab": {
          "base_uri": "https://localhost:8080/"
        },
        "id": "8PDZHS0tGL1_",
        "outputId": "66922e3b-c3ac-4f0a-b92f-fe81744232fc"
      },
      "outputs": [
        {
          "output_type": "execute_result",
          "data": {
            "text/plain": [
              "('korea_constitution.txt', <http.client.HTTPMessage at 0x79335349e140>)"
            ]
          },
          "metadata": {},
          "execution_count": 5
        }
      ],
      "source": [
        "import urllib.request\n",
        "\n",
        "urllib.request.urlretrieve(\n",
        "    \"https://raw.githubusercontent.com/puzzlet/constitution-kr/master/%EB%8C%80%ED%95%9C%EB%AF%BC%EA%B5%AD%20%ED%97%8C%EB%B2%95.txt\",\n",
        "    filename=\"korea_constitution.txt\"\n",
        ")"
      ]
    },
    {
      "cell_type": "code",
      "execution_count": null,
      "metadata": {
        "colab": {
          "base_uri": "https://localhost:8080/",
          "height": 176
        },
        "id": "rpW0qZHkjh_8",
        "outputId": "d1812689-c84a-45fd-f512-b432ea1a0be5"
      },
      "outputs": [
        {
          "output_type": "error",
          "ename": "NameError",
          "evalue": "name 'SimpleTextLoader' is not defined",
          "traceback": [
            "\u001b[0;31m---------------------------------------------------------------------------\u001b[0m",
            "\u001b[0;31mNameError\u001b[0m                                 Traceback (most recent call last)",
            "\u001b[0;32m<ipython-input-6-19c15317aaca>\u001b[0m in \u001b[0;36m<cell line: 1>\u001b[0;34m()\u001b[0m\n\u001b[0;32m----> 1\u001b[0;31m \u001b[0mraw_documents\u001b[0m \u001b[0;34m=\u001b[0m \u001b[0mSimpleTextLoader\u001b[0m\u001b[0;34m(\u001b[0m\u001b[0;34m'korea_constitution.txt'\u001b[0m\u001b[0;34m)\u001b[0m\u001b[0;34m.\u001b[0m\u001b[0mload\u001b[0m\u001b[0;34m(\u001b[0m\u001b[0;34m)\u001b[0m\u001b[0;34m\u001b[0m\u001b[0;34m\u001b[0m\u001b[0m\n\u001b[0m\u001b[1;32m      2\u001b[0m \u001b[0mtext_splitter\u001b[0m \u001b[0;34m=\u001b[0m \u001b[0mSimpleCharacterTextSplitter\u001b[0m\u001b[0;34m(\u001b[0m\u001b[0mchunk_size\u001b[0m\u001b[0;34m=\u001b[0m\u001b[0;36m1000\u001b[0m\u001b[0;34m,\u001b[0m \u001b[0mchunk_overlap\u001b[0m\u001b[0;34m=\u001b[0m\u001b[0;36m0\u001b[0m\u001b[0;34m)\u001b[0m\u001b[0;34m\u001b[0m\u001b[0;34m\u001b[0m\u001b[0m\n\u001b[1;32m      3\u001b[0m \u001b[0mdocuments\u001b[0m \u001b[0;34m=\u001b[0m \u001b[0mtext_splitter\u001b[0m\u001b[0;34m.\u001b[0m\u001b[0msplit_documents\u001b[0m\u001b[0;34m(\u001b[0m\u001b[0mraw_documents\u001b[0m\u001b[0;34m)\u001b[0m\u001b[0;34m\u001b[0m\u001b[0;34m\u001b[0m\u001b[0m\n",
            "\u001b[0;31mNameError\u001b[0m: name 'SimpleTextLoader' is not defined"
          ]
        }
      ],
      "source": [
        "raw_documents = SimpleTextLoader('korea_constitution.txt').load()\n",
        "text_splitter = SimpleCharacterTextSplitter(chunk_size=1000, chunk_overlap=0)\n",
        "documents = text_splitter.split_documents(raw_documents)"
      ]
    },
    {
      "cell_type": "code",
      "execution_count": null,
      "metadata": {
        "colab": {
          "base_uri": "https://localhost:8080/"
        },
        "id": "mCeIlFs_l9z3",
        "outputId": "8908bbbc-e8e8-4f04-abe1-c2baa687130c"
      },
      "outputs": [
        {
          "data": {
            "text/plain": [
              "['전문\\n\\n유구한 역사와 전통에 빛나는 우리 대한국민은 3·1운동으로 건립된 대한민국임시정부의 법통과 불의에 항거한 4·19민주이념을 계승하고, 조국의 민주개혁과 평화적 통일의 사명에 입각하여 정의·인도와 동포애로써 민족의 단결을 공고히 하고, 모든 사회적 폐습과 불의를 타파하며, 자율과 조화를 바탕으로 자유민주적 기본질서를 더욱 확고히 하여 정치·경제·사회·문화의 모든 영역에 있어서 각인의 기회를 균등히 하고, 능력을 최고도로 발휘하게 하며, 자유와 권리에 따르는 책임과 의무를 완수하게 하여, 안으로는 국민생활의 균등한 향상을 기하고 밖으로는 항구적인 세계평화와 인류공영에 이바지함으로써 우리들과 우리들의 자손의 안전과 자유와 행복을 영원히 확보할 것을 다짐하면서 1948년 7월 12일에 제정되고 8차에 걸쳐 개정된 헌법을 이제 국회의 의결을 거쳐 국민투표에 의하여 개정한다.\\n\\n제1장 총강\\n\\n제1조 ① 대한민국은 민주공화국이다.\\n② 대한민국의 주권은 국민에게 있고, 모든 권력은 국민으로부터 나온다.\\n\\n제2조 ① 대한민국의 국민이 되는 요건은 법률로 정한다.\\n② 국가는 법률이 정하는 바에 의하여 재외국민을 보호할 의무를 진다.\\n\\n제3조 대한민국의 영토는 한반도와 그 부속도서로 한다.\\n\\n제4조 대한민국은 통일을 지향하며, 자유민주적 기본질서에 입각한 평화적 통일 정책을 수립하고 이를 추진한다.\\n\\n제5조 ① 대한민국은 국제평화의 유지에 노력하고 침략적 전쟁을 부인한다.\\n② 국군은 국가의 안전보장과 국토방위의 신성한 의무를 수행함을 사명으로 하며, 그 정치적 중립성은 준수된다.\\n\\n제6조 ① 헌법에 의하여 체결·공포된 조약과 일반적으로 승인된 국제법규는 국내법과 같은 효력을 가진다.\\n② 외국인은 국제법과 조약이 정하는 바에 의하여 그 지위가 보장된다.\\n\\n제7조 ① 공무원은 국민전체에 대한 봉사자이며, 국민에 대하여 책임을 진다.\\n② 공무원의 신분과 정치적 중립성은 법률이 정하는 바에 의하여 보장된다.',\n",
              " '제8조 ① 정당의 설립은 자유이며, 복수정당제는 보장된다.\\n② 정당은 그 목적·조직과 활동이 민주적이어야 하며, 국민의 정치적 의사형성에 참여하는데 필요한 조직을 가져야 한다.\\n③ 정당은 법률이 정하는 바에 의하여 국가의 보호를 받으며, 국가는 법률이 정하는 바에 의하여 정당운영에 필요한 자금을 보조할 수 있다.\\n④ 정당의 목적이나 활동이 민주적 기본질서에 위배될 때에는 정부는 헌법재판소에 그 해산을 제소할 수 있고, 정당은 헌법재판소의 심판에 의하여 해산된다.\\n\\n제9조 국가는 전통문화의 계승·발전과 민족문화의 창달에 노력하여야 한다.\\n\\n제2장 국민의 권리와 의무\\n\\n제10조 모든 국민은 인간으로서의 존엄과 가치를 가지며, 행복을 추구할 권리를 가진다. 국가는 개인이 가지는 불가침의 기본적 인권을 확인하고 이를 보장할 의무를 진다.\\n\\n제11조 ① 모든 국민은 법 앞에 평등하다. 누구든지 성별·종교 또는 사회적 신분에 의하여 정치적·경제적·사회적·문화적 생활의 모든 영역에 있어서 차별을 받지 아니한다.\\n② 사회적 특수계급의 제도는 인정되지 아니하며, 어떠한 형태로도 이를 창설할 수 없다.\\n③ 훈장등의 영전은 이를 받은 자에게만 효력이 있고, 어떠한 특권도 이에 따르지 아니한다.',\n",
              " '제12조 ① 모든 국민은 신체의 자유를 가진다. 누구든지 법률에 의하지 아니하고는 체포·구속·압수·수색 또는 심문을 받지 아니하며, 법률과 적법한 절차에 의하지 아니하고는 처벌·보안처분 또는 강제노역을 받지 아니한다.\\n② 모든 국민은 고문을 받지 아니하며, 형사상 자기에게 불리한 진술을 강요당하지 아니한다.\\n③ 체포·구속·압수 또는 수색을 할 때에는 적법한 절차에 따라 검사의 신청에 의하여 법관이 발부한 영장을 제시하여야 한다. 다만, 현행범인인 경우와 장기 3년 이상의 형에 해당하는 죄를 범하고 도피 또는 증거인멸의 염려가 있을 때에는 사후에 영장을 청구할 수 있다.\\n④ 누구든지 체포 또는 구속을 당한 때에는 즉시 변호인의 조력을 받을 권리를 가진다. 다만, 형사피고인이 스스로 변호인을 구할 수 없을 때에는 법률이 정하는 바에 의하여 국가가 변호인을 붙인다.\\n⑤ 누구든지 체포 또는 구속의 이유와 변호인의 조력을 받을 권리가 있음을 고지받지 아니하고는 체포 또는 구속을 당하지 아니한다. 체포 또는 구속을 당한 자의 가족등 법률이 정하는 자에게는 그 이유와 일시·장소가 지체없이 통지되어야 한다.\\n⑥ 누구든지 체포 또는 구속을 당한 때에는 적부의 심사를 법원에 청구할 권리를 가진다.\\n⑦ 피고인의 자백이 고문·폭행·협박·구속의 부당한 장기화 또는 기망 기타의 방법에 의하여 자의로 진술된 것이 아니라고 인정될 때 또는 정식재판에 있어서 피고인의 자백이 그에게 불리한 유일한 증거일 때에는 이를 유죄의 증거로 삼거나 이를 이유로 처벌할 수 없다.\\n\\n제13조 ① 모든 국민은 행위시의 법률에 의하여 범죄를 구성하지 아니하는 행위로 소추되지 아니하며, 동일한 범죄에 대하여 거듭 처벌받지 아니한다.\\n② 모든 국민은 소급입법에 의하여 참정권의 제한을 받거나 재산권을 박탈당하지 아니한다.\\n③ 모든 국민은 자기의 행위가 아닌 친족의 행위로 인하여 불이익한 처우를 받지 아니한다.\\n\\n제14조 모든 국민은 거주·이전의 자유를 가진다.\\n\\n제15조 모든 국민은 직업선택의 자유를 가진다.',\n",
              " '제16조 모든 국민은 주거의 자유를 침해받지 아니한다. 주거에 대한 압수나 수색을 할 때에는 검사의 신청에 의하여 법관이 발부한 영장을 제시하여야 한다.\\n\\n제17조 모든 국민은 사생활의 비밀과 자유를 침해받지 아니한다.\\n\\n제18조 모든 국민은 통신의 비밀을 침해받지 아니한다.\\n\\n제19조 모든 국민은 양심의 자유를 가진다.\\n\\n제20조 ① 모든 국민은 종교의 자유를 가진다.\\n② 국교는 인정되지 아니하며, 종교와 정치는 분리된다.\\n\\n제21조 ① 모든 국민은 언론·출판의 자유와 집회·결사의 자유를 가진다.\\n② 언론·출판에 대한 허가나 검열과 집회·결사에 대한 허가는 인정되지 아니한다.\\n③ 통신·방송의 시설기준과 신문의 기능을 보장하기 위하여 필요한 사항은 법률로 정한다.\\n④ 언론·출판은 타인의 명예나 권리 또는 공중도덕이나 사회윤리를 침해하여서는 아니된다. 언론·출판이 타인의 명예나 권리를 침해한 때에는 피해자는 이에 대한 피해의 배상을 청구할 수 있다.\\n\\n제22조 ① 모든 국민은 학문과 예술의 자유를 가진다.\\n② 저작자·발명가·과학기술자와 예술가의 권리는 법률로써 보호한다.\\n\\n제23조 ① 모든 국민의 재산권은 보장된다. 그 내용과 한계는 법률로 정한다.\\n② 재산권의 행사는 공공복리에 적합하도록 하여야 한다.\\n③ 공공필요에 의한 재산권의 수용·사용 또는 제한 및 그에 대한 보상은 법률로써 하되, 정당한 보상을 지급하여야 한다.\\n\\n제24조 모든 국민은 법률이 정하는 바에 의하여 선거권을 가진다.\\n\\n제25조 모든 국민은 법률이 정하는 바에 의하여 공무담임권을 가진다.\\n\\n제26조 ① 모든 국민은 법률이 정하는 바에 의하여 국가기관에 문서로 청원할 권리를 가진다.\\n② 국가는 청원에 대하여 심사할 의무를 진다.',\n",
              " '제27조 ① 모든 국민은 헌법과 법률이 정한 법관에 의하여 법률에 의한 재판을 받을 권리를 가진다.\\n② 군인 또는 군무원이 아닌 국민은 대한민국의 영역안에서는 중대한 군사상 기밀·초병·초소·유독음식물공급·포로·군용물에 관한 죄중 법률이 정한 경우와 비상계엄이 선포된 경우를 제외하고는 군사법원의 재판을 받지 아니한다.\\n③ 모든 국민은 신속한 재판을 받을 권리를 가진다. 형사피고인은 상당한 이유가 없는 한 지체없이 공개재판을 받을 권리를 가진다.\\n④ 형사피고인은 유죄의 판결이 확정될 때까지는 무죄로 추정된다.\\n⑤ 형사피해자는 법률이 정하는 바에 의하여 당해 사건의 재판절차에서 진술할 수 있다.\\n\\n제28조 형사피의자 또는 형사피고인으로서 구금되었던 자가 법률이 정하는 불기소처분을 받거나 무죄판결을 받은 때에는 법률이 정하는 바에 의하여 국가에 정당한 보상을 청구할 수 있다.\\n\\n제29조 ① 공무원의 직무상 불법행위로 손해를 받은 국민은 법률이 정하는 바에 의하여 국가 또는 공공단체에 정당한 배상을 청구할 수 있다. 이 경우 공무원 자신의 책임은 면제되지 아니한다.\\n② 군인·군무원·경찰공무원 기타 법률이 정하는 자가 전투·훈련등 직무집행과 관련하여 받은 손해에 대하여는 법률이 정하는 보상외에 국가 또는 공공단체에 공무원의 직무상 불법행위로 인한 배상은 청구할 수 없다.\\n\\n제30조 타인의 범죄행위로 인하여 생명·신체에 대한 피해를 받은 국민은 법률이 정하는 바에 의하여 국가로부터 구조를 받을 수 있다.\\n\\n제31조 ① 모든 국민은 능력에 따라 균등하게 교육을 받을 권리를 가진다.\\n② 모든 국민은 그 보호하는 자녀에게 적어도 초등교육과 법률이 정하는 교육을 받게 할 의무를 진다.\\n③ 의무교육은 무상으로 한다.\\n④ 교육의 자주성·전문성·정치적 중립성 및 대학의 자율성은 법률이 정하는 바에 의하여 보장된다.\\n⑤ 국가는 평생교육을 진흥하여야 한다.\\n⑥ 학교교육 및 평생교육을 포함한 교육제도와 그 운영, 교육재정 및 교원의 지위에 관한 기본적인 사항은 법률로 정한다.',\n",
              " '제32조 ① 모든 국민은 근로의 권리를 가진다. 국가는 사회적·경제적 방법으로 근로자의 고용의 증진과 적정임금의 보장에 노력하여야 하며, 법률이 정하는 바에 의하여 최저임금제를 시행하여야 한다.\\n② 모든 국민은 근로의 의무를 진다. 국가는 근로의 의무의 내용과 조건을 민주주의원칙에 따라 법률로 정한다.\\n③ 근로조건의 기준은 인간의 존엄성을 보장하도록 법률로 정한다.\\n④ 여자의 근로는 특별한 보호를 받으며, 고용·임금 및 근로조건에 있어서 부당한 차별을 받지 아니한다.\\n⑤ 연소자의 근로는 특별한 보호를 받는다.\\n⑥ 국가유공자·상이군경 및 전몰군경의 유가족은 법률이 정하는 바에 의하여 우선적으로 근로의 기회를 부여받는다.\\n\\n제33조 ① 근로자는 근로조건의 향상을 위하여 자주적인 단결권·단체교섭권 및 단체행동권을 가진다.\\n② 공무원인 근로자는 법률이 정하는 자에 한하여 단결권·단체교섭권 및 단체행동권을 가진다.\\n③ 법률이 정하는 주요방위산업체에 종사하는 근로자의 단체행동권은 법률이 정하는 바에 의하여 이를 제한하거나 인정하지 아니할 수 있다.\\n\\n제34조 ① 모든 국민은 인간다운 생활을 할 권리를 가진다.\\n② 국가는 사회보장·사회복지의 증진에 노력할 의무를 진다.\\n③ 국가는 여자의 복지와 권익의 향상을 위하여 노력하여야 한다.\\n④ 국가는 노인과 청소년의 복지향상을 위한 정책을 실시할 의무를 진다.\\n⑤ 신체장애자 및 질병·노령 기타의 사유로 생활능력이 없는 국민은 법률이 정하는 바에 의하여 국가의 보호를 받는다.\\n⑥ 국가는 재해를 예방하고 그 위험으로부터 국민을 보호하기 위하여 노력하여야 한다.\\n\\n제35조 ① 모든 국민은 건강하고 쾌적한 환경에서 생활할 권리를 가지며, 국가와 국민은 환경보전을 위하여 노력하여야 한다.\\n② 환경권의 내용과 행사에 관하여는 법률로 정한다.\\n③ 국가는 주택개발정책등을 통하여 모든 국민이 쾌적한 주거생활을 할 수 있도록 노력하여야 한다.',\n",
              " '제36조 ① 혼인과 가족생활은 개인의 존엄과 양성의 평등을 기초로 성립되고 유지되어야 하며, 국가는 이를 보장한다.\\n② 국가는 모성의 보호를 위하여 노력하여야 한다.\\n③ 모든 국민은 보건에 관하여 국가의 보호를 받는다.\\n\\n제37조 ① 국민의 자유와 권리는 헌법에 열거되지 아니한 이유로 경시되지 아니한다.\\n② 국민의 모든 자유와 권리는 국가안전보장·질서유지 또는 공공복리를 위하여 필요한 경우에 한하여 법률로써 제한할 수 있으며, 제한하는 경우에도 자유와 권리의 본질적인 내용을 침해할 수 없다.\\n\\n제38조 모든 국민은 법률이 정하는 바에 의하여 납세의 의무를 진다.\\n\\n제39조 ① 모든 국민은 법률이 정하는 바에 의하여 국방의 의무를 진다.\\n② 누구든지 병역의무의 이행으로 인하여 불이익한 처우를 받지 아니한다.\\n\\n제3장 국회\\n\\n제40조 입법권은 국회에 속한다.\\n\\n제41조 ① 국회는 국민의 보통·평등·직접·비밀선거에 의하여 선출된 국회의원으로 구성한다.\\n② 국회의원의 수는 법률로 정하되, 200인 이상으로 한다.\\n③ 국회의원의 선거구와 비례대표제 기타 선거에 관한 사항은 법률로 정한다.\\n\\n제42조 국회의원의 임기는 4년으로 한다.\\n\\n제43조 국회의원은 법률이 정하는 직을 겸할 수 없다.\\n\\n제44조 ① 국회의원은 현행범인인 경우를 제외하고는 회기중 국회의 동의없이 체포 또는 구금되지 아니한다.\\n② 국회의원이 회기전에 체포 또는 구금된 때에는 현행범인이 아닌 한 국회의 요구가 있으면 회기중 석방된다.\\n\\n제45조 국회의원은 국회에서 직무상 행한 발언과 표결에 관하여 국회외에서 책임을 지지 아니한다.\\n\\n제46조 ① 국회의원은 청렴의 의무가 있다.\\n② 국회의원은 국가이익을 우선하여 양심에 따라 직무를 행한다.\\n③ 국회의원은 그 지위를 남용하여 국가·공공단체 또는 기업체와의 계약이나 그 처분에 의하여 재산상의 권리·이익 또는 직위를 취득하거나 타인을 위하여 그 취득을 알선할 수 없다.',\n",
              " '제47조 ① 국회의 정기회는 법률이 정하는 바에 의하여 매년 1회 집회되며, 국회의 임시회는 대통령 또는 국회재적의원 4분의 1 이상의 요구에 의하여 집회된다.\\n② 정기회의 회기는 100일을, 임시회의 회기는 30일을 초과할 수 없다.\\n③ 대통령이 임시회의 집회를 요구할 때에는 기간과 집회요구의 이유를 명시하여야 한다.\\n\\n제48조 국회는 의장 1인과 부의장 2인을 선출한다.\\n\\n제49조 국회는 헌법 또는 법률에 특별한 규정이 없는 한 재적의원 과반수의 출석과 출석의원 과반수의 찬성으로 의결한다. 가부동수인 때에는 부결된 것으로 본다.\\n\\n제50조 ① 국회의 회의는 공개한다. 다만, 출석의원 과반수의 찬성이 있거나 의장이 국가의 안전보장을 위하여 필요하다고 인정할 때에는 공개하지 아니할 수 있다.\\n② 공개하지 아니한 회의내용의 공표에 관하여는 법률이 정하는 바에 의한다.\\n\\n제51조 국회에 제출된 법률안 기타의 의안은 회기중에 의결되지 못한 이유로 폐기되지 아니한다. 다만, 국회의원의 임기가 만료된 때에는 그러하지 아니하다.\\n\\n제52조 국회의원과 정부는 법률안을 제출할 수 있다.',\n",
              " '제53조 ① 국회에서 의결된 법률안은 정부에 이송되어 15일 이내에 대통령이 공포한다.\\n② 법률안에 이의가 있을 때에는 대통령은 제1항의 기간내에 이의서를 붙여 국회로 환부하고, 그 재의를 요구할 수 있다. 국회의 폐회중에도 또한 같다.\\n③ 대통령은 법률안의 일부에 대하여 또는 법률안을 수정하여 재의를 요구할 수 없다.\\n④ 재의의 요구가 있을 때에는 국회는 재의에 붙이고, 재적의원과반수의 출석과 출석의원 3분의 2 이상의 찬성으로 전과 같은 의결을 하면 그 법률안은 법률로서 확정된다.\\n⑤ 대통령이 제1항의 기간내에 공포나 재의의 요구를 하지 아니한 때에도 그 법률안은 법률로서 확정된다.\\n⑥ 대통령은 제4항과 제5항의 규정에 의하여 확정된 법률을 지체없이 공포하여야 한다. 제5항에 의하여 법률이 확정된 후 또는 제4항에 의한 확정법률이 정부에 이송된 후 5일 이내에 대통령이 공포하지 아니할 때에는 국회의장이 이를 공포한다.\\n⑦ 법률은 특별한 규정이 없는 한 공포한 날로부터 20일을 경과함으로써 효력을 발생한다.\\n\\n제54조 ① 국회는 국가의 예산안을 심의·확정한다.\\n② 정부는 회계연도마다 예산안을 편성하여 회계연도 개시 90일전까지 국회에 제출하고, 국회는 회계연도 개시 30일전까지 이를 의결하여야 한다.\\n③ 새로운 회계연도가 개시될 때까지 예산안이 의결되지 못한 때에는 정부는 국회에서 예산안이 의결될 때까지 다음의 목적을 위한 경비는 전년도 예산에 준하여 집행할 수 있다.\\n1. 헌법이나 법률에 의하여 설치된 기관 또는 시설의 유지·운영\\n2. 법률상 지출의무의 이행\\n3. 이미 예산으로 승인된 사업의 계속\\n\\n제55조 ① 한 회계연도를 넘어 계속하여 지출할 필요가 있을 때에는 정부는 연한을 정하여 계속비로서 국회의 의결을 얻어야 한다.\\n② 예비비는 총액으로 국회의 의결을 얻어야 한다. 예비비의 지출은 차기국회의 승인을 얻어야 한다.\\n\\n제56조 정부는 예산에 변경을 가할 필요가 있을 때에는 추가경정예산안을 편성하여 국회에 제출할 수 있다.',\n",
              " '제57조 국회는 정부의 동의없이 정부가 제출한 지출예산 각항의 금액을 증가하거나 새 비목을 설치할 수 없다.\\n\\n제58조 국채를 모집하거나 예산외에 국가의 부담이 될 계약을 체결하려 할 때에는 정부는 미리 국회의 의결을 얻어야 한다.\\n\\n제59조 조세의 종목과 세율은 법률로 정한다.\\n\\n제60조 ① 국회는 상호원조 또는 안전보장에 관한 조약, 중요한 국제조직에 관한 조약, 우호통상항해조약, 주권의 제약에 관한 조약, 강화조약, 국가나 국민에게 중대한 재정적 부담을 지우는 조약 또는 입법사항에 관한 조약의 체결·비준에 대한 동의권을 가진다.\\n② 국회는 선전포고, 국군의 외국에의 파견 또는 외국군대의 대한민국 영역안에서의 주류에 대한 동의권을 가진다.\\n\\n제61조 ① 국회는 국정을 감사하거나 특정한 국정사안에 대하여 조사할 수 있으며, 이에 필요한 서류의 제출 또는 증인의 출석과 증언이나 의견의 진술을 요구할 수 있다.\\n② 국정감사 및 조사에 관한 절차 기타 필요한 사항은 법률로 정한다.\\n\\n제62조 ① 국무총리·국무위원 또는 정부위원은 국회나 그 위원회에 출석하여 국정처리상황을 보고하거나 의견을 진술하고 질문에 응답할 수 있다.\\n② 국회나 그 위원회의 요구가 있을 때에는 국무총리·국무위원 또는 정부위원은 출석·답변하여야 하며, 국무총리 또는 국무위원이 출석요구를 받은 때에는 국무위원 또는 정부위원으로 하여금 출석·답변하게 할 수 있다.\\n\\n제63조 ① 국회는 국무총리 또는 국무위원의 해임을 대통령에게 건의할 수 있다.\\n② 제1항의 해임건의는 국회재적의원 3분의 1 이상의 발의에 의하여 국회재적의원 과반수의 찬성이 있어야 한다.\\n\\n제64조 ① 국회는 법률에 저촉되지 아니하는 범위안에서 의사와 내부규율에 관한 규칙을 제정할 수 있다.\\n② 국회는 의원의 자격을 심사하며, 의원을 징계할 수 있다.\\n③ 의원을 제명하려면 국회재적의원 3분의 2 이상의 찬성이 있어야 한다.\\n④ 제2항과 제3항의 처분에 대하여는 법원에 제소할 수 없다.',\n",
              " '제65조 ① 대통령·국무총리·국무위원·행정각부의 장·헌법재판소 재판관·법관·중앙선거관리위원회 위원·감사원장·감사위원 기타 법률이 정한 공무원이 그 직무집행에 있어서 헌법이나 법률을 위배한 때에는 국회는 탄핵의 소추를 의결할 수 있다.\\n② 제1항의 탄핵소추는 국회재적의원 3분의 1 이상의 발의가 있어야 하며, 그 의결은 국회재적의원 과반수의 찬성이 있어야 한다. 다만, 대통령에 대한 탄핵소추는 국회재적의원 과반수의 발의와 국회재적의원 3분의 2 이상의 찬성이 있어야 한다.\\n③ 탄핵소추의 의결을 받은 자는 탄핵심판이 있을 때까지 그 권한행사가 정지된다.\\n④ 탄핵결정은 공직으로부터 파면함에 그친다. 그러나, 이에 의하여 민사상이나 형사상의 책임이 면제되지는 아니한다.\\n\\n제4장 정부\\n제1절 대통령\\n\\n제66조 ① 대통령은 국가의 원수이며, 외국에 대하여 국가를 대표한다.\\n② 대통령은 국가의 독립·영토의 보전·국가의 계속성과 헌법을 수호할 책무를 진다.\\n③ 대통령은 조국의 평화적 통일을 위한 성실한 의무를 진다.\\n④ 행정권은 대통령을 수반으로 하는 정부에 속한다.\\n\\n제67조 ① 대통령은 국민의 보통·평등·직접·비밀선거에 의하여 선출한다.\\n② 제1항의 선거에 있어서 최고득표자가 2인 이상인 때에는 국회의 재적의원 과반수가 출석한 공개회의에서 다수표를 얻은 자를 당선자로 한다.\\n③ 대통령후보자가 1인일 때에는 그 득표수가 선거권자 총수의 3분의 1 이상이 아니면 대통령으로 당선될 수 없다.\\n④ 대통령으로 선거될 수 있는 자는 국회의원의 피선거권이 있고 선거일 현재 40세에 달하여야 한다.\\n⑤ 대통령의 선거에 관한 사항은 법률로 정한다.\\n\\n제68조 ① 대통령의 임기가 만료되는 때에는 임기만료 70일 내지 40일전에 후임자를 선거한다.\\n② 대통령이 궐위된 때 또는 대통령 당선자가 사망하거나 판결 기타의 사유로 그 자격을 상실한 때에는 60일 이내에 후임자를 선거한다.',\n",
              " '제69조 대통령은 취임에 즈음하여 다음의 선서를 한다.\\n\"나는 헌법을 준수하고 국가를 보위하며 조국의 평화적 통일과 국민의 자유와 복리의 증진 및 민족문화의 창달에 노력하여 대통령으로서의 직책을 성실히 수행할 것을 국민 앞에 엄숙히 선서합니다.\"\\n\\n제70조 대통령의 임기는 5년으로 하며, 중임할 수 없다.\\n\\n제71조 대통령이 궐위되거나 사고로 인하여 직무를 수행할 수 없을 때에는 국무총리, 법률이 정한 국무위원의 순서로 그 권한을 대행한다.\\n\\n제72조 대통령은 필요하다고 인정할 때에는 외교·국방·통일 기타 국가안위에 관한 중요정책을 국민투표에 붙일 수 있다.\\n\\n제73조 대통령은 조약을 체결·비준하고, 외교사절을 신임·접수 또는 파견하며, 선전포고와 강화를 한다.\\n\\n제74조 ① 대통령은 헌법과 법률이 정하는 바에 의하여 국군을 통수한다.\\n② 국군의 조직과 편성은 법률로 정한다.\\n\\n제75조 대통령은 법률에서 구체적으로 범위를 정하여 위임받은 사항과 법률을 집행하기 위하여 필요한 사항에 관하여 대통령령을 발할 수 있다.',\n",
              " '제76조 ① 대통령은 내우·외환·천재·지변 또는 중대한 재정·경제상의 위기에 있어서 국가의 안전보장 또는 공공의 안녕질서를 유지하기 위하여 긴급한 조치가 필요하고 국회의 집회를 기다릴 여유가 없을 때에 한하여 최소한으로 필요한 재정·경제상의 처분을 하거나 이에 관하여 법률의 효력을 가지는 명령을 발할 수 있다.\\n② 대통령은 국가의 안위에 관계되는 중대한 교전상태에 있어서 국가를 보위하기 위하여 긴급한 조치가 필요하고 국회의 집회가 불가능한 때에 한하여 법률의 효력을 가지는 명령을 발할 수 있다.\\n③ 대통령은 제1항과 제2항의 처분 또는 명령을 한 때에는 지체없이 국회에 보고하여 그 승인을 얻어야 한다.\\n④ 제3항의 승인을 얻지 못한 때에는 그 처분 또는 명령은 그때부터 효력을 상실한다. 이 경우 그 명령에 의하여 개정 또는 폐지되었던 법률은 그 명령이 승인을 얻지 못한 때부터 당연히 효력을 회복한다.\\n⑤ 대통령은 제3항과 제4항의 사유를 지체없이 공포하여야 한다.\\n\\n제77조 ① 대통령은 전시·사변 또는 이에 준하는 국가비상사태에 있어서 병력으로써 군사상의 필요에 응하거나 공공의 안녕질서를 유지할 필요가 있을 때에는 법률이 정하는 바에 의하여 계엄을 선포할 수 있다.\\n② 계엄은 비상계엄과 경비계엄으로 한다.\\n③ 비상계엄이 선포된 때에는 법률이 정하는 바에 의하여 영장제도, 언론·출판·집회·결사의 자유, 정부나 법원의 권한에 관하여 특별한 조치를 할 수 있다.\\n④ 계엄을 선포한 때에는 대통령은 지체없이 국회에 통고하여야 한다.\\n⑤ 국회가 재적의원 과반수의 찬성으로 계엄의 해제를 요구한 때에는 대통령은 이를 해제하여야 한다.\\n\\n제78조 대통령은 헌법과 법률이 정하는 바에 의하여 공무원을 임면한다.\\n\\n제79조 ① 대통령은 법률이 정하는 바에 의하여 사면·감형 또는 복권을 명할 수 있다.\\n② 일반사면을 명하려면 국회의 동의를 얻어야 한다.\\n③ 사면·감형 및 복권에 관한 사항은 법률로 정한다.\\n\\n제80조 대통령은 법률이 정하는 바에 의하여 훈장 기타의 영전을 수여한다.',\n",
              " '제81조 대통령은 국회에 출석하여 발언하거나 서한으로 의견을 표시할 수 있다.\\n\\n제82조 대통령의 국법상 행위는 문서로써 하며, 이 문서에는 국무총리와 관계 국무위원이 부서한다. 군사에 관한 것도 또한 같다.\\n\\n제83조 대통령은 국무총리·국무위원·행정각부의 장 기타 법률이 정하는 공사의 직을 겸할 수 없다.\\n\\n제84조 대통령은 내란 또는 외환의 죄를 범한 경우를 제외하고는 재직중 형사상의 소추를 받지 아니한다.\\n\\n제85조 전직대통령의 신분과 예우에 관하여는 법률로 정한다.\\n\\n제2절 행정부\\n제1관 국무총리와 국무위원\\n\\n제86조 ① 국무총리는 국회의 동의를 얻어 대통령이 임명한다.\\n② 국무총리는 대통령을 보좌하며, 행정에 관하여 대통령의 명을 받아 행정각부를 통할한다.\\n③ 군인은 현역을 면한 후가 아니면 국무총리로 임명될 수 없다.\\n\\n제87조 ① 국무위원은 국무총리의 제청으로 대통령이 임명한다.\\n② 국무위원은 국정에 관하여 대통령을 보좌하며, 국무회의의 구성원으로서 국정을 심의한다.\\n③ 국무총리는 국무위원의 해임을 대통령에게 건의할 수 있다.\\n④ 군인은 현역을 면한 후가 아니면 국무위원으로 임명될 수 없다.\\n\\n제2관 국무회의\\n\\n제88조 ① 국무회의는 정부의 권한에 속하는 중요한 정책을 심의한다.\\n② 국무회의는 대통령·국무총리와 15인 이상 30인 이하의 국무위원으로 구성한다.\\n③ 대통령은 국무회의의 의장이 되고, 국무총리는 부의장이 된다.',\n",
              " '제89조 다음 사항은 국무회의의 심의를 거쳐야 한다.\\n1. 국정의 기본계획과 정부의 일반정책\\n2. 선전·강화 기타 중요한 대외정책\\n3. 헌법개정안·국민투표안·조약안·법률안 및 대통령령안\\n4. 예산안·결산·국유재산처분의 기본계획·국가의 부담이 될 계약 기타 재정에 관한 중요사항\\n5. 대통령의 긴급명령·긴급재정경제처분 및 명령 또는 계엄과 그 해제\\n6. 군사에 관한 중요사항\\n7. 국회의 임시회 집회의 요구\\n8. 영전수여\\n9. 사면·감형과 복권\\n10. 행정각부간의 권한의 획정\\n11. 정부안의 권한의 위임 또는 배정에 관한 기본계획\\n12. 국정처리상황의 평가·분석\\n13. 행정각부의 중요한 정책의 수립과 조정\\n14. 정당해산의 제소\\n15. 정부에 제출 또는 회부된 정부의 정책에 관계되는 청원의 심사\\n16. 검찰총장·합동참모의장·각군참모총장·국립대학교총장·대사 기타 법률이 정한 공무원과 국영기업체관리자의 임명\\n17. 기타 대통령·국무총리 또는 국무위원이 제출한 사항\\n\\n제90조 ① 국정의 중요한 사항에 관한 대통령의 자문에 응하기 위하여 국가원로로 구성되는 국가원로자문회의를 둘 수 있다.\\n② 국가원로자문회의의 의장은 직전대통령이 된다. 다만, 직전대통령이 없을 때에는 대통령이 지명한다.\\n③ 국가원로자문회의의 조직·직무범위 기타 필요한 사항은 법률로 정한다.\\n\\n제91조 ① 국가안전보장에 관련되는 대외정책·군사정책과 국내정책의 수립에 관하여 국무회의의 심의에 앞서 대통령의 자문에 응하기 위하여 국가안전보장회의를 둔다.\\n② 국가안전보장회의는 대통령이 주재한다.\\n③ 국가안전보장회의의 조직·직무범위 기타 필요한 사항은 법률로 정한다.\\n\\n제92조 ① 평화통일정책의 수립에 관한 대통령의 자문에 응하기 위하여 민주평화통일자문회의를 둘 수 있다.\\n② 민주평화통일자문회의의 조직·직무범위 기타 필요한 사항은 법률로 정한다.',\n",
              " '제93조 ① 국민경제의 발전을 위한 중요정책의 수립에 관하여 대통령의 자문에 응하기 위하여 국민경제자문회의를 둘 수 있다.\\n② 국민경제자문회의의 조직·직무범위 기타 필요한 사항은 법률로 정한다.\\n\\n제3관 행정각부\\n\\n제94조 행정각부의 장은 국무위원 중에서 국무총리의 제청으로 대통령이 임명한다.\\n\\n제95조 국무총리 또는 행정각부의 장은 소관사무에 관하여 법률이나 대통령령의 위임 또는 직권으로 총리령 또는 부령을 발할 수 있다.\\n\\n제96조 행정각부의 설치·조직과 직무범위는 법률로 정한다.\\n\\n제4관 감사원\\n\\n제97조 국가의 세입·세출의 결산, 국가 및 법률이 정한 단체의 회계검사와 행정기관 및 공무원의 직무에 관한 감찰을 하기 위하여 대통령 소속하에 감사원을 둔다.\\n\\n제98조 ① 감사원은 원장을 포함한 5인 이상 11인 이하의 감사위원으로 구성한다.\\n② 원장은 국회의 동의를 얻어 대통령이 임명하고, 그 임기는 4년으로 하며, 1차에 한하여 중임할 수 있다.\\n③ 감사위원은 원장의 제청으로 대통령이 임명하고, 그 임기는 4년으로 하며, 1차에 한하여 중임할 수 있다.\\n\\n제99조 감사원은 세입·세출의 결산을 매년 검사하여 대통령과 차년도국회에 그 결과를 보고하여야 한다.\\n\\n제100조 감사원의 조직·직무범위·감사위원의 자격·감사대상공무원의 범위 기타 필요한 사항은 법률로 정한다.\\n\\n제5장 법원\\n\\n제101조 ① 사법권은 법관으로 구성된 법원에 속한다.\\n② 법원은 최고법원인 대법원과 각급법원으로 조직된다.\\n③ 법관의 자격은 법률로 정한다.\\n\\n제102조 ① 대법원에 부를 둘 수 있다.\\n② 대법원에 대법관을 둔다. 다만, 법률이 정하는 바에 의하여 대법관이 아닌 법관을 둘 수 있다.\\n③ 대법원과 각급법원의 조직은 법률로 정한다.\\n\\n제103조 법관은 헌법과 법률에 의하여 그 양심에 따라 독립하여 심판한다.',\n",
              " '제104조 ① 대법원장은 국회의 동의를 얻어 대통령이 임명한다.\\n② 대법관은 대법원장의 제청으로 국회의 동의를 얻어 대통령이 임명한다.\\n③ 대법원장과 대법관이 아닌 법관은 대법관회의의 동의를 얻어 대법원장이 임명한다.\\n\\n제105조 ① 대법원장의 임기는 6년으로 하며, 중임할 수 없다.\\n② 대법관의 임기는 6년으로 하며, 법률이 정하는 바에 의하여 연임할 수 있다.\\n③ 대법원장과 대법관이 아닌 법관의 임기는 10년으로 하며, 법률이 정하는 바에 의하여 연임할 수 있다.\\n④ 법관의 정년은 법률로 정한다.\\n\\n제106조 ① 법관은 탄핵 또는 금고 이상의 형의 선고에 의하지 아니하고는 파면되지 아니하며, 징계처분에 의하지 아니하고는 정직·감봉 기타 불리한 처분을 받지 아니한다.\\n② 법관이 중대한 심신상의 장해로 직무를 수행할 수 없을 때에는 법률이 정하는 바에 의하여 퇴직하게 할 수 있다.\\n\\n제107조 ① 법률이 헌법에 위반되는 여부가 재판의 전제가 된 경우에는 법원은 헌법재판소에 제청하여 그 심판에 의하여 재판한다.\\n② 명령·규칙 또는 처분이 헌법이나 법률에 위반되는 여부가 재판의 전제가 된 경우에는 대법원은 이를 최종적으로 심사할 권한을 가진다.\\n③ 재판의 전심절차로서 행정심판을 할 수 있다. 행정심판의 절차는 법률로 정하되, 사법절차가 준용되어야 한다.\\n\\n제108조 대법원은 법률에 저촉되지 아니하는 범위안에서 소송에 관한 절차, 법원의 내부규율과 사무처리에 관한 규칙을 제정할 수 있다.\\n\\n제109조 재판의 심리와 판결은 공개한다. 다만, 심리는 국가의 안전보장 또는 안녕질서를 방해하거나 선량한 풍속을 해할 염려가 있을 때에는 법원의 결정으로 공개하지 아니할 수 있다.',\n",
              " '제110조 ① 군사재판을 관할하기 위하여 특별법원으로서 군사법원을 둘 수 있다.\\n② 군사법원의 상고심은 대법원에서 관할한다.\\n③ 군사법원의 조직·권한 및 재판관의 자격은 법률로 정한다.\\n④ 비상계엄하의 군사재판은 군인·군무원의 범죄나 군사에 관한 간첩죄의 경우와 초병·초소·유독음식물공급·포로에 관한 죄중 법률이 정한 경우에 한하여 단심으로 할 수 있다. 다만, 사형을 선고한 경우에는 그러하지 아니하다.\\n\\n제6장 헌법재판소\\n\\n제111조 ① 헌법재판소는 다음 사항을 관장한다.\\n1. 법원의 제청에 의한 법률의 위헌여부 심판\\n2. 탄핵의 심판\\n3. 정당의 해산 심판\\n4. 국가기관 상호간, 국가기관과 지방자치단체간 및 지방자치단체 상호간의 권한쟁의에 관한 심판\\n5. 법률이 정하는 헌법소원에 관한 심판\\n② 헌법재판소는 법관의 자격을 가진 9인의 재판관으로 구성하며, 재판관은 대통령이 임명한다.\\n③ 제2항의 재판관중 3인은 국회에서 선출하는 자를, 3인은 대법원장이 지명하는 자를 임명한다.\\n④ 헌법재판소의 장은 국회의 동의를 얻어 재판관중에서 대통령이 임명한다.\\n\\n제112조 ① 헌법재판소 재판관의 임기는 6년으로 하며, 법률이 정하는 바에 의하여 연임할 수 있다.\\n② 헌법재판소 재판관은 정당에 가입하거나 정치에 관여할 수 없다.\\n③ 헌법재판소 재판관은 탄핵 또는 금고 이상의 형의 선고에 의하지 아니하고는 파면되지 아니한다.\\n\\n제113조 ① 헌법재판소에서 법률의 위헌결정, 탄핵의 결정, 정당해산의 결정 또는 헌법소원에 관한 인용결정을 할 때에는 재판관 6인 이상의 찬성이 있어야 한다.\\n② 헌법재판소는 법률에 저촉되지 아니하는 범위안에서 심판에 관한 절차, 내부규율과 사무처리에 관한 규칙을 제정할 수 있다.\\n③ 헌법재판소의 조직과 운영 기타 필요한 사항은 법률로 정한다.\\n\\n제7장 선거관리',\n",
              " '제114조 ① 선거와 국민투표의 공정한 관리 및 정당에 관한 사무를 처리하기 위하여 선거관리위원회를 둔다.\\n② 중앙선거관리위원회는 대통령이 임명하는 3인, 국회에서 선출하는 3인과 대법원장이 지명하는 3인의 위원으로 구성한다. 위원장은 위원중에서 호선한다.\\n③ 위원의 임기는 6년으로 한다.\\n④ 위원은 정당에 가입하거나 정치에 관여할 수 없다.\\n⑤ 위원은 탄핵 또는 금고 이상의 형의 선고에 의하지 아니하고는 파면되지 아니한다.\\n⑥ 중앙선거관리위원회는 법령의 범위안에서 선거관리·국민투표관리 또는 정당사무에 관한 규칙을 제정할 수 있으며, 법률에 저촉되지 아니하는 범위안에서 내부규율에 관한 규칙을 제정할 수 있다.\\n⑦ 각급 선거관리위원회의 조직·직무범위 기타 필요한 사항은 법률로 정한다.\\n\\n제115조 ① 각급 선거관리위원회는 선거인명부의 작성등 선거사무와 국민투표사무에 관하여 관계 행정기관에 필요한 지시를 할 수 있다.\\n② 제1항의 지시를 받은 당해 행정기관은 이에 응하여야 한다.\\n\\n제116조 ① 선거운동은 각급 선거관리위원회의 관리하에 법률이 정하는 범위안에서 하되, 균등한 기회가 보장되어야 한다.\\n② 선거에 관한 경비는 법률이 정하는 경우를 제외하고는 정당 또는 후보자에게 부담시킬 수 없다.\\n \\n제8장 지방자치\\n\\n제117조 ① 지방자치단체는 주민의 복리에 관한 사무를 처리하고 재산을 관리하며, 법령의 범위안에서 자치에 관한 규정을 제정할 수 있다.\\n② 지방자치단체의 종류는 법률로 정한다.\\n\\n제118조 ① 지방자치단체에 의회를 둔다.\\n② 지방의회의 조직·권한·의원선거와 지방자치단체의 장의 선임방법 기타 지방자치단체의 조직과 운영에 관한 사항은 법률로 정한다.\\n\\n제9장 경제',\n",
              " '제119조 ① 대한민국의 경제질서는 개인과 기업의 경제상의 자유와 창의를 존중함을 기본으로 한다.\\n② 국가는 균형있는 국민경제의 성장 및 안정과 적정한 소득의 분배를 유지하고, 시장의 지배와 경제력의 남용을 방지하며, 경제주체간의 조화를 통한 경제의 민주화를 위하여 경제에 관한 규제와 조정을 할 수 있다.\\n\\n제120조 ① 광물 기타 중요한 지하자원·수산자원·수력과 경제상 이용할 수 있는 자연력은 법률이 정하는 바에 의하여 일정한 기간 그 채취·개발 또는 이용을 특허할 수 있다.\\n② 국토와 자원은 국가의 보호를 받으며, 국가는 그 균형있는 개발과 이용을 위하여 필요한 계획을 수립한다.\\n\\n제121조 ① 국가는 농지에 관하여 경자유전의 원칙이 달성될 수 있도록 노력하여야 하며, 농지의 소작제도는 금지된다.\\n② 농업생산성의 제고와 농지의 합리적인 이용을 위하거나 불가피한 사정으로 발생하는 농지의 임대차와 위탁경영은 법률이 정하는 바에 의하여 인정된다.\\n\\n제122조 국가는 국민 모두의 생산 및 생활의 기반이 되는 국토의 효율적이고 균형있는 이용·개발과 보전을 위하여 법률이 정하는 바에 의하여 그에 관한 필요한 제한과 의무를 과할 수 있다.\\n\\n제123조 ① 국가는 농업 및 어업을 보호·육성하기 위하여 농·어촌종합개발과 그 지원등 필요한 계획을 수립·시행하여야 한다.\\n② 국가는 지역간의 균형있는 발전을 위하여 지역경제를 육성할 의무를 진다.\\n③ 국가는 중소기업을 보호·육성하여야 한다.\\n④ 국가는 농수산물의 수급균형과 유통구조의 개선에 노력하여 가격안정을 도모함으로써 농·어민의 이익을 보호한다.\\n⑤ 국가는 농·어민과 중소기업의 자조조직을 육성하여야 하며, 그 자율적 활동과 발전을 보장한다.\\n\\n제124조 국가는 건전한 소비행위를 계도하고 생산품의 품질향상을 촉구하기 위한 소비자보호운동을 법률이 정하는 바에 의하여 보장한다.\\n\\n제125조 국가는 대외무역을 육성하며, 이를 규제·조정할 수 있다.',\n",
              " '제126조 국방상 또는 국민경제상 긴절한 필요로 인하여 법률이 정하는 경우를 제외하고는, 사영기업을 국유 또는 공유로 이전하거나 그 경영을 통제 또는 관리할 수 없다.\\n\\n제127조 ① 국가는 과학기술의 혁신과 정보 및 인력의 개발을 통하여 국민경제의 발전에 노력하여야 한다.\\n② 국가는 국가표준제도를 확립한다.\\n③ 대통령은 제1항의 목적을 달성하기 위하여 필요한 자문기구를 둘 수 있다.\\n\\n제10장 헌법개정\\n\\n제128조 ① 헌법개정은 국회재적의원 과반수 또는 대통령의 발의로 제안된다.\\n② 대통령의 임기연장 또는 중임변경을 위한 헌법개정은 그 헌법개정 제안 당시의 대통령에 대하여는 효력이 없다.\\n\\n제129조 제안된 헌법개정안은 대통령이 20일 이상의 기간 이를 공고하여야 한다.\\n\\n제130조 ① 국회는 헌법개정안이 공고된 날로부터 60일 이내에 의결하여야 하며, 국회의 의결은 재적의원 3분의 2 이상의 찬성을 얻어야 한다.\\n② 헌법개정안은 국회가 의결한 후 30일 이내에 국민투표에 붙여 국회의원선거권자 과반수의 투표와 투표자 과반수의 찬성을 얻어야 한다.\\n③ 헌법개정안이 제2항의 찬성을 얻은 때에는 헌법개정은 확정되며, 대통령은 즉시 이를 공포하여야 한다.\\n\\n부칙\\n\\n<헌법 제10호, 1987.10.29>\\n\\n제1조 이 헌법은 1988년 2월 25일부터 시행한다. 다만, 이 헌법을 시행하기 위하여 필요한 법률의 제정·개정과 이 헌법에 의한 대통령 및 국회의원의 선거 기타 이 헌법시행에 관한 준비는 이 헌법시행 전에 할 수 있다.\\n\\n제2조 ① 이 헌법에 의한 최초의 대통령선거는 이 헌법시행일 40일 전까지 실시한다.\\n② 이 헌법에 의한 최초의 대통령의 임기는 이 헌법시행일로부터 개시한다.',\n",
              " '제3조 ① 이 헌법에 의한 최초의 국회의원선거는 이 헌법공포일로부터 6월 이내에 실시하며, 이 헌법에 의하여 선출된 최초의 국회의원의 임기는 국회의원선거후 이 헌법에 의한 국회의 최초의 집회일로부터 개시한다.\\n② 이 헌법공포 당시의 국회의원의 임기는 제1항에 의한 국회의 최초의 집회일 전일까지로 한다.\\n\\n제4조 ①이 헌법시행 당시의 공무원과 정부가 임명한 기업체의 임원은 이 헌법에 의하여 임명된 것으로 본다. 다만, 이 헌법에 의하여 선임방법이나 임명권자가 변경된 공무원과 대법원장 및 감사원장은 이 헌법에 의하여 후임자가 선임될 때까지 그 직무를 행하며, 이 경우 전임자인 공무원의 임기는 후임자가 선임되는 전일까지로 한다.\\n②이 헌법시행 당시의 대법원장과 대법원판사가 아닌 법관은 제1항 단서의 규정에 불구하고 이 헌법에 의하여 임명된 것으로 본다.\\n③이 헌법중 공무원의 임기 또는 중임제한에 관한 규정은 이 헌법에 의하여 그 공무원이 최초로 선출 또는 임명된 때로부터 적용한다.\\n\\n제5조 이 헌법시행 당시의 법령과 조약은 이 헌법에 위배되지 아니하는 한 그 효력을 지속한다.\\n\\n제6조 이 헌법시행 당시에 이 헌법에 의하여 새로 설치될 기관의 권한에 속하는 직무를 행하고 있는 기관은 이 헌법에 의하여 새로운 기관이 설치될 때까지 존속하며 그 직무를 행한다.']"
            ]
          },
          "execution_count": 26,
          "metadata": {},
          "output_type": "execute_result"
        }
      ],
      "source": [
        "documents"
      ]
    },
    {
      "cell_type": "code",
      "execution_count": null,
      "metadata": {
        "colab": {
          "base_uri": "https://localhost:8080/"
        },
        "id": "fmzl3gKYl89r",
        "outputId": "c589af4a-1db0-4bde-c19a-da83dc2abcdb"
      },
      "outputs": [
        {
          "name": "stderr",
          "output_type": "stream",
          "text": [
            "embedding...: 100%|██████████| 22/22 [00:06<00:00,  3.45it/s]\n"
          ]
        }
      ],
      "source": [
        "db = SimpleVectorStore(documents, SimpleOpenAIEmbeddings())"
      ]
    },
    {
      "cell_type": "code",
      "execution_count": null,
      "metadata": {
        "id": "ut0L5k29crOe"
      },
      "outputs": [],
      "source": [
        "query = \"대통령 임기는?\"\n",
        "docs = db.similarity_search(query)"
      ]
    },
    {
      "cell_type": "code",
      "execution_count": null,
      "metadata": {
        "colab": {
          "base_uri": "https://localhost:8080/"
        },
        "id": "frGJX-7zmd1N",
        "outputId": "37202f19-1625-472b-de0c-44b23865b0dd"
      },
      "outputs": [
        {
          "data": {
            "text/plain": [
              "[('제65조 ① 대통령·국무총리·국무위원·행정각부의 장·헌법재판소 재판관·법관·중앙선거관리위원회 위원·감사원장·감사위원 기타 법률이 정한 공무원이 그 직무집행에 있어서 헌법이나 법률을 위배한 때에는 국회는 탄핵의 소추를 의결할 수 있다.\\n② 제1항의 탄핵소추는 국회재적의원 3분의 1 이상의 발의가 있어야 하며, 그 의결은 국회재적의원 과반수의 찬성이 있어야 한다. 다만, 대통령에 대한 탄핵소추는 국회재적의원 과반수의 발의와 국회재적의원 3분의 2 이상의 찬성이 있어야 한다.\\n③ 탄핵소추의 의결을 받은 자는 탄핵심판이 있을 때까지 그 권한행사가 정지된다.\\n④ 탄핵결정은 공직으로부터 파면함에 그친다. 그러나, 이에 의하여 민사상이나 형사상의 책임이 면제되지는 아니한다.\\n\\n제4장 정부\\n제1절 대통령\\n\\n제66조 ① 대통령은 국가의 원수이며, 외국에 대하여 국가를 대표한다.\\n② 대통령은 국가의 독립·영토의 보전·국가의 계속성과 헌법을 수호할 책무를 진다.\\n③ 대통령은 조국의 평화적 통일을 위한 성실한 의무를 진다.\\n④ 행정권은 대통령을 수반으로 하는 정부에 속한다.\\n\\n제67조 ① 대통령은 국민의 보통·평등·직접·비밀선거에 의하여 선출한다.\\n② 제1항의 선거에 있어서 최고득표자가 2인 이상인 때에는 국회의 재적의원 과반수가 출석한 공개회의에서 다수표를 얻은 자를 당선자로 한다.\\n③ 대통령후보자가 1인일 때에는 그 득표수가 선거권자 총수의 3분의 1 이상이 아니면 대통령으로 당선될 수 없다.\\n④ 대통령으로 선거될 수 있는 자는 국회의원의 피선거권이 있고 선거일 현재 40세에 달하여야 한다.\\n⑤ 대통령의 선거에 관한 사항은 법률로 정한다.\\n\\n제68조 ① 대통령의 임기가 만료되는 때에는 임기만료 70일 내지 40일전에 후임자를 선거한다.\\n② 대통령이 궐위된 때 또는 대통령 당선자가 사망하거나 판결 기타의 사유로 그 자격을 상실한 때에는 60일 이내에 후임자를 선거한다.',\n",
              "  0.8401361376422471),\n",
              " ('제81조 대통령은 국회에 출석하여 발언하거나 서한으로 의견을 표시할 수 있다.\\n\\n제82조 대통령의 국법상 행위는 문서로써 하며, 이 문서에는 국무총리와 관계 국무위원이 부서한다. 군사에 관한 것도 또한 같다.\\n\\n제83조 대통령은 국무총리·국무위원·행정각부의 장 기타 법률이 정하는 공사의 직을 겸할 수 없다.\\n\\n제84조 대통령은 내란 또는 외환의 죄를 범한 경우를 제외하고는 재직중 형사상의 소추를 받지 아니한다.\\n\\n제85조 전직대통령의 신분과 예우에 관하여는 법률로 정한다.\\n\\n제2절 행정부\\n제1관 국무총리와 국무위원\\n\\n제86조 ① 국무총리는 국회의 동의를 얻어 대통령이 임명한다.\\n② 국무총리는 대통령을 보좌하며, 행정에 관하여 대통령의 명을 받아 행정각부를 통할한다.\\n③ 군인은 현역을 면한 후가 아니면 국무총리로 임명될 수 없다.\\n\\n제87조 ① 국무위원은 국무총리의 제청으로 대통령이 임명한다.\\n② 국무위원은 국정에 관하여 대통령을 보좌하며, 국무회의의 구성원으로서 국정을 심의한다.\\n③ 국무총리는 국무위원의 해임을 대통령에게 건의할 수 있다.\\n④ 군인은 현역을 면한 후가 아니면 국무위원으로 임명될 수 없다.\\n\\n제2관 국무회의\\n\\n제88조 ① 국무회의는 정부의 권한에 속하는 중요한 정책을 심의한다.\\n② 국무회의는 대통령·국무총리와 15인 이상 30인 이하의 국무위원으로 구성한다.\\n③ 대통령은 국무회의의 의장이 되고, 국무총리는 부의장이 된다.',\n",
              "  0.8349969894715186),\n",
              " ('제76조 ① 대통령은 내우·외환·천재·지변 또는 중대한 재정·경제상의 위기에 있어서 국가의 안전보장 또는 공공의 안녕질서를 유지하기 위하여 긴급한 조치가 필요하고 국회의 집회를 기다릴 여유가 없을 때에 한하여 최소한으로 필요한 재정·경제상의 처분을 하거나 이에 관하여 법률의 효력을 가지는 명령을 발할 수 있다.\\n② 대통령은 국가의 안위에 관계되는 중대한 교전상태에 있어서 국가를 보위하기 위하여 긴급한 조치가 필요하고 국회의 집회가 불가능한 때에 한하여 법률의 효력을 가지는 명령을 발할 수 있다.\\n③ 대통령은 제1항과 제2항의 처분 또는 명령을 한 때에는 지체없이 국회에 보고하여 그 승인을 얻어야 한다.\\n④ 제3항의 승인을 얻지 못한 때에는 그 처분 또는 명령은 그때부터 효력을 상실한다. 이 경우 그 명령에 의하여 개정 또는 폐지되었던 법률은 그 명령이 승인을 얻지 못한 때부터 당연히 효력을 회복한다.\\n⑤ 대통령은 제3항과 제4항의 사유를 지체없이 공포하여야 한다.\\n\\n제77조 ① 대통령은 전시·사변 또는 이에 준하는 국가비상사태에 있어서 병력으로써 군사상의 필요에 응하거나 공공의 안녕질서를 유지할 필요가 있을 때에는 법률이 정하는 바에 의하여 계엄을 선포할 수 있다.\\n② 계엄은 비상계엄과 경비계엄으로 한다.\\n③ 비상계엄이 선포된 때에는 법률이 정하는 바에 의하여 영장제도, 언론·출판·집회·결사의 자유, 정부나 법원의 권한에 관하여 특별한 조치를 할 수 있다.\\n④ 계엄을 선포한 때에는 대통령은 지체없이 국회에 통고하여야 한다.\\n⑤ 국회가 재적의원 과반수의 찬성으로 계엄의 해제를 요구한 때에는 대통령은 이를 해제하여야 한다.\\n\\n제78조 대통령은 헌법과 법률이 정하는 바에 의하여 공무원을 임면한다.\\n\\n제79조 ① 대통령은 법률이 정하는 바에 의하여 사면·감형 또는 복권을 명할 수 있다.\\n② 일반사면을 명하려면 국회의 동의를 얻어야 한다.\\n③ 사면·감형 및 복권에 관한 사항은 법률로 정한다.\\n\\n제80조 대통령은 법률이 정하는 바에 의하여 훈장 기타의 영전을 수여한다.',\n",
              "  0.8338138276054632),\n",
              " ('제69조 대통령은 취임에 즈음하여 다음의 선서를 한다.\\n\"나는 헌법을 준수하고 국가를 보위하며 조국의 평화적 통일과 국민의 자유와 복리의 증진 및 민족문화의 창달에 노력하여 대통령으로서의 직책을 성실히 수행할 것을 국민 앞에 엄숙히 선서합니다.\"\\n\\n제70조 대통령의 임기는 5년으로 하며, 중임할 수 없다.\\n\\n제71조 대통령이 궐위되거나 사고로 인하여 직무를 수행할 수 없을 때에는 국무총리, 법률이 정한 국무위원의 순서로 그 권한을 대행한다.\\n\\n제72조 대통령은 필요하다고 인정할 때에는 외교·국방·통일 기타 국가안위에 관한 중요정책을 국민투표에 붙일 수 있다.\\n\\n제73조 대통령은 조약을 체결·비준하고, 외교사절을 신임·접수 또는 파견하며, 선전포고와 강화를 한다.\\n\\n제74조 ① 대통령은 헌법과 법률이 정하는 바에 의하여 국군을 통수한다.\\n② 국군의 조직과 편성은 법률로 정한다.\\n\\n제75조 대통령은 법률에서 구체적으로 범위를 정하여 위임받은 사항과 법률을 집행하기 위하여 필요한 사항에 관하여 대통령령을 발할 수 있다.',\n",
              "  0.8336947286348696)]"
            ]
          },
          "execution_count": 29,
          "metadata": {},
          "output_type": "execute_result"
        }
      ],
      "source": [
        "docs"
      ]
    },
    {
      "cell_type": "markdown",
      "metadata": {
        "id": "L37G4oayPkfV"
      },
      "source": [
        "# 벡터스토어 튜닝하기"
      ]
    },
    {
      "cell_type": "code",
      "execution_count": null,
      "metadata": {
        "colab": {
          "base_uri": "https://localhost:8080/"
        },
        "id": "zN_28Z2gQqAW",
        "outputId": "3d7cd053-8f5f-4691-c256-128c82d55273"
      },
      "outputs": [
        {
          "name": "stderr",
          "output_type": "stream",
          "text": [
            "splitting...: 100%|██████████| 152/152 [00:00<00:00, 370875.05it/s]\n"
          ]
        }
      ],
      "source": [
        "raw_documents = SimpleTextLoader('korea_constitution.txt').load()\n",
        "text_splitter = SimpleCharacterTextSplitter(chunk_size=100, chunk_overlap=0)\n",
        "documents = text_splitter.split_documents(raw_documents)"
      ]
    },
    {
      "cell_type": "code",
      "execution_count": null,
      "metadata": {
        "colab": {
          "base_uri": "https://localhost:8080/"
        },
        "id": "k_1me4SzQwpE",
        "outputId": "f935de03-6d97-410e-d859-c290201f6793"
      },
      "outputs": [
        {
          "data": {
            "text/plain": [
              "['전문',\n",
              " '유구한 역사와 전통에 빛나는 우리 대한국민은 3·1운동으로 건립된 대한민국임시정부의 법통과 불의에 항거한 4·19민주이념을 계승하고, 조국의 민주개혁과 평화적 통일의 사명에 입각하여 정의·인도와 동포애로써 민족의 단결을 공고히 하고, 모든 사회적 폐습과 불의를 타파하며, 자율과 조화를 바탕으로 자유민주적 기본질서를 더욱 확고히 하여 정치·경제·사회·문화의 모든 영역에 있어서 각인의 기회를 균등히 하고, 능력을 최고도로 발휘하게 하며, 자유와 권리에 따르는 책임과 의무를 완수하게 하여, 안으로는 국민생활의 균등한 향상을 기하고 밖으로는 항구적인 세계평화와 인류공영에 이바지함으로써 우리들과 우리들의 자손의 안전과 자유와 행복을 영원히 확보할 것을 다짐하면서 1948년 7월 12일에 제정되고 8차에 걸쳐 개정된 헌법을 이제 국회의 의결을 거쳐 국민투표에 의하여 개정한다.',\n",
              " '제1장 총강\\n\\n제1조 ① 대한민국은 민주공화국이다.\\n② 대한민국의 주권은 국민에게 있고, 모든 권력은 국민으로부터 나온다.',\n",
              " '제2조 ① 대한민국의 국민이 되는 요건은 법률로 정한다.\\n② 국가는 법률이 정하는 바에 의하여 재외국민을 보호할 의무를 진다.',\n",
              " '제3조 대한민국의 영토는 한반도와 그 부속도서로 한다.\\n\\n제4조 대한민국은 통일을 지향하며, 자유민주적 기본질서에 입각한 평화적 통일 정책을 수립하고 이를 추진한다.',\n",
              " '제5조 ① 대한민국은 국제평화의 유지에 노력하고 침략적 전쟁을 부인한다.\\n② 국군은 국가의 안전보장과 국토방위의 신성한 의무를 수행함을 사명으로 하며, 그 정치적 중립성은 준수된다.',\n",
              " '제6조 ① 헌법에 의하여 체결·공포된 조약과 일반적으로 승인된 국제법규는 국내법과 같은 효력을 가진다.\\n② 외국인은 국제법과 조약이 정하는 바에 의하여 그 지위가 보장된다.',\n",
              " '제7조 ① 공무원은 국민전체에 대한 봉사자이며, 국민에 대하여 책임을 진다.\\n② 공무원의 신분과 정치적 중립성은 법률이 정하는 바에 의하여 보장된다.',\n",
              " '제8조 ① 정당의 설립은 자유이며, 복수정당제는 보장된다.\\n② 정당은 그 목적·조직과 활동이 민주적이어야 하며, 국민의 정치적 의사형성에 참여하는데 필요한 조직을 가져야 한다.\\n③ 정당은 법률이 정하는 바에 의하여 국가의 보호를 받으며, 국가는 법률이 정하는 바에 의하여 정당운영에 필요한 자금을 보조할 수 있다.\\n④ 정당의 목적이나 활동이 민주적 기본질서에 위배될 때에는 정부는 헌법재판소에 그 해산을 제소할 수 있고, 정당은 헌법재판소의 심판에 의하여 해산된다.',\n",
              " '제9조 국가는 전통문화의 계승·발전과 민족문화의 창달에 노력하여야 한다.\\n\\n제2장 국민의 권리와 의무']"
            ]
          },
          "execution_count": 31,
          "metadata": {},
          "output_type": "execute_result"
        }
      ],
      "source": [
        "documents[0:10]"
      ]
    },
    {
      "cell_type": "code",
      "execution_count": null,
      "metadata": {
        "colab": {
          "background_save": true,
          "base_uri": "https://localhost:8080/"
        },
        "id": "3Bibwj9YQvcf",
        "outputId": "e80139b6-59d8-4553-f333-3d70002d6304"
      },
      "outputs": [
        {
          "name": "stderr",
          "output_type": "stream",
          "text": [
            "embedding...: 100%|██████████| 137/137 [00:37<00:00,  3.61it/s]\n"
          ]
        }
      ],
      "source": [
        "db = SimpleVectorStore(documents, SimpleOpenAIEmbeddings())"
      ]
    },
    {
      "cell_type": "code",
      "execution_count": null,
      "metadata": {
        "colab": {
          "background_save": true
        },
        "id": "EMfUc6JuQ1ed"
      },
      "outputs": [],
      "source": [
        "query = \"대통령 임기는 몇 년인가?\"\n",
        "docs = db.similarity_search(query)"
      ]
    },
    {
      "cell_type": "code",
      "execution_count": null,
      "metadata": {
        "colab": {
          "background_save": true
        },
        "id": "m9aazNPeQ-nU",
        "outputId": "50952b87-dab7-4079-d121-fc362bfa92ff"
      },
      "outputs": [
        {
          "data": {
            "text/plain": [
              "[('제70조 대통령의 임기는 5년으로 하며, 중임할 수 없다.', 0.8773323150496815),\n",
              " ('제68조 ① 대통령의 임기가 만료되는 때에는 임기만료 70일 내지 40일전에 후임자를 선거한다.\\n② 대통령이 궐위된 때 또는 대통령 당선자가 사망하거나 판결 기타의 사유로 그 자격을 상실한 때에는 60일 이내에 후임자를 선거한다.',\n",
              "  0.8645830615445416),\n",
              " ('제105조 ① 대법원장의 임기는 6년으로 하며, 중임할 수 없다.\\n② 대법관의 임기는 6년으로 하며, 법률이 정하는 바에 의하여 연임할 수 있다.\\n③ 대법원장과 대법관이 아닌 법관의 임기는 10년으로 하며, 법률이 정하는 바에 의하여 연임할 수 있다.\\n④ 법관의 정년은 법률로 정한다.',\n",
              "  0.8540177946936056),\n",
              " ('제42조 국회의원의 임기는 4년으로 한다.\\n\\n제43조 국회의원은 법률이 정하는 직을 겸할 수 없다.',\n",
              "  0.8484746328973443)]"
            ]
          },
          "execution_count": 34,
          "metadata": {},
          "output_type": "execute_result"
        }
      ],
      "source": [
        "docs"
      ]
    },
    {
      "cell_type": "code",
      "execution_count": null,
      "metadata": {
        "colab": {
          "background_save": true
        },
        "id": "Jphpl7QKTAsH"
      },
      "outputs": [],
      "source": [
        "query = \"대통령 임기는?\"\n",
        "docs = db.similarity_search(query)"
      ]
    },
    {
      "cell_type": "code",
      "execution_count": null,
      "metadata": {
        "colab": {
          "background_save": true
        },
        "id": "RsZeIal6THJF",
        "outputId": "149edabb-70b7-418c-e27d-69ffbab5185b"
      },
      "outputs": [
        {
          "data": {
            "text/plain": [
              "[('제68조 ① 대통령의 임기가 만료되는 때에는 임기만료 70일 내지 40일전에 후임자를 선거한다.\\n② 대통령이 궐위된 때 또는 대통령 당선자가 사망하거나 판결 기타의 사유로 그 자격을 상실한 때에는 60일 이내에 후임자를 선거한다.',\n",
              "  0.8564750135229866),\n",
              " ('제4장 정부\\n제1절 대통령', 0.8525658918880346),\n",
              " ('제69조 대통령은 취임에 즈음하여 다음의 선서를 한다.\\n\"나는 헌법을 준수하고 국가를 보위하며 조국의 평화적 통일과 국민의 자유와 복리의 증진 및 민족문화의 창달에 노력하여 대통령으로서의 직책을 성실히 수행할 것을 국민 앞에 엄숙히 선서합니다.\"',\n",
              "  0.8517005070139246),\n",
              " ('제70조 대통령의 임기는 5년으로 하며, 중임할 수 없다.', 0.8503461998892345)]"
            ]
          },
          "execution_count": 36,
          "metadata": {},
          "output_type": "execute_result"
        }
      ],
      "source": [
        "docs"
      ]
    },
    {
      "cell_type": "markdown",
      "metadata": {
        "id": "f72fQjDrQ6MB"
      },
      "source": [
        "# 검색기 만들기"
      ]
    },
    {
      "cell_type": "code",
      "execution_count": null,
      "metadata": {
        "colab": {
          "background_save": true
        },
        "id": "0rUvpnb3p5DA"
      },
      "outputs": [],
      "source": [
        "retriever = db.as_retriever()"
      ]
    },
    {
      "cell_type": "code",
      "execution_count": null,
      "metadata": {
        "colab": {
          "background_save": true
        },
        "id": "9OQQYE-Nr1lm"
      },
      "outputs": [],
      "source": [
        "unique_docs = retriever.get_relevant_documents(query=\"대통령의 임기는 몇 년인가?\")"
      ]
    },
    {
      "cell_type": "code",
      "execution_count": null,
      "metadata": {
        "colab": {
          "background_save": true
        },
        "id": "dxDJ1jU8simP",
        "outputId": "6f134c67-ba63-4b88-8307-ab4b9d3e5253"
      },
      "outputs": [
        {
          "data": {
            "text/plain": [
              "[('제70조 대통령의 임기는 5년으로 하며, 중임할 수 없다.', 0.8802913492732869),\n",
              " ('제68조 ① 대통령의 임기가 만료되는 때에는 임기만료 70일 내지 40일전에 후임자를 선거한다.\\n② 대통령이 궐위된 때 또는 대통령 당선자가 사망하거나 판결 기타의 사유로 그 자격을 상실한 때에는 60일 이내에 후임자를 선거한다.',\n",
              "  0.8673523740341631),\n",
              " ('제105조 ① 대법원장의 임기는 6년으로 하며, 중임할 수 없다.\\n② 대법관의 임기는 6년으로 하며, 법률이 정하는 바에 의하여 연임할 수 있다.\\n③ 대법원장과 대법관이 아닌 법관의 임기는 10년으로 하며, 법률이 정하는 바에 의하여 연임할 수 있다.\\n④ 법관의 정년은 법률로 정한다.',\n",
              "  0.8549414951338008),\n",
              " ('제98조 ① 감사원은 원장을 포함한 5인 이상 11인 이하의 감사위원으로 구성한다.\\n② 원장은 국회의 동의를 얻어 대통령이 임명하고, 그 임기는 4년으로 하며, 1차에 한하여 중임할 수 있다.\\n③ 감사위원은 원장의 제청으로 대통령이 임명하고, 그 임기는 4년으로 하며, 1차에 한하여 중임할 수 있다.',\n",
              "  0.8506226670903798)]"
            ]
          },
          "execution_count": 39,
          "metadata": {},
          "output_type": "execute_result"
        }
      ],
      "source": [
        "unique_docs"
      ]
    },
    {
      "cell_type": "markdown",
      "metadata": {
        "id": "k9cnbIn3RHIH"
      },
      "source": [
        "# 챗봇 만들기"
      ]
    },
    {
      "cell_type": "code",
      "execution_count": null,
      "metadata": {
        "colab": {
          "background_save": true
        },
        "id": "ms0zcp_3trll"
      },
      "outputs": [],
      "source": [
        "import openai\n",
        "\n",
        "system_prompt_template = (\"You are a helpful assistant. \"\n",
        "                          \"Based on the following content, \"\n",
        "                          \"kindly and comprehensively respond to user questions. write in Korean.\"\n",
        "                          \"[Content]\"\n",
        "                          \"{content}\"\n",
        "                          \"\")\n",
        "\n",
        "class SimpleRetrievalQA():\n",
        "\n",
        "    def __init__(self, retriever):\n",
        "        self.retriever = retriever\n",
        "\n",
        "    def invoke(self, query):\n",
        "        docs = self.retriever.get_relevant_documents(query)\n",
        "        print(docs)\n",
        "\n",
        "        for i, doc in enumerate(docs):\n",
        "            print(\"[#\" + str(i) + \"]\", doc[1])\n",
        "            print(doc[0])\n",
        "\n",
        "        completion = openai.chat.completions.create(\n",
        "            model=\"gpt-3.5-turbo\",\n",
        "            messages=[\n",
        "                {\"role\": \"system\", \"content\": system_prompt_template.format(content=docs)},\n",
        "                {\"role\": \"user\", \"content\": query}\n",
        "            ]\n",
        "        )\n",
        "\n",
        "        return completion.choices[0].message.content"
      ]
    },
    {
      "cell_type": "code",
      "execution_count": null,
      "metadata": {
        "colab": {
          "background_save": true
        },
        "id": "0w3C_P2kyAx3",
        "outputId": "8fddefc4-8701-4d71-c310-3122532c776f"
      },
      "outputs": [
        {
          "name": "stdout",
          "output_type": "stream",
          "text": [
            "[('제68조 ① 대통령의 임기가 만료되는 때에는 임기만료 70일 내지 40일전에 후임자를 선거한다.\\n② 대통령이 궐위된 때 또는 대통령 당선자가 사망하거나 판결 기타의 사유로 그 자격을 상실한 때에는 60일 이내에 후임자를 선거한다.', 0.8631237790960864), ('제69조 대통령은 취임에 즈음하여 다음의 선서를 한다.\\n\"나는 헌법을 준수하고 국가를 보위하며 조국의 평화적 통일과 국민의 자유와 복리의 증진 및 민족문화의 창달에 노력하여 대통령으로서의 직책을 성실히 수행할 것을 국민 앞에 엄숙히 선서합니다.\"', 0.856303644657386), ('제4장 정부\\n제1절 대통령', 0.8562105723559308), ('제70조 대통령의 임기는 5년으로 하며, 중임할 수 없다.', 0.8539125619276635)]\n",
            "[#0] 0.8631237790960864\n",
            "제68조 ① 대통령의 임기가 만료되는 때에는 임기만료 70일 내지 40일전에 후임자를 선거한다.\n",
            "② 대통령이 궐위된 때 또는 대통령 당선자가 사망하거나 판결 기타의 사유로 그 자격을 상실한 때에는 60일 이내에 후임자를 선거한다.\n",
            "[#1] 0.856303644657386\n",
            "제69조 대통령은 취임에 즈음하여 다음의 선서를 한다.\n",
            "\"나는 헌법을 준수하고 국가를 보위하며 조국의 평화적 통일과 국민의 자유와 복리의 증진 및 민족문화의 창달에 노력하여 대통령으로서의 직책을 성실히 수행할 것을 국민 앞에 엄숙히 선서합니다.\"\n",
            "[#2] 0.8562105723559308\n",
            "제4장 정부\n",
            "제1절 대통령\n",
            "[#3] 0.8539125619276635\n",
            "제70조 대통령의 임기는 5년으로 하며, 중임할 수 없다.\n",
            ">>  대통령의 임기는 5년으로 하며, 중임할 수 없습니다.\n"
          ]
        }
      ],
      "source": [
        "chain = SimpleRetrievalQA(retriever)\n",
        "\n",
        "answer = chain.invoke(\"대통령의 임기는?\")\n",
        "\n",
        "print(\">> \", answer)"
      ]
    },
    {
      "cell_type": "code",
      "execution_count": null,
      "metadata": {
        "colab": {
          "background_save": true
        },
        "id": "-TRqfAtwRT3O",
        "outputId": "930461df-9bdf-4de8-ad21-00bb79e16d48"
      },
      "outputs": [
        {
          "name": "stdout",
          "output_type": "stream",
          "text": [
            "[('제72조 대통령은 필요하다고 인정할 때에는 외교·국방·통일 기타 국가안위에 관한 중요정책을 국민투표에 붙일 수 있다.', 0.8679194676690196), ('제69조 대통령은 취임에 즈음하여 다음의 선서를 한다.\\n\"나는 헌법을 준수하고 국가를 보위하며 조국의 평화적 통일과 국민의 자유와 복리의 증진 및 민족문화의 창달에 노력하여 대통령으로서의 직책을 성실히 수행할 것을 국민 앞에 엄숙히 선서합니다.\"', 0.8635573299429514), ('제70조 대통령의 임기는 5년으로 하며, 중임할 수 없다.', 0.8631142710856652), ('제76조 ① 대통령은 내우·외환·천재·지변 또는 중대한 재정·경제상의 위기에 있어서 국가의 안전보장 또는 공공의 안녕질서를 유지하기 위하여 긴급한 조치가 필요하고 국회의 집회를 기다릴 여유가 없을 때에 한하여 최소한으로 필요한 재정·경제상의 처분을 하거나 이에 관하여 법률의 효력을 가지는 명령을 발할 수 있다.\\n② 대통령은 국가의 안위에 관계되는 중대한 교전상태에 있어서 국가를 보위하기 위하여 긴급한 조치가 필요하고 국회의 집회가 불가능한 때에 한하여 법률의 효력을 가지는 명령을 발할 수 있다.\\n③ 대통령은 제1항과 제2항의 처분 또는 명령을 한 때에는 지체없이 국회에 보고하여 그 승인을 얻어야 한다.\\n④ 제3항의 승인을 얻지 못한 때에는 그 처분 또는 명령은 그때부터 효력을 상실한다. 이 경우 그 명령에 의하여 개정 또는 폐지되었던 법률은 그 명령이 승인을 얻지 못한 때부터 당연히 효력을 회복한다.\\n⑤ 대통령은 제3항과 제4항의 사유를 지체없이 공포하여야 한다.', 0.8624341764536383)]\n",
            "[#0] 0.8679194676690196\n",
            "제72조 대통령은 필요하다고 인정할 때에는 외교·국방·통일 기타 국가안위에 관한 중요정책을 국민투표에 붙일 수 있다.\n",
            "[#1] 0.8635573299429514\n",
            "제69조 대통령은 취임에 즈음하여 다음의 선서를 한다.\n",
            "\"나는 헌법을 준수하고 국가를 보위하며 조국의 평화적 통일과 국민의 자유와 복리의 증진 및 민족문화의 창달에 노력하여 대통령으로서의 직책을 성실히 수행할 것을 국민 앞에 엄숙히 선서합니다.\"\n",
            "[#2] 0.8631142710856652\n",
            "제70조 대통령의 임기는 5년으로 하며, 중임할 수 없다.\n",
            "[#3] 0.8624341764536383\n",
            "제76조 ① 대통령은 내우·외환·천재·지변 또는 중대한 재정·경제상의 위기에 있어서 국가의 안전보장 또는 공공의 안녕질서를 유지하기 위하여 긴급한 조치가 필요하고 국회의 집회를 기다릴 여유가 없을 때에 한하여 최소한으로 필요한 재정·경제상의 처분을 하거나 이에 관하여 법률의 효력을 가지는 명령을 발할 수 있다.\n",
            "② 대통령은 국가의 안위에 관계되는 중대한 교전상태에 있어서 국가를 보위하기 위하여 긴급한 조치가 필요하고 국회의 집회가 불가능한 때에 한하여 법률의 효력을 가지는 명령을 발할 수 있다.\n",
            "③ 대통령은 제1항과 제2항의 처분 또는 명령을 한 때에는 지체없이 국회에 보고하여 그 승인을 얻어야 한다.\n",
            "④ 제3항의 승인을 얻지 못한 때에는 그 처분 또는 명령은 그때부터 효력을 상실한다. 이 경우 그 명령에 의하여 개정 또는 폐지되었던 법률은 그 명령이 승인을 얻지 못한 때부터 당연히 효력을 회복한다.\n",
            "⑤ 대통령은 제3항과 제4항의 사유를 지체없이 공포하여야 한다.\n",
            ">>  대통령은 중임할 수 없습니다. 헌법 제70조에 따르면 대통령의 임기는 5년으로 하며, 중임할 수 없습니다.\n"
          ]
        }
      ],
      "source": [
        "chain = SimpleRetrievalQA(retriever)\n",
        "\n",
        "answer = chain.invoke(\"대통령은 중임할 수 있나요?\")\n",
        "\n",
        "print(\">> \", answer)"
      ]
    },
    {
      "cell_type": "code",
      "execution_count": null,
      "metadata": {
        "colab": {
          "background_save": true
        },
        "id": "ayCLOWi1yJht",
        "outputId": "2480b199-785f-4943-8145-aff4bdc4debc"
      },
      "outputs": [
        {
          "name": "stdout",
          "output_type": "stream",
          "text": [
            "[('제42조 국회의원의 임기는 4년으로 한다.\\n\\n제43조 국회의원은 법률이 정하는 직을 겸할 수 없다.', 0.8822217734765516), ('제105조 ① 대법원장의 임기는 6년으로 하며, 중임할 수 없다.\\n② 대법관의 임기는 6년으로 하며, 법률이 정하는 바에 의하여 연임할 수 있다.\\n③ 대법원장과 대법관이 아닌 법관의 임기는 10년으로 하며, 법률이 정하는 바에 의하여 연임할 수 있다.\\n④ 법관의 정년은 법률로 정한다.', 0.8723559378480104), ('제70조 대통령의 임기는 5년으로 하며, 중임할 수 없다.', 0.8680758765064404), ('제68조 ① 대통령의 임기가 만료되는 때에는 임기만료 70일 내지 40일전에 후임자를 선거한다.\\n② 대통령이 궐위된 때 또는 대통령 당선자가 사망하거나 판결 기타의 사유로 그 자격을 상실한 때에는 60일 이내에 후임자를 선거한다.', 0.8622570706994681)]\n",
            "[#0] 0.8822217734765516\n",
            "제42조 국회의원의 임기는 4년으로 한다.\n",
            "\n",
            "제43조 국회의원은 법률이 정하는 직을 겸할 수 없다.\n",
            "[#1] 0.8723559378480104\n",
            "제105조 ① 대법원장의 임기는 6년으로 하며, 중임할 수 없다.\n",
            "② 대법관의 임기는 6년으로 하며, 법률이 정하는 바에 의하여 연임할 수 있다.\n",
            "③ 대법원장과 대법관이 아닌 법관의 임기는 10년으로 하며, 법률이 정하는 바에 의하여 연임할 수 있다.\n",
            "④ 법관의 정년은 법률로 정한다.\n",
            "[#2] 0.8680758765064404\n",
            "제70조 대통령의 임기는 5년으로 하며, 중임할 수 없다.\n",
            "[#3] 0.8622570706994681\n",
            "제68조 ① 대통령의 임기가 만료되는 때에는 임기만료 70일 내지 40일전에 후임자를 선거한다.\n",
            "② 대통령이 궐위된 때 또는 대통령 당선자가 사망하거나 판결 기타의 사유로 그 자격을 상실한 때에는 60일 이내에 후임자를 선거한다.\n",
            " A I > 국회의원의 임기는 4년으로 정해져 있습니다.\n",
            "[('제70조 대통령의 임기는 5년으로 하며, 중임할 수 없다.', 0.8110698834958208), ('제105조 ① 대법원장의 임기는 6년으로 하며, 중임할 수 없다.\\n② 대법관의 임기는 6년으로 하며, 법률이 정하는 바에 의하여 연임할 수 있다.\\n③ 대법원장과 대법관이 아닌 법관의 임기는 10년으로 하며, 법률이 정하는 바에 의하여 연임할 수 있다.\\n④ 법관의 정년은 법률로 정한다.', 0.8081032299676155), ('유구한 역사와 전통에 빛나는 우리 대한국민은 3·1운동으로 건립된 대한민국임시정부의 법통과 불의에 항거한 4·19민주이념을 계승하고, 조국의 민주개혁과 평화적 통일의 사명에 입각하여 정의·인도와 동포애로써 민족의 단결을 공고히 하고, 모든 사회적 폐습과 불의를 타파하며, 자율과 조화를 바탕으로 자유민주적 기본질서를 더욱 확고히 하여 정치·경제·사회·문화의 모든 영역에 있어서 각인의 기회를 균등히 하고, 능력을 최고도로 발휘하게 하며, 자유와 권리에 따르는 책임과 의무를 완수하게 하여, 안으로는 국민생활의 균등한 향상을 기하고 밖으로는 항구적인 세계평화와 인류공영에 이바지함으로써 우리들과 우리들의 자손의 안전과 자유와 행복을 영원히 확보할 것을 다짐하면서 1948년 7월 12일에 제정되고 8차에 걸쳐 개정된 헌법을 이제 국회의 의결을 거쳐 국민투표에 의하여 개정한다.', 0.8024229667929459), ('제99조 감사원은 세입·세출의 결산을 매년 검사하여 대통령과 차년도국회에 그 결과를 보고하여야 한다.', 0.8022904256467334)]\n",
            "[#0] 0.8110698834958208\n",
            "제70조 대통령의 임기는 5년으로 하며, 중임할 수 없다.\n",
            "[#1] 0.8081032299676155\n",
            "제105조 ① 대법원장의 임기는 6년으로 하며, 중임할 수 없다.\n",
            "② 대법관의 임기는 6년으로 하며, 법률이 정하는 바에 의하여 연임할 수 있다.\n",
            "③ 대법원장과 대법관이 아닌 법관의 임기는 10년으로 하며, 법률이 정하는 바에 의하여 연임할 수 있다.\n",
            "④ 법관의 정년은 법률로 정한다.\n",
            "[#2] 0.8024229667929459\n",
            "유구한 역사와 전통에 빛나는 우리 대한국민은 3·1운동으로 건립된 대한민국임시정부의 법통과 불의에 항거한 4·19민주이념을 계승하고, 조국의 민주개혁과 평화적 통일의 사명에 입각하여 정의·인도와 동포애로써 민족의 단결을 공고히 하고, 모든 사회적 폐습과 불의를 타파하며, 자율과 조화를 바탕으로 자유민주적 기본질서를 더욱 확고히 하여 정치·경제·사회·문화의 모든 영역에 있어서 각인의 기회를 균등히 하고, 능력을 최고도로 발휘하게 하며, 자유와 권리에 따르는 책임과 의무를 완수하게 하여, 안으로는 국민생활의 균등한 향상을 기하고 밖으로는 항구적인 세계평화와 인류공영에 이바지함으로써 우리들과 우리들의 자손의 안전과 자유와 행복을 영원히 확보할 것을 다짐하면서 1948년 7월 12일에 제정되고 8차에 걸쳐 개정된 헌법을 이제 국회의 의결을 거쳐 국민투표에 의하여 개정한다.\n",
            "[#3] 0.8022904256467334\n",
            "제99조 감사원은 세입·세출의 결산을 매년 검사하여 대통령과 차년도국회에 그 결과를 보고하여야 한다.\n",
            " A I > 대한민국의 총선은 4년마다 실시됩니다. 이는 대통령 선거와는 다른 주기이며, 국회의원 선거인 총선은 대한민국의 법령에 따라 매 4년마다 열립니다.\n",
            "[('제2조 ① 이 헌법에 의한 최초의 대통령선거는 이 헌법시행일 40일 전까지 실시한다.\\n② 이 헌법에 의한 최초의 대통령의 임기는 이 헌법시행일로부터 개시한다.', 0.8686939774736318), ('제67조 ① 대통령은 국민의 보통·평등·직접·비밀선거에 의하여 선출한다.\\n② 제1항의 선거에 있어서 최고득표자가 2인 이상인 때에는 국회의 재적의원 과반수가 출석한 공개회의에서 다수표를 얻은 자를 당선자로 한다.\\n③ 대통령후보자가 1인일 때에는 그 득표수가 선거권자 총수의 3분의 1 이상이 아니면 대통령으로 당선될 수 없다.\\n④ 대통령으로 선거될 수 있는 자는 국회의원의 피선거권이 있고 선거일 현재 40세에 달하여야 한다.\\n⑤ 대통령의 선거에 관한 사항은 법률로 정한다.', 0.8651780101555157), ('제68조 ① 대통령의 임기가 만료되는 때에는 임기만료 70일 내지 40일전에 후임자를 선거한다.\\n② 대통령이 궐위된 때 또는 대통령 당선자가 사망하거나 판결 기타의 사유로 그 자격을 상실한 때에는 60일 이내에 후임자를 선거한다.', 0.8635210132012079), ('제7장 선거관리', 0.854710089578079)]\n",
            "[#0] 0.8686939774736318\n",
            "제2조 ① 이 헌법에 의한 최초의 대통령선거는 이 헌법시행일 40일 전까지 실시한다.\n",
            "② 이 헌법에 의한 최초의 대통령의 임기는 이 헌법시행일로부터 개시한다.\n",
            "[#1] 0.8651780101555157\n",
            "제67조 ① 대통령은 국민의 보통·평등·직접·비밀선거에 의하여 선출한다.\n",
            "② 제1항의 선거에 있어서 최고득표자가 2인 이상인 때에는 국회의 재적의원 과반수가 출석한 공개회의에서 다수표를 얻은 자를 당선자로 한다.\n",
            "③ 대통령후보자가 1인일 때에는 그 득표수가 선거권자 총수의 3분의 1 이상이 아니면 대통령으로 당선될 수 없다.\n",
            "④ 대통령으로 선거될 수 있는 자는 국회의원의 피선거권이 있고 선거일 현재 40세에 달하여야 한다.\n",
            "⑤ 대통령의 선거에 관한 사항은 법률로 정한다.\n",
            "[#2] 0.8635210132012079\n",
            "제68조 ① 대통령의 임기가 만료되는 때에는 임기만료 70일 내지 40일전에 후임자를 선거한다.\n",
            "② 대통령이 궐위된 때 또는 대통령 당선자가 사망하거나 판결 기타의 사유로 그 자격을 상실한 때에는 60일 이내에 후임자를 선거한다.\n",
            "[#3] 0.854710089578079\n",
            "제7장 선거관리\n",
            " A I > 대통령 선거는 5년마다 실시됩니다. 헌법 제2조, 제68조에 따르면 대통령의 임기는 5년이며, 임기가 만료되는 때에는 임기만료 70일 내지 40일 전에 후임자가 선출됩니다.\n",
            "[('제72조 대통령은 필요하다고 인정할 때에는 외교·국방·통일 기타 국가안위에 관한 중요정책을 국민투표에 붙일 수 있다.', 0.85930990080831), ('제73조 대통령은 조약을 체결·비준하고, 외교사절을 신임·접수 또는 파견하며, 선전포고와 강화를 한다.', 0.852403922054907), ('제65조 ① 대통령·국무총리·국무위원·행정각부의 장·헌법재판소 재판관·법관·중앙선거관리위원회 위원·감사원장·감사위원 기타 법률이 정한 공무원이 그 직무집행에 있어서 헌법이나 법률을 위배한 때에는 국회는 탄핵의 소추를 의결할 수 있다.\\n② 제1항의 탄핵소추는 국회재적의원 3분의 1 이상의 발의가 있어야 하며, 그 의결은 국회재적의원 과반수의 찬성이 있어야 한다. 다만, 대통령에 대한 탄핵소추는 국회재적의원 과반수의 발의와 국회재적의원 3분의 2 이상의 찬성이 있어야 한다.\\n③ 탄핵소추의 의결을 받은 자는 탄핵심판이 있을 때까지 그 권한행사가 정지된다.\\n④ 탄핵결정은 공직으로부터 파면함에 그친다. 그러나, 이에 의하여 민사상이나 형사상의 책임이 면제되지는 아니한다.', 0.8502253058108327), ('제80조 대통령은 법률이 정하는 바에 의하여 훈장 기타의 영전을 수여한다.\\n\\n제81조 대통령은 국회에 출석하여 발언하거나 서한으로 의견을 표시할 수 있다.', 0.8495457801997248)]\n",
            "[#0] 0.85930990080831\n",
            "제72조 대통령은 필요하다고 인정할 때에는 외교·국방·통일 기타 국가안위에 관한 중요정책을 국민투표에 붙일 수 있다.\n",
            "[#1] 0.852403922054907\n",
            "제73조 대통령은 조약을 체결·비준하고, 외교사절을 신임·접수 또는 파견하며, 선전포고와 강화를 한다.\n",
            "[#2] 0.8502253058108327\n",
            "제65조 ① 대통령·국무총리·국무위원·행정각부의 장·헌법재판소 재판관·법관·중앙선거관리위원회 위원·감사원장·감사위원 기타 법률이 정한 공무원이 그 직무집행에 있어서 헌법이나 법률을 위배한 때에는 국회는 탄핵의 소추를 의결할 수 있다.\n",
            "② 제1항의 탄핵소추는 국회재적의원 3분의 1 이상의 발의가 있어야 하며, 그 의결은 국회재적의원 과반수의 찬성이 있어야 한다. 다만, 대통령에 대한 탄핵소추는 국회재적의원 과반수의 발의와 국회재적의원 3분의 2 이상의 찬성이 있어야 한다.\n",
            "③ 탄핵소추의 의결을 받은 자는 탄핵심판이 있을 때까지 그 권한행사가 정지된다.\n",
            "④ 탄핵결정은 공직으로부터 파면함에 그친다. 그러나, 이에 의하여 민사상이나 형사상의 책임이 면제되지는 아니한다.\n",
            "[#3] 0.8495457801997248\n",
            "제80조 대통령은 법률이 정하는 바에 의하여 훈장 기타의 영전을 수여한다.\n",
            "\n",
            "제81조 대통령은 국회에 출석하여 발언하거나 서한으로 의견을 표시할 수 있다.\n",
            " A I > 대통령 탄핵 요건은 다음과 같습니다:\n",
            "- 대통령, 국무총리, 국무위원, 행정각부의 장, 헌법재판소 재판관, 법관, 중앙선거관리위원회 위원, 감사원장, 감사위원, 그리고 법률이 정한 공무원들이 헌법이나 법률을 위배한 경우\n",
            "- 국회에서 탄핵 소추안이 제출되어 국회 재적의원 3분의 1 이상의 발의가 있어야 하며, 그 의결은 국회 재적의원 과반수의 찬성이 있어야 함\n",
            "- 대통령의 경우에는 국회 재적의원 과반수의 발의와 국회 재적의원 3분의 2 이상의 찬성이 필요\n",
            "\n",
            "탄핵 소추의 의결을 받은 자는 탄핵심판이 있을 때까지 권한행사가 중지되며, 탄핵결정은 해당 공직으로부터 파면됨을 의미합니다.\n"
          ]
        }
      ],
      "source": [
        "def chat_with_user(user_message):\n",
        "    ai_message = chain.invoke(user_message)\n",
        "    return ai_message\n",
        "\n",
        "while True:\n",
        "    user_message = input(\"USER > \")\n",
        "    if user_message.lower() == \"quit\":\n",
        "        break\n",
        "    ai_message = chat_with_user(user_message)\n",
        "    print(f\" A I > {ai_message}\")"
      ]
    },
    {
      "cell_type": "code",
      "execution_count": null,
      "metadata": {
        "id": "T41j1-pbch3J"
      },
      "outputs": [],
      "source": [
        "retriever = db.as_retriever(k=3)\n",
        "chain = SimpleRetrievalQA(retriever)\n",
        "answer = chain.invoke(\"대통령의 임기는?\")\n",
        "\n",
        "print(\">> \", answer)"
      ]
    },
    {
      "cell_type": "markdown",
      "metadata": {
        "id": "bT2jhROlTfyg"
      },
      "source": [
        "# 로컬 임베딩 모델"
      ]
    },
    {
      "cell_type": "code",
      "execution_count": null,
      "metadata": {
        "id": "fSePE_HOcOh9"
      },
      "outputs": [],
      "source": [
        "import langchain\n",
        "from langchain.embeddings import HuggingFaceEmbeddings"
      ]
    },
    {
      "cell_type": "code",
      "execution_count": null,
      "metadata": {
        "id": "ZtdPYQMfb5L8"
      },
      "outputs": [],
      "source": [
        "raw_documents = SimpleTextLoader('korea_constitution.txt').load()\n",
        "text_splitter = SimpleCharacterTextSplitter(chunk_size=10, chunk_overlap=0)\n",
        "documents = text_splitter.split_documents(raw_documents)\n",
        "\n",
        "embed_model = HuggingFaceEmbeddings(model_name=\"jhgan/ko-sbert-sts\")\n",
        "print(embed_model)\n",
        "db = SimpleVectorStore(documents, embed_model)"
      ]
    },
    {
      "cell_type": "code",
      "execution_count": null,
      "metadata": {
        "id": "XVzRCZF7cdUP"
      },
      "outputs": [],
      "source": [
        "query = \"대통령의 임기는?\"\n",
        "docs = db.similarity_search(query)"
      ]
    },
    {
      "cell_type": "code",
      "execution_count": null,
      "metadata": {
        "id": "-cIVwnhPdr4a"
      },
      "outputs": [],
      "source": [
        "docs"
      ]
    },
    {
      "cell_type": "code",
      "execution_count": null,
      "metadata": {
        "id": "yIRvE7aYkRS2"
      },
      "outputs": [],
      "source": [
        "retriever = db.as_retriever(k=5)\n",
        "chain = SimpleRetrievalQA(retriever)\n",
        "answer = chain.invoke(\"대통령의 임기는?\")\n",
        "\n",
        "print(\">> \", answer)"
      ]
    },
    {
      "cell_type": "code",
      "execution_count": null,
      "metadata": {
        "id": "kvTr3lKaTvq-"
      },
      "outputs": [],
      "source": [
        "def chat_with_user(user_message):\n",
        "    ai_message = chain.invoke(user_message)\n",
        "    return ai_message\n",
        "\n",
        "while True:\n",
        "    user_message = input(\"USER > \")\n",
        "    if user_message.lower() == \"quit\":\n",
        "        break\n",
        "    ai_message = chat_with_user(user_message)\n",
        "    print(f\" A I > {ai_message}\")"
      ]
    },
    {
      "cell_type": "markdown",
      "metadata": {
        "id": "1f5ss3BNUdfA"
      },
      "source": [
        "# 다른 검색기 사용하기"
      ]
    },
    {
      "cell_type": "code",
      "execution_count": null,
      "metadata": {
        "id": "Y6q60AI-Uft-"
      },
      "outputs": [],
      "source": [
        "!pip install duckduckgo-search"
      ]
    },
    {
      "cell_type": "code",
      "execution_count": null,
      "metadata": {
        "id": "x9v7K8bJVkiM"
      },
      "outputs": [],
      "source": [
        "from duckduckgo_search import DDGS\n",
        "\n",
        "with DDGS() as ddgs:\n",
        "    results = [r for r in ddgs.text(\"2024 small llm?\", max_results=5)]\n",
        "\n",
        "print(results)"
      ]
    },
    {
      "cell_type": "code",
      "execution_count": null,
      "metadata": {
        "id": "ZaA9vra-Urwv"
      },
      "outputs": [],
      "source": [
        "import numpy as np\n",
        "from sklearn.metrics.pairwise import cosine_similarity\n",
        "\n",
        "class SimpleWebSearch:\n",
        "    def __init__(self, docs=None, embedding=None):\n",
        "        self.documents = []\n",
        "\n",
        "    def similarity_search(self, query, k=4):\n",
        "        docs = []\n",
        "\n",
        "        with DDGS() as ddgs:\n",
        "            results = [r for r in ddgs.text(query, max_results=k)]\n",
        "\n",
        "        for result in results:\n",
        "            doc = (result['title'] + \":\" + result['body'] + \" - \" + result['href'], 0.0)\n",
        "            docs.append(doc)\n",
        "\n",
        "        return docs\n",
        "\n",
        "    def as_retriever(self, k=4):\n",
        "        return SimpleRetriever(self, k)"
      ]
    },
    {
      "cell_type": "code",
      "execution_count": null,
      "metadata": {
        "id": "RBQI81exXZhm"
      },
      "outputs": [],
      "source": [
        "sws = SimpleWebSearch()\n",
        "web_retriever = sws.as_retriever()\n",
        "chain = SimpleRetrievalQA(web_retriever)\n",
        "answer = chain.invoke(\"What is the latest model created by OpenAI?\")\n",
        "\n",
        "print(\">> \", answer)"
      ]
    }
  ],
  "metadata": {
    "colab": {
      "provenance": [],
      "include_colab_link": true
    },
    "kernelspec": {
      "display_name": "Python 3",
      "name": "python3"
    },
    "language_info": {
      "name": "python"
    }
  },
  "nbformat": 4,
  "nbformat_minor": 0
}